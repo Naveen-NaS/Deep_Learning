{
 "cells": [
  {
   "cell_type": "markdown",
   "id": "8c8afbf8-24fb-411b-b43f-a9d65c615481",
   "metadata": {},
   "source": [
    "# **Tensors**"
   ]
  },
  {
   "cell_type": "markdown",
   "id": "398c8b4b-cca6-4b44-a129-d0f35e79fe53",
   "metadata": {
    "jp-MarkdownHeadingCollapsed": true
   },
   "source": [
    "## **1. Introduction**"
   ]
  },
  {
   "cell_type": "markdown",
   "id": "7079efc4-6625-415d-8665-908025edf9d8",
   "metadata": {},
   "source": [
    "**A tensor is a multi-dimensional array that is a fundamental data structure used to represent data. Tensors generalize matrices to higher dimensions and are essential for managing and manipulating the complex data structures used in neural networks. Here’s a brief overview of tensors:**\n",
    "\n",
    "* **_Scalars (0-D tensors):_ These are single numbers, such as 5 or 3.14.**\n",
    "\n",
    "* **_Vectors (1-D tensors):_ These are one-dimensional arrays of numbers. For example, [1,2,3] is a 1-D tensor.**\n",
    "\n",
    "* **_Matrices (2-D tensors):_ These are two-dimensional arrays of numbers. For example: [[1,2,3], [4,5,6], [7,8,9]] is a 2-D tensor.**\n",
    "\n",
    "* **_Higher-Dimensional Tensors:_ These are arrays with more than two dimensions. For instance, a 3-D tensor could be a collection of matrices (e.g., a batch of images), and a 4-D tensor might represent a batch of images with multiple channels (such as RGB color channels).**"
   ]
  },
  {
   "cell_type": "markdown",
   "id": "5237bd9b-d8eb-467d-bea7-9e4c58b9ec92",
   "metadata": {
    "jp-MarkdownHeadingCollapsed": true
   },
   "source": [
    "### **Basic Declaration and Defining**"
   ]
  },
  {
   "cell_type": "code",
   "execution_count": 1,
   "id": "59a42225-cc96-4ad9-842a-e36b01a3d8ef",
   "metadata": {},
   "outputs": [],
   "source": [
    "# Importing tensor\n",
    "import tensorflow as tf\n",
    "import numpy as np"
   ]
  },
  {
   "cell_type": "markdown",
   "id": "d4c068e5-b035-41eb-ac68-82124840c016",
   "metadata": {},
   "source": [
    "> **0-D Tensor**"
   ]
  },
  {
   "cell_type": "code",
   "execution_count": 2,
   "id": "da96d1a9-1f27-4189-aedf-bf3f418bb7dc",
   "metadata": {},
   "outputs": [
    {
     "name": "stdout",
     "output_type": "stream",
     "text": [
      "tf.Tensor(5, shape=(), dtype=int32)\n"
     ]
    }
   ],
   "source": [
    "tensor_zero_d = tf.constant(5)\n",
    "print(tensor_zero_d)"
   ]
  },
  {
   "cell_type": "markdown",
   "id": "6e2947fa-4fa3-4983-abdf-2b23570b50ef",
   "metadata": {},
   "source": [
    "> **1-D Tensor**"
   ]
  },
  {
   "cell_type": "code",
   "execution_count": 3,
   "id": "0e8f1284-3997-4cbf-9961-e4eb56a04fc0",
   "metadata": {},
   "outputs": [
    {
     "name": "stdout",
     "output_type": "stream",
     "text": [
      "tf.Tensor([1 2 3 4 5], shape=(5,), dtype=int32)\n"
     ]
    }
   ],
   "source": [
    "tensor_one_d = tf.constant([1,2,3,4,5])\n",
    "print(tensor_one_d)"
   ]
  },
  {
   "cell_type": "markdown",
   "id": "054e75c8-c6ad-42ee-bc44-1acf5be3e1a6",
   "metadata": {},
   "source": [
    "> **2-D Tensor**"
   ]
  },
  {
   "cell_type": "code",
   "execution_count": 4,
   "id": "4df4f43b-e3c4-4c61-b941-0d156e473728",
   "metadata": {},
   "outputs": [
    {
     "name": "stdout",
     "output_type": "stream",
     "text": [
      "tf.Tensor(\n",
      "[[1 2 3]\n",
      " [4 5 6]\n",
      " [7 8 9]], shape=(3, 3), dtype=int32)\n"
     ]
    }
   ],
   "source": [
    "tensor_two_d = tf.constant([\n",
    "    [1,2,3],\n",
    "    [4,5,6],\n",
    "    [7,8,9]\n",
    "])\n",
    "print(tensor_two_d)"
   ]
  },
  {
   "cell_type": "markdown",
   "id": "db4139e2-b465-4de5-86e9-514b1147aabc",
   "metadata": {},
   "source": [
    "> **3-D Tensor**"
   ]
  },
  {
   "cell_type": "code",
   "execution_count": 5,
   "id": "3cfd9b86-e158-4357-a692-d642c7eedcf5",
   "metadata": {},
   "outputs": [
    {
     "name": "stdout",
     "output_type": "stream",
     "text": [
      "tf.Tensor(\n",
      "[[[ 1  0  1]\n",
      "  [ 2 -1  3]]\n",
      "\n",
      " [[ 3  4  1]\n",
      "  [ 7  2  0]]\n",
      "\n",
      " [[ 6 -5  2]\n",
      "  [ 9 -2  0]]\n",
      "\n",
      " [[-1  5  0]\n",
      "  [ 3  0  9]]], shape=(4, 2, 3), dtype=int32)\n"
     ]
    }
   ],
   "source": [
    "tensor_three_d = tf.constant([\n",
    "    [\n",
    "        [1,0,1],\n",
    "        [2,-1,3]\n",
    "    ],\n",
    "    [\n",
    "        [3,4,1],\n",
    "        [7,2,0]\n",
    "    ],\n",
    "    [\n",
    "        [6,-5,2],\n",
    "        [9,-2,0]\n",
    "    ],\n",
    "    [\n",
    "        [-1,5,0],\n",
    "        [3,0,9]\n",
    "    ]\n",
    "])\n",
    "print(tensor_three_d)"
   ]
  },
  {
   "cell_type": "code",
   "execution_count": 6,
   "id": "dea495cc-1180-44df-98b1-4d3586f9725f",
   "metadata": {},
   "outputs": [
    {
     "data": {
      "text/plain": [
       "TensorShape([3, 3])"
      ]
     },
     "execution_count": 6,
     "metadata": {},
     "output_type": "execute_result"
    }
   ],
   "source": [
    "# To check shape\n",
    "tensor_two_d.shape"
   ]
  },
  {
   "cell_type": "code",
   "execution_count": 7,
   "id": "8588fd28-d11d-47e3-b3ca-cf1974bbae62",
   "metadata": {},
   "outputs": [
    {
     "data": {
      "text/plain": [
       "3"
      ]
     },
     "execution_count": 7,
     "metadata": {},
     "output_type": "execute_result"
    }
   ],
   "source": [
    "# To check dimension\n",
    "tensor_three_d.ndim"
   ]
  },
  {
   "cell_type": "markdown",
   "id": "cda22b02-916c-4530-bc6b-1a276fb2fe54",
   "metadata": {},
   "source": [
    "> **4-D Tensor**"
   ]
  },
  {
   "cell_type": "markdown",
   "id": "40a67bde-15cc-4820-b209-977d47426bfc",
   "metadata": {},
   "source": [
    "**Like 3-D tensor we need multiple 3-D tensors to enclose in a tensor to make 4-D tensor, and so on...**"
   ]
  },
  {
   "cell_type": "code",
   "execution_count": 8,
   "id": "9b63e23e-1b01-44b7-8575-7cd4623d1c41",
   "metadata": {},
   "outputs": [
    {
     "name": "stdout",
     "output_type": "stream",
     "text": [
      "tf.Tensor(\n",
      "[[[[   1    2    0]\n",
      "   [   3    5   -1]]\n",
      "\n",
      "  [[  10    2    0]\n",
      "   [   1    0    2]]\n",
      "\n",
      "  [[   5    8    0]\n",
      "   [   2    7    0]]\n",
      "\n",
      "  [[   2    1    9]\n",
      "   [   4   -3   32]]]\n",
      "\n",
      "\n",
      " [[[  13   26    0]\n",
      "   [   3    5  -12]]\n",
      "\n",
      "  [[  10    2    0]\n",
      "   [   1    0   23]]\n",
      "\n",
      "  [[   5    8    0]\n",
      "   [   2   73    0]]\n",
      "\n",
      "  [[   2    1    9]\n",
      "   [   4  -30   32]]]\n",
      "\n",
      "\n",
      " [[[ 103   26    0]\n",
      "   [   3   50  -12]]\n",
      "\n",
      "  [[ 100    2    0]\n",
      "   [   1    0   23]]\n",
      "\n",
      "  [[   5   28    0]\n",
      "   [   2    3    0]]\n",
      "\n",
      "  [[  22    1    9]\n",
      "   [  44 -320   32]]]], shape=(3, 4, 2, 3), dtype=int32)\n"
     ]
    }
   ],
   "source": [
    "tensor_four_d = tf.constant([\n",
    "\n",
    "[\n",
    "    [[1,2,0],\n",
    "    [3,5,-1]],\n",
    "\n",
    "    [[10,2,0],\n",
    "    [1,0,2]],\n",
    "\n",
    "    [[5,8,0],\n",
    "    [2,7,0]],\n",
    "\n",
    "    [[2,1,9],\n",
    "    [4,-3,32]],\n",
    "\n",
    "],\n",
    "\n",
    "[\n",
    "    [[13,26,0],\n",
    "    [3,5,-12]],\n",
    "\n",
    "    [[10,2,0],\n",
    "    [1,0,23]],\n",
    "\n",
    "    [[5,8,0],\n",
    "    [2,73,0]],\n",
    "\n",
    "    [[2,1,9],\n",
    "    [4,-30,32]],\n",
    "\n",
    "],\n",
    "\n",
    "[\n",
    "    [[103,26,0],\n",
    "    [3,50,-12]],\n",
    "\n",
    "    [[100,2,0],\n",
    "    [1,0,23]],\n",
    "\n",
    "    [[5,28,0],\n",
    "    [2,3,0]],\n",
    "\n",
    "    [[22,1,9],\n",
    "    [44,-320,32]],\n",
    "\n",
    "],\n",
    "\n",
    "])\n",
    "print(tensor_four_d)"
   ]
  },
  {
   "cell_type": "markdown",
   "id": "66d43c12-8ef4-4111-8188-8b8619810b4d",
   "metadata": {
    "jp-MarkdownHeadingCollapsed": true
   },
   "source": [
    "### **Setting data type of tensors**"
   ]
  },
  {
   "cell_type": "markdown",
   "id": "d52c3283-b0cd-4dc0-a2d5-bdb8670bc921",
   "metadata": {},
   "source": [
    "**We can see various datatypes from here : https://www.tensorflow.org/api_docs/python/tf/dtypes/DType**"
   ]
  },
  {
   "cell_type": "code",
   "execution_count": 9,
   "id": "7b6f1038-5ea8-4c80-9086-42b9b7482beb",
   "metadata": {},
   "outputs": [
    {
     "name": "stdout",
     "output_type": "stream",
     "text": [
      "tf.Tensor([1. 2. 3.], shape=(3,), dtype=float32)\n"
     ]
    }
   ],
   "source": [
    "# To set data type we use \"DType\"\n",
    "tensor_one_d = tf.constant([1,2,3.])\n",
    "print(tensor_one_d)"
   ]
  },
  {
   "cell_type": "code",
   "execution_count": 10,
   "id": "4c8a8ebe-7f10-4e53-baeb-79e697496369",
   "metadata": {},
   "outputs": [
    {
     "name": "stdout",
     "output_type": "stream",
     "text": [
      "tf.Tensor([1. 2. 3.], shape=(3,), dtype=float16)\n"
     ]
    }
   ],
   "source": [
    "# Now by-default it's setting float32 but using \"DType\" we can set it to float16 or double, etc.\n",
    "tensor_one_d = tf.constant([1,2,3.], dtype=tf.float16)\n",
    "print(tensor_one_d)"
   ]
  },
  {
   "cell_type": "markdown",
   "id": "40aa7d17-be4f-4ac5-a028-79071d1142e4",
   "metadata": {
    "jp-MarkdownHeadingCollapsed": true
   },
   "source": [
    "### **Tensor Casting**\n",
    "* **\"Casting\" refers to the process of converting a tensor from one data type to another. This is also known as type casting or data type conversion. Casting is important because different operations in deep learning may require tensors to be in specific data types for compatibility and computational efficiency.**"
   ]
  },
  {
   "cell_type": "code",
   "execution_count": 11,
   "id": "33e9050d-c47e-40f8-b2d9-1bf77df7d6ba",
   "metadata": {},
   "outputs": [
    {
     "name": "stdout",
     "output_type": "stream",
     "text": [
      "tf.Tensor([ 1.  0.  2.  3.  4.  0. -5.  6.], shape=(8,), dtype=float32)\n"
     ]
    }
   ],
   "source": [
    "tensor1 = tf.constant([1, 0, 2, 3, 4, 0.0, -5, 6])\n",
    "print(tensor1)"
   ]
  },
  {
   "cell_type": "code",
   "execution_count": 12,
   "id": "8b5bcc6b-16b9-480f-9c27-91ac039d2718",
   "metadata": {},
   "outputs": [
    {
     "name": "stdout",
     "output_type": "stream",
     "text": [
      "tf.Tensor([ 1  0  2  3  4  0 -5  6], shape=(8,), dtype=int32)\n"
     ]
    }
   ],
   "source": [
    "# Casting float32 to int32\n",
    "tensor1_int = tf.cast(tensor1, dtype=\"int32\")\n",
    "print(tensor1_int)"
   ]
  },
  {
   "cell_type": "code",
   "execution_count": 13,
   "id": "f901ca72-5e39-4c97-9d9a-648003cd058a",
   "metadata": {},
   "outputs": [
    {
     "name": "stdout",
     "output_type": "stream",
     "text": [
      "tf.Tensor([ True False  True  True  True False  True  True], shape=(8,), dtype=bool)\n"
     ]
    }
   ],
   "source": [
    "# Casting float32 to boolean\n",
    "tensor1_bool = tf.cast(tensor1, dtype=bool)\n",
    "print(tensor1_bool)"
   ]
  },
  {
   "cell_type": "markdown",
   "id": "4e5f9de4-6266-4603-b513-1a387cf76ff2",
   "metadata": {
    "jp-MarkdownHeadingCollapsed": true
   },
   "source": [
    "### **Numpy array to Tensor**\n",
    "* **We can convert a NumPy array to a TensorFlow tensor using the tf.convert_to_tensor function**"
   ]
  },
  {
   "cell_type": "code",
   "execution_count": 14,
   "id": "3a966ff2-43fe-4441-889e-ed0dbe4dd7ae",
   "metadata": {},
   "outputs": [
    {
     "name": "stdout",
     "output_type": "stream",
     "text": [
      "[1 2 3 4 5]\n"
     ]
    }
   ],
   "source": [
    "numpy_array = np.array([1, 2, 3, 4, 5])\n",
    "print(numpy_array)"
   ]
  },
  {
   "cell_type": "code",
   "execution_count": 15,
   "id": "904a06bc-2586-4275-ad6b-bc00b2c3c18c",
   "metadata": {},
   "outputs": [
    {
     "name": "stdout",
     "output_type": "stream",
     "text": [
      "tf.Tensor([1 2 3 4 5], shape=(5,), dtype=int32)\n"
     ]
    }
   ],
   "source": [
    "tensor_from_numpy_arr = tf.convert_to_tensor(numpy_array)\n",
    "print(tensor_from_numpy_arr)"
   ]
  },
  {
   "cell_type": "markdown",
   "id": "1b869d99-504e-465d-b3f1-84f2b7b6f274",
   "metadata": {
    "jp-MarkdownHeadingCollapsed": true
   },
   "source": [
    "### **Indentity Tensor**\n",
    "* **An identity tensor is a generalization of the identity matrix to higher dimensions. In the context of tensors, the identity tensor often refers to a tensor that acts like an identity matrix in specific operations, meaning it has ones on the diagonal and zeros elsewhere.**\n",
    "\n",
    "* **In deep learning libraries like TensorFlow and PyTorch, the identity tensor is often created in the context of square matrices (2-D tensors).**\n",
    "\n",
    "* **For more : https://www.tensorflow.org/api_docs/python/tf/eye**"
   ]
  },
  {
   "cell_type": "code",
   "execution_count": 16,
   "id": "addb119e-8b70-485e-9310-1e2f2e8f01d7",
   "metadata": {},
   "outputs": [
    {
     "name": "stdout",
     "output_type": "stream",
     "text": [
      "tf.Tensor(\n",
      "[[1. 0. 0.]\n",
      " [0. 1. 0.]\n",
      " [0. 0. 1.]], shape=(3, 3), dtype=float32)\n"
     ]
    }
   ],
   "source": [
    "eye_tensor = tf.eye(\n",
    "    num_rows=3,\n",
    "    num_columns=None,\n",
    "    batch_shape=None,\n",
    "    dtype=tf.dtypes.float32,\n",
    "    name=None\n",
    ")\n",
    "print(eye_tensor)"
   ]
  },
  {
   "cell_type": "code",
   "execution_count": 17,
   "id": "7b598275-322d-4e87-94a2-dc24058d6041",
   "metadata": {},
   "outputs": [
    {
     "name": "stdout",
     "output_type": "stream",
     "text": [
      "tf.Tensor(\n",
      "[[3. 0. 0.]\n",
      " [0. 3. 0.]\n",
      " [0. 0. 3.]], shape=(3, 3), dtype=float32)\n"
     ]
    }
   ],
   "source": [
    "print(3*eye_tensor)"
   ]
  },
  {
   "cell_type": "code",
   "execution_count": 18,
   "id": "1df273db-8dc7-4731-8760-c6fecc3dd59c",
   "metadata": {},
   "outputs": [
    {
     "name": "stdout",
     "output_type": "stream",
     "text": [
      "tf.Tensor(\n",
      "[[ True False False]\n",
      " [False  True False]\n",
      " [False False  True]], shape=(3, 3), dtype=bool)\n"
     ]
    }
   ],
   "source": [
    "eye_tensor_bool = tf.eye(\n",
    "    num_rows=3,\n",
    "    num_columns=None,\n",
    "    batch_shape=None,\n",
    "    dtype=tf.dtypes.bool,\n",
    "    name=None\n",
    ")\n",
    "print(eye_tensor_bool)"
   ]
  },
  {
   "cell_type": "code",
   "execution_count": 19,
   "id": "07ad8a1f-4fe0-414d-998e-35435c9df47b",
   "metadata": {},
   "outputs": [
    {
     "name": "stdout",
     "output_type": "stream",
     "text": [
      "tf.Tensor(\n",
      "[[[1. 0. 0.]\n",
      "  [0. 1. 0.]\n",
      "  [0. 0. 1.]]\n",
      "\n",
      " [[1. 0. 0.]\n",
      "  [0. 1. 0.]\n",
      "  [0. 0. 1.]]\n",
      "\n",
      " [[1. 0. 0.]\n",
      "  [0. 1. 0.]\n",
      "  [0. 0. 1.]]], shape=(3, 3, 3), dtype=float32)\n"
     ]
    }
   ],
   "source": [
    "# We can also the set the batch shape to make 2d or 3d or higher dimensional eye tensor\n",
    "eye_tensor = tf.eye(\n",
    "    num_rows=3,\n",
    "    num_columns=None,\n",
    "    batch_shape=[3,],\n",
    "    dtype=tf.dtypes.float32,\n",
    "    name=None\n",
    ")\n",
    "print(eye_tensor)"
   ]
  },
  {
   "cell_type": "markdown",
   "id": "260528da-4809-4d89-af10-173c02c4fb04",
   "metadata": {
    "jp-MarkdownHeadingCollapsed": true
   },
   "source": [
    "## **2. Some Important Functions**"
   ]
  },
  {
   "cell_type": "markdown",
   "id": "e5b09c5d-41bc-45a4-8a48-a480e35b8589",
   "metadata": {
    "jp-MarkdownHeadingCollapsed": true
   },
   "source": [
    "### **tf.fill**\n",
    "* **\"fill\" refers to the operation of populating a tensor with a specific value. This operation is useful when you need to initialize tensors with a constant value, such as zeros, ones, or any other specific value.**\n",
    "* **For more : https://www.tensorflow.org/api_docs/python/tf/fill**"
   ]
  },
  {
   "cell_type": "code",
   "execution_count": 20,
   "id": "9ddfe1b1-5a05-42bb-8d2d-316c1a07034d",
   "metadata": {},
   "outputs": [
    {
     "name": "stdout",
     "output_type": "stream",
     "text": [
      "tf.Tensor(\n",
      "[[5 5 5 5]\n",
      " [5 5 5 5]\n",
      " [5 5 5 5]], shape=(3, 4), dtype=int32)\n"
     ]
    }
   ],
   "source": [
    "fill_tensor = tf.fill(\n",
    "    dims=[3,4], value=5, name=None, layout=None\n",
    ")\n",
    "print(fill_tensor)"
   ]
  },
  {
   "cell_type": "markdown",
   "id": "39b05cec-d6fb-411d-b052-ddd42acaee47",
   "metadata": {},
   "source": [
    "***"
   ]
  },
  {
   "cell_type": "markdown",
   "id": "45cd7c32-3522-4010-a5a4-2f28adf386e2",
   "metadata": {
    "jp-MarkdownHeadingCollapsed": true
   },
   "source": [
    "### **tf.ones**\n",
    "* **It's similiar to \"fill\" but we not pass here any value as by default it fills with value=1**\n",
    "* **For more : https://www.tensorflow.org/api_docs/python/tf/ones**"
   ]
  },
  {
   "cell_type": "code",
   "execution_count": 21,
   "id": "b85875ad-8c6e-4819-8692-827bf2d2e4d9",
   "metadata": {},
   "outputs": [
    {
     "name": "stdout",
     "output_type": "stream",
     "text": [
      "tf.Tensor(\n",
      "[[1. 1. 1. 1.]\n",
      " [1. 1. 1. 1.]\n",
      " [1. 1. 1. 1.]], shape=(3, 4), dtype=float32)\n"
     ]
    }
   ],
   "source": [
    "onse_tensor = tf.ones(\n",
    "    shape=[3,4],\n",
    "    dtype=tf.dtypes.float32,\n",
    "    name=None,\n",
    "    layout=None\n",
    ")\n",
    "print(onse_tensor)"
   ]
  },
  {
   "cell_type": "markdown",
   "id": "615ec4b6-1cc3-4549-9edf-47986794e0c8",
   "metadata": {},
   "source": [
    "***"
   ]
  },
  {
   "cell_type": "markdown",
   "id": "d2645c79-98a4-4532-837c-d4c099b5d378",
   "metadata": {
    "jp-MarkdownHeadingCollapsed": true
   },
   "source": [
    "### **tf.ones_like**\n",
    "* **\"tf.ones_like\" is a function that returns a tensor filled with ones, with the same shape and type as a given input tensor.**\n",
    "* **In input we also pass a tensor to it.**\n",
    "* **For more : https://www.tensorflow.org/api_docs/python/tf/ones_like**"
   ]
  },
  {
   "cell_type": "code",
   "execution_count": 22,
   "id": "b444f2be-f0fe-490e-9993-ea3d109fff12",
   "metadata": {},
   "outputs": [
    {
     "name": "stdout",
     "output_type": "stream",
     "text": [
      "This is fill tensor :  tf.Tensor(\n",
      "[[5 5 5 5]\n",
      " [5 5 5 5]\n",
      " [5 5 5 5]], shape=(3, 4), dtype=int32) \n",
      "\n",
      "This is ones like tensor made from fill tensor :  tf.Tensor(\n",
      "[[1 1 1 1]\n",
      " [1 1 1 1]\n",
      " [1 1 1 1]], shape=(3, 4), dtype=int32)\n"
     ]
    }
   ],
   "source": [
    "ones_like_tensor = tf.ones_like(fill_tensor)\n",
    "print(\"This is fill tensor : \", fill_tensor, \"\\n\") \n",
    "print(\"This is ones like tensor made from fill tensor : \", ones_like_tensor)"
   ]
  },
  {
   "cell_type": "markdown",
   "id": "077059a0-477a-42d9-997f-1e0b0716478f",
   "metadata": {},
   "source": [
    "***"
   ]
  },
  {
   "cell_type": "markdown",
   "id": "3c95bd4b-31d1-47ef-bfea-7fb3975196ff",
   "metadata": {
    "jp-MarkdownHeadingCollapsed": true
   },
   "source": [
    "### **tf.zeros**\n",
    "* **This is similar to \"tf.ones\", it'll just set the value equal to zero.**\n",
    "* **For more : https://www.tensorflow.org/api_docs/python/tf/zeros**"
   ]
  },
  {
   "cell_type": "code",
   "execution_count": 23,
   "id": "2ae6185a-d9dc-4790-9abf-9f54a61d03d6",
   "metadata": {},
   "outputs": [
    {
     "name": "stdout",
     "output_type": "stream",
     "text": [
      "tf.Tensor(\n",
      "[[0. 0. 0.]\n",
      " [0. 0. 0.]\n",
      " [0. 0. 0.]\n",
      " [0. 0. 0.]], shape=(4, 3), dtype=float32)\n"
     ]
    }
   ],
   "source": [
    "zeros_tensor = tf.zeros(\n",
    "    shape=[4,3],\n",
    "    dtype=tf.dtypes.float32,\n",
    "    name=None,\n",
    "    layout=None\n",
    ")\n",
    "print(zeros_tensor)"
   ]
  },
  {
   "cell_type": "code",
   "execution_count": 24,
   "id": "7bd2149e-3f1f-4f25-965f-c4ab96a4a038",
   "metadata": {},
   "outputs": [
    {
     "name": "stdout",
     "output_type": "stream",
     "text": [
      "tf.Tensor(\n",
      "[[0 0 0]\n",
      " [0 0 0]\n",
      " [0 0 0]\n",
      " [0 0 0]], shape=(4, 3), dtype=int32)\n"
     ]
    }
   ],
   "source": [
    "zeros_tensor = tf.zeros(\n",
    "    shape=[4,3],\n",
    "    dtype=tf.dtypes.int32,\n",
    "    name=None,\n",
    "    layout=None\n",
    ")\n",
    "print(zeros_tensor)"
   ]
  },
  {
   "cell_type": "markdown",
   "id": "d3a69bee-a26b-47b8-9885-dc0d52ae3788",
   "metadata": {},
   "source": [
    "***"
   ]
  },
  {
   "cell_type": "markdown",
   "id": "b5d9e089-b22c-461c-a3b6-df0ed4c9eaeb",
   "metadata": {
    "jp-MarkdownHeadingCollapsed": true
   },
   "source": [
    "### **tf.shape**\n",
    "* **Returns a tensor containing the shape of the input tensor.**\n",
    "* **\"tf.shape\" returns a 1-D integer tensor representing the shape of input. For a scalar input, the tensor returned has a shape of (0,) and its value is the empty vector (i.e. []).**\n",
    "* **For more : https://www.tensorflow.org/api_docs/python/tf/shape**"
   ]
  },
  {
   "cell_type": "code",
   "execution_count": 25,
   "id": "35b32f49-fba6-4b8b-a82d-a92c40a882ae",
   "metadata": {},
   "outputs": [
    {
     "data": {
      "text/plain": [
       "<tf.Tensor: shape=(1,), dtype=int32, numpy=array([3])>"
      ]
     },
     "execution_count": 25,
     "metadata": {},
     "output_type": "execute_result"
    }
   ],
   "source": [
    "tf.shape(tensor_one_d)"
   ]
  },
  {
   "cell_type": "code",
   "execution_count": 26,
   "id": "d4deb407-8b51-4e7f-9365-fb718a8d96e7",
   "metadata": {},
   "outputs": [
    {
     "data": {
      "text/plain": [
       "<tf.Tensor: shape=(2,), dtype=int32, numpy=array([3, 3])>"
      ]
     },
     "execution_count": 26,
     "metadata": {},
     "output_type": "execute_result"
    }
   ],
   "source": [
    "tf.shape(tensor_two_d)"
   ]
  },
  {
   "cell_type": "code",
   "execution_count": 27,
   "id": "66da3444-0930-48fa-93cf-d60a889b9844",
   "metadata": {},
   "outputs": [
    {
     "data": {
      "text/plain": [
       "<tf.Tensor: shape=(3,), dtype=int32, numpy=array([4, 2, 3])>"
      ]
     },
     "execution_count": 27,
     "metadata": {},
     "output_type": "execute_result"
    }
   ],
   "source": [
    "tf.shape(tensor_three_d)"
   ]
  },
  {
   "cell_type": "code",
   "execution_count": 28,
   "id": "ef8003ca-111a-4635-8fbb-a9c26e44ebd0",
   "metadata": {},
   "outputs": [
    {
     "data": {
      "text/plain": [
       "<tf.Tensor: shape=(4,), dtype=int32, numpy=array([3, 4, 2, 3])>"
      ]
     },
     "execution_count": 28,
     "metadata": {},
     "output_type": "execute_result"
    }
   ],
   "source": [
    "tf.shape(tensor_four_d)"
   ]
  },
  {
   "cell_type": "markdown",
   "id": "7a8e1b78-89ce-453f-a19a-b222dc64c8d7",
   "metadata": {},
   "source": [
    "***"
   ]
  },
  {
   "cell_type": "markdown",
   "id": "fd055240-405f-469e-9075-0f4f85dc90c7",
   "metadata": {
    "jp-MarkdownHeadingCollapsed": true
   },
   "source": [
    "### **tf.size**\n",
    "* **Returns the size of a tensor.**\n",
    "* **Returns a 0-D Tensor representing the number of elements in input of type out_type. Defaults to tf.int32.**\n",
    "* **For more : https://www.tensorflow.org/api_docs/python/tf/size**"
   ]
  },
  {
   "cell_type": "code",
   "execution_count": 29,
   "id": "8839e711-7444-4631-962a-c7577d356539",
   "metadata": {},
   "outputs": [
    {
     "data": {
      "text/plain": [
       "<tf.Tensor: shape=(), dtype=int32, numpy=3>"
      ]
     },
     "execution_count": 29,
     "metadata": {},
     "output_type": "execute_result"
    }
   ],
   "source": [
    "tf.size(tensor_one_d)"
   ]
  },
  {
   "cell_type": "code",
   "execution_count": 30,
   "id": "a5b955e3-8778-4deb-9975-e18b5beb5f3a",
   "metadata": {},
   "outputs": [
    {
     "data": {
      "text/plain": [
       "<tf.Tensor: shape=(), dtype=int32, numpy=9>"
      ]
     },
     "execution_count": 30,
     "metadata": {},
     "output_type": "execute_result"
    }
   ],
   "source": [
    "tf.size(tensor_two_d)"
   ]
  },
  {
   "cell_type": "code",
   "execution_count": 31,
   "id": "e4026947-2484-43ef-9ead-d5884a08f947",
   "metadata": {},
   "outputs": [
    {
     "data": {
      "text/plain": [
       "<tf.Tensor: shape=(), dtype=int32, numpy=24>"
      ]
     },
     "execution_count": 31,
     "metadata": {},
     "output_type": "execute_result"
    }
   ],
   "source": [
    "tf.size(tensor_three_d)"
   ]
  },
  {
   "cell_type": "code",
   "execution_count": 32,
   "id": "a9efa177-533a-4e03-b35f-fe2eb6e2d6b3",
   "metadata": {},
   "outputs": [
    {
     "data": {
      "text/plain": [
       "<tf.Tensor: shape=(), dtype=int32, numpy=72>"
      ]
     },
     "execution_count": 32,
     "metadata": {},
     "output_type": "execute_result"
    }
   ],
   "source": [
    "tf.size(tensor_four_d)"
   ]
  },
  {
   "cell_type": "markdown",
   "id": "a1d27d42-aae1-4b62-bfea-fefb100b784c",
   "metadata": {},
   "source": [
    "***"
   ]
  },
  {
   "cell_type": "markdown",
   "id": "f1efd3f3-18cf-4318-9e37-fbbd30aadf64",
   "metadata": {
    "jp-MarkdownHeadingCollapsed": true
   },
   "source": [
    "### **tf.rank**\n",
    "* **Returns the rank of a tensor.**\n",
    "* **Returns a 0-D int32 Tensor representing the rank of input.**\n",
    "* **For more : https://www.tensorflow.org/api_docs/python/tf/rank**"
   ]
  },
  {
   "cell_type": "code",
   "execution_count": 33,
   "id": "f71698bd-4bb0-40c9-b2c1-11730585bb9c",
   "metadata": {},
   "outputs": [
    {
     "data": {
      "text/plain": [
       "<tf.Tensor: shape=(), dtype=int32, numpy=1>"
      ]
     },
     "execution_count": 33,
     "metadata": {},
     "output_type": "execute_result"
    }
   ],
   "source": [
    "tf.rank(tensor_one_d)"
   ]
  },
  {
   "cell_type": "code",
   "execution_count": 34,
   "id": "4c9dfb72-442d-4d2a-b05f-70bfc390acac",
   "metadata": {},
   "outputs": [
    {
     "data": {
      "text/plain": [
       "<tf.Tensor: shape=(), dtype=int32, numpy=2>"
      ]
     },
     "execution_count": 34,
     "metadata": {},
     "output_type": "execute_result"
    }
   ],
   "source": [
    "tf.rank(tensor_two_d)"
   ]
  },
  {
   "cell_type": "code",
   "execution_count": 35,
   "id": "d61b325b-7c0f-42ed-8c63-1134e88fd796",
   "metadata": {},
   "outputs": [
    {
     "data": {
      "text/plain": [
       "<tf.Tensor: shape=(), dtype=int32, numpy=3>"
      ]
     },
     "execution_count": 35,
     "metadata": {},
     "output_type": "execute_result"
    }
   ],
   "source": [
    "tf.rank(tensor_three_d)"
   ]
  },
  {
   "cell_type": "code",
   "execution_count": 36,
   "id": "e5222fbb-d27a-457f-ac67-a771a6de5d78",
   "metadata": {},
   "outputs": [
    {
     "data": {
      "text/plain": [
       "<tf.Tensor: shape=(), dtype=int32, numpy=4>"
      ]
     },
     "execution_count": 36,
     "metadata": {},
     "output_type": "execute_result"
    }
   ],
   "source": [
    "tf.rank(tensor_four_d)"
   ]
  },
  {
   "cell_type": "markdown",
   "id": "9686dd99-9fdf-4d67-987f-082955d96119",
   "metadata": {},
   "source": [
    "***"
   ]
  },
  {
   "cell_type": "markdown",
   "id": "f137852c-0da7-4860-8d0a-9ba1ca7108bb",
   "metadata": {
    "jp-MarkdownHeadingCollapsed": true
   },
   "source": [
    "## **3. Creating Random Valued Tensors**"
   ]
  },
  {
   "cell_type": "markdown",
   "id": "0c4b493f-b735-4308-8de0-ec921e3e65ab",
   "metadata": {
    "jp-MarkdownHeadingCollapsed": true
   },
   "source": [
    "### **tf.random.normal**"
   ]
  },
  {
   "cell_type": "markdown",
   "id": "2e35c0b8-656f-44af-af29-71d2b2559195",
   "metadata": {},
   "source": [
    "* **Returns a tensor of the specified shape filled with random normal values.**\n",
    "* **Outputs random values from a normal distribution.**\n",
    "* **_mean :_ A Tensor or Python value of type dtype, broadcastable with stddev. The mean of the normal distribution.**\n",
    "* **_stddev (Standard Deviation) :_ A Tensor or Python value of type dtype, broadcastable with mean. The standard deviation of the normal distribution.**\n",
    "* **Fro more : |https://www.tensorflow.org/api_docs/python/tf/random/normal**"
   ]
  },
  {
   "cell_type": "code",
   "execution_count": 37,
   "id": "fc97a5e2-85c5-4b4f-be59-4c5ddbd8daa4",
   "metadata": {},
   "outputs": [
    {
     "name": "stdout",
     "output_type": "stream",
     "text": [
      "tf.Tensor(\n",
      "[[ 0.7480005   0.05603437]\n",
      " [ 0.21195279  0.18341482]\n",
      " [-0.555881   -0.5978521 ]], shape=(3, 2), dtype=float32)\n"
     ]
    }
   ],
   "source": [
    "random_tensor = tf.random.normal(\n",
    "    [3,2],\n",
    "    mean=0.0,\n",
    "    stddev=1.0,\n",
    "    dtype=tf.dtypes.float32,\n",
    "    seed=None,\n",
    "    name=None\n",
    ")\n",
    "print(random_tensor)"
   ]
  },
  {
   "cell_type": "markdown",
   "id": "55d63375-19d7-46bd-9ab9-29fa52f1049c",
   "metadata": {},
   "source": [
    "**The above values are very close to 0 because the mean is set to zero, if we inc./dec. the mean the values also gets inc./dec.**"
   ]
  },
  {
   "cell_type": "code",
   "execution_count": 38,
   "id": "c8d360e9-8b8e-4245-844f-82fd0c8d1785",
   "metadata": {},
   "outputs": [
    {
     "name": "stdout",
     "output_type": "stream",
     "text": [
      "tf.Tensor(\n",
      "[[ 97.42652  100.19453 ]\n",
      " [ 99.355774 100.77633 ]\n",
      " [ 99.47559  101.031685]], shape=(3, 2), dtype=float32)\n"
     ]
    }
   ],
   "source": [
    "random_tensor = tf.random.normal(\n",
    "    [3,2],\n",
    "    mean=100.0,\n",
    "    stddev=1.0,\n",
    "    dtype=tf.dtypes.float32,\n",
    "    seed=None,\n",
    "    name=None\n",
    ")\n",
    "print(random_tensor)"
   ]
  },
  {
   "attachments": {
    "d2f15446-21d3-47bc-8b3e-627e06de6dd8.png": {
     "image/png": "[encoded data removed]"
    }
   },
   "cell_type": "markdown",
   "id": "28eb1186-88a1-47a8-9254-8f25fd568996",
   "metadata": {},
   "source": [
    "![image.png](attachment:d2f15446-21d3-47bc-8b3e-627e06de6dd8.png)\n",
    "\n",
    "**Visit this website to analyze the normal distribution curve to understand the probability of choosing a random value and mean & Standard deviation relationship : https://www.acsu.buffalo.edu/~adamcunn/probability/normal.html**"
   ]
  },
  {
   "cell_type": "markdown",
   "id": "29a6ae88-5da9-41ac-b6d2-1a28a4bb50da",
   "metadata": {},
   "source": [
    "***"
   ]
  },
  {
   "cell_type": "markdown",
   "id": "da66c33a-7146-4f6d-8950-cf686d4f8abb",
   "metadata": {
    "jp-MarkdownHeadingCollapsed": true
   },
   "source": [
    "### **tf.random.uniform**"
   ]
  },
  {
   "cell_type": "markdown",
   "id": "ecef2101-1a67-4f5e-ad03-461c320106f5",
   "metadata": {},
   "source": [
    "* **Outputs random values from a uniform distribution.**\n",
    "* **The generated values follow a uniform distribution in the range [minval, maxval). The lower bound minval is included in the range, while the upper bound maxval is excluded.**\n",
    "* **For floats, the default range is [0, 1). For ints, at least maxval must be specified explicitly.**\n",
    "* **In the integer case, the random integers are slightly biased unless maxval - minval is an exact power of two. The bias is small for values of maxval - minval significantly smaller than the range of the output (either 2**32 or 2**64).**\n",
    "* **For more : https://www.tensorflow.org/api_docs/python/tf/random/uniform**"
   ]
  },
  {
   "cell_type": "code",
   "execution_count": 39,
   "id": "0092e271-8486-45f4-ad03-7b32f5dac2e9",
   "metadata": {},
   "outputs": [
    {
     "name": "stdout",
     "output_type": "stream",
     "text": [
      "tf.Tensor(\n",
      "[[0.39812922 0.05315459]\n",
      " [0.04962587 0.3587209 ]\n",
      " [0.2932905  0.26290953]], shape=(3, 2), dtype=float32)\n"
     ]
    }
   ],
   "source": [
    "random_tensor_uni = tf.random.uniform(\n",
    "    [3,2],\n",
    "    minval=0,\n",
    "    maxval=None,\n",
    "    dtype=tf.dtypes.float32,\n",
    "    seed=None,\n",
    "    name=None\n",
    ")\n",
    "print(random_tensor_uni)"
   ]
  },
  {
   "cell_type": "markdown",
   "id": "5d39858b-511c-4de0-82f0-9481dbf175d0",
   "metadata": {},
   "source": [
    "**_minval :_ A Tensor or Python value of type dtype, broadcastable with shape (for integer types, broadcasting is not supported, so it needs to be a scalar). The lower bound on the range of random values to generate (inclusive). Defaults to 0.**\n",
    "\n",
    "**_maxval :_ A Tensor or Python value of type dtype, broadcastable with shape (for integer types, broadcasting is not supported, so it needs to be a scalar). The upper bound on the range of random values to generate (exclusive). Defaults to 1 if dtype is floating point.**"
   ]
  },
  {
   "cell_type": "code",
   "execution_count": 40,
   "id": "43bb2ea6-3e5c-42bb-937b-96bf9224e6f3",
   "metadata": {},
   "outputs": [
    {
     "name": "stdout",
     "output_type": "stream",
     "text": [
      "tf.Tensor(\n",
      "[[10.686577 41.995968]\n",
      " [17.101097 31.896305]\n",
      " [19.536484 41.942406]], shape=(3, 2), dtype=float32)\n"
     ]
    }
   ],
   "source": [
    "# Let's change max value\n",
    "random_tensor_uni = tf.random.uniform(\n",
    "    [3,2],\n",
    "    minval=0,\n",
    "    maxval=100,\n",
    "    dtype=tf.dtypes.float32,\n",
    "    seed=None,\n",
    "    name=None\n",
    ")\n",
    "print(random_tensor_uni)"
   ]
  },
  {
   "attachments": {
    "9ce0c432-2223-4ed5-99e6-36a3c27d5b11.png": {
     "image/png": "[encoded data removed]"
    }
   },
   "cell_type": "markdown",
   "id": "1fd7e348-b005-433c-a411-0f90960a6edd",
   "metadata": {},
   "source": [
    "![image.png](attachment:9ce0c432-2223-4ed5-99e6-36a3c27d5b11.png)\n",
    "\n",
    "**Visit this website to analyze the Uniform distribution plot to understand the probability of choosing a random value and Min value & Max value relationship : https://www.acsu.buffalo.edu/~adamcunn/probability/uniform.html**"
   ]
  },
  {
   "cell_type": "markdown",
   "id": "58f33108-c312-491e-9f1a-79a959e00a4e",
   "metadata": {
    "jp-MarkdownHeadingCollapsed": true
   },
   "source": [
    "## **4. Indexing**\n",
    "* **Indexing in tensors allows to access and manipulate elements within the tensor.**"
   ]
  },
  {
   "cell_type": "markdown",
   "id": "9c143625-23a2-44f9-ad61-260f99963952",
   "metadata": {
    "jp-MarkdownHeadingCollapsed": true
   },
   "source": [
    "### **0-Dimensional Tensors**\n",
    "* **A 0-dimensional tensor is a scalar. So we can directly access it.**"
   ]
  },
  {
   "cell_type": "code",
   "execution_count": 41,
   "id": "f0ba1356-19c3-4661-a1dc-d45f970383a2",
   "metadata": {},
   "outputs": [
    {
     "name": "stdout",
     "output_type": "stream",
     "text": [
      "tf.Tensor([1 2 3 4 5], shape=(5,), dtype=int32)\n",
      "tf.Tensor(1, shape=(), dtype=int32)\n",
      "1\n",
      "tf.Tensor([2 3 4], shape=(3,), dtype=int32)\n",
      "[2 3 4]\n"
     ]
    }
   ],
   "source": [
    "tensor = tf.constant([1, 2, 3, 4, 5])\n",
    "print(tensor)\n",
    "\n",
    "print(tensor[0]) \n",
    "print(tensor[0].numpy())\n",
    "\n",
    "# Here outer value in range is exclusive\n",
    "print(tensor[1:4])\n",
    "# Return the actual value\n",
    "print(tensor[1:4].numpy())"
   ]
  },
  {
   "cell_type": "markdown",
   "id": "34ef8e68-a3a8-42fd-992c-e03072b63f2f",
   "metadata": {},
   "source": [
    "***"
   ]
  },
  {
   "cell_type": "markdown",
   "id": "c7cd1b0e-4ead-41c7-b559-a1af33373f58",
   "metadata": {
    "jp-MarkdownHeadingCollapsed": true
   },
   "source": [
    "### **2-Dimensional Tensors**"
   ]
  },
  {
   "cell_type": "code",
   "execution_count": 42,
   "id": "990a59cd-7364-45c9-9093-737e704a0253",
   "metadata": {},
   "outputs": [
    {
     "name": "stdout",
     "output_type": "stream",
     "text": [
      "tf.Tensor(1, shape=(), dtype=int32)\n",
      "1\n"
     ]
    }
   ],
   "source": [
    "matrix = tf.constant([[1, 2, 3], [4, 5, 6], [7, 8, 9]])\n",
    "\n",
    "# Accessing elements\n",
    "print(matrix[0, 0])\n",
    "print(matrix[0, 0].numpy())"
   ]
  },
  {
   "cell_type": "code",
   "execution_count": 43,
   "id": "66831322-6880-4bef-92e7-4ea1dea5eb2e",
   "metadata": {},
   "outputs": [
    {
     "name": "stdout",
     "output_type": "stream",
     "text": [
      "tf.Tensor(6, shape=(), dtype=int32)\n",
      "6\n"
     ]
    }
   ],
   "source": [
    "print(matrix[1, 2])\n",
    "\n",
    "print(matrix[1, 2].numpy())"
   ]
  },
  {
   "cell_type": "code",
   "execution_count": 44,
   "id": "0c0e2b3e-1c51-4788-bcbf-037737760742",
   "metadata": {},
   "outputs": [
    {
     "name": "stdout",
     "output_type": "stream",
     "text": [
      "tf.Tensor([2 5 8], shape=(3,), dtype=int32)\n",
      "[2 5 8]\n"
     ]
    }
   ],
   "source": [
    "# Slicing\n",
    "print(matrix[:, 1])\n",
    "\n",
    "print(matrix[:, 1].numpy())"
   ]
  },
  {
   "cell_type": "code",
   "execution_count": 45,
   "id": "689082a1-b2c9-4698-939d-74e08cf8f7f8",
   "metadata": {},
   "outputs": [
    {
     "name": "stdout",
     "output_type": "stream",
     "text": [
      "tf.Tensor([4 5 6], shape=(3,), dtype=int32)\n",
      "[4 5 6]\n"
     ]
    }
   ],
   "source": [
    "print(matrix[1, :])\n",
    "\n",
    "print(matrix[1, :].numpy())"
   ]
  },
  {
   "cell_type": "markdown",
   "id": "8798aebb-2426-4a72-93d8-251d5dc29b92",
   "metadata": {},
   "source": [
    "***"
   ]
  },
  {
   "cell_type": "markdown",
   "id": "6647995d-e3fd-4d70-9adb-fe37ecee03b4",
   "metadata": {
    "jp-MarkdownHeadingCollapsed": true
   },
   "source": [
    "### **3-Dimensional Tensors**"
   ]
  },
  {
   "cell_type": "code",
   "execution_count": 46,
   "id": "d58693cf-11dd-4b82-b403-f4c84a1479d0",
   "metadata": {},
   "outputs": [
    {
     "name": "stdout",
     "output_type": "stream",
     "text": [
      "tf.Tensor(\n",
      "[[[ 1  2  3]\n",
      "  [ 4  5  6]]\n",
      "\n",
      " [[ 7  8  9]\n",
      "  [10 11 12]]], shape=(2, 2, 3), dtype=int32)\n"
     ]
    }
   ],
   "source": [
    "tensor_3d = tf.constant([\n",
    "    [\n",
    "        [1, 2, 3],\n",
    "        [4, 5, 6]\n",
    "    ], \n",
    "    [\n",
    "        [7, 8, 9],\n",
    "        [10, 11, 12]\n",
    "    ]\n",
    "])\n",
    "print(tensor_3d)"
   ]
  },
  {
   "cell_type": "code",
   "execution_count": 47,
   "id": "44bb7661-0985-4a85-90ff-2aa9545707d7",
   "metadata": {},
   "outputs": [
    {
     "name": "stdout",
     "output_type": "stream",
     "text": [
      "tf.Tensor(6, shape=(), dtype=int32)\n",
      "6\n"
     ]
    }
   ],
   "source": [
    "# Accessing elements\n",
    "print(tensor_3d[0, 1, 2])\n",
    "\n",
    "print(tensor_3d[0, 1, 2].numpy())"
   ]
  },
  {
   "cell_type": "code",
   "execution_count": 48,
   "id": "b5f6bd7f-e5ba-4845-bbd7-9bc3fad7914e",
   "metadata": {},
   "outputs": [
    {
     "name": "stdout",
     "output_type": "stream",
     "text": [
      "tf.Tensor(8, shape=(), dtype=int32)\n",
      "8\n"
     ]
    }
   ],
   "source": [
    "print(tensor_3d[1, 0, 1])\n",
    "\n",
    "print(tensor_3d[1, 0, 1].numpy())"
   ]
  },
  {
   "cell_type": "code",
   "execution_count": 49,
   "id": "78f1761e-f8cd-4d8b-92b3-fe5c5d093529",
   "metadata": {},
   "outputs": [
    {
     "name": "stdout",
     "output_type": "stream",
     "text": [
      "tf.Tensor(\n",
      "[[1 2 3]\n",
      " [7 8 9]], shape=(2, 3), dtype=int32)\n",
      "[[1 2 3]\n",
      " [7 8 9]]\n"
     ]
    }
   ],
   "source": [
    "# Slicing\n",
    "print(tensor_3d[:, 0, :])\n",
    "\n",
    "print(tensor_3d[:, 0, :].numpy())"
   ]
  },
  {
   "cell_type": "code",
   "execution_count": 50,
   "id": "62559a83-85ae-41d2-83ea-57bd56367288",
   "metadata": {},
   "outputs": [
    {
     "name": "stdout",
     "output_type": "stream",
     "text": [
      "tf.Tensor(\n",
      "[[ 2  5]\n",
      " [ 8 11]], shape=(2, 2), dtype=int32)\n",
      "[[ 2  5]\n",
      " [ 8 11]]\n"
     ]
    }
   ],
   "source": [
    "print(tensor_3d[:, :, 1])\n",
    "\n",
    "print(tensor_3d[:, :, 1].numpy())"
   ]
  },
  {
   "cell_type": "markdown",
   "id": "e5e835f8-3a11-4c50-bdde-7636cda8a4b7",
   "metadata": {},
   "source": [
    "***"
   ]
  },
  {
   "cell_type": "markdown",
   "id": "3cd620fa-1e09-40eb-bc27-9e2ff7a52a76",
   "metadata": {
    "jp-MarkdownHeadingCollapsed": true
   },
   "source": [
    "### **4-Dimensional Tensors**"
   ]
  },
  {
   "cell_type": "code",
   "execution_count": 51,
   "id": "fa7d71bd-6359-4921-9f60-443559ccf842",
   "metadata": {},
   "outputs": [
    {
     "name": "stdout",
     "output_type": "stream",
     "text": [
      "tf.Tensor(\n",
      "[[[[5 2]\n",
      "   [0 8]]\n",
      "\n",
      "  [[4 8]\n",
      "   [6 3]]]\n",
      "\n",
      "\n",
      " [[[8 5]\n",
      "   [1 1]]\n",
      "\n",
      "  [[1 2]\n",
      "   [6 5]]]], shape=(2, 2, 2, 2), dtype=int32)\n"
     ]
    }
   ],
   "source": [
    "tensor_4d = tf.random.uniform(\n",
    "    [2,2,2,2],\n",
    "    minval=0,\n",
    "    maxval=10,\n",
    "    dtype=tf.dtypes.int32,\n",
    "    seed=None,\n",
    "    name=None\n",
    ")\n",
    "print(tensor_4d)"
   ]
  },
  {
   "cell_type": "code",
   "execution_count": 52,
   "id": "b9c0208c-5648-4a1a-b97d-b97f6d0e9a26",
   "metadata": {},
   "outputs": [
    {
     "name": "stdout",
     "output_type": "stream",
     "text": [
      "tf.Tensor(5, shape=(), dtype=int32)\n",
      "5\n"
     ]
    }
   ],
   "source": [
    "# Accessing elements\n",
    "print(tensor_4d[0, 0, 0, 0])\n",
    "\n",
    "print(tensor_4d[0, 0, 0, 0].numpy())"
   ]
  },
  {
   "cell_type": "code",
   "execution_count": 53,
   "id": "605d2b5c-6fd8-4b2a-a95b-e9f4bcf58b71",
   "metadata": {},
   "outputs": [
    {
     "name": "stdout",
     "output_type": "stream",
     "text": [
      "tf.Tensor(5, shape=(), dtype=int32)\n",
      "5\n"
     ]
    }
   ],
   "source": [
    "print(tensor_4d[1, 1, 1, 1])\n",
    "\n",
    "print(tensor_4d[1, 1, 1, 1].numpy())"
   ]
  },
  {
   "cell_type": "code",
   "execution_count": 54,
   "id": "2385c7b3-093c-4e78-9aa5-fd0daa7c394a",
   "metadata": {},
   "outputs": [
    {
     "name": "stdout",
     "output_type": "stream",
     "text": [
      "tf.Tensor(\n",
      "[[5 2]\n",
      " [8 5]], shape=(2, 2), dtype=int32)\n",
      "[[5 2]\n",
      " [8 5]]\n"
     ]
    }
   ],
   "source": [
    "# Slicing\n",
    "print(tensor_4d[:, 0, 0, :])\n",
    "\n",
    "print(tensor_4d[:, 0, 0, :].numpy())"
   ]
  },
  {
   "cell_type": "code",
   "execution_count": 55,
   "id": "7b4bcd48-fa6d-41a2-bafe-f0baf0375e7c",
   "metadata": {},
   "outputs": [
    {
     "name": "stdout",
     "output_type": "stream",
     "text": [
      "tf.Tensor(\n",
      "[[2 8]\n",
      " [8 3]], shape=(2, 2), dtype=int32)\n",
      "[[2 8]\n",
      " [8 3]]\n"
     ]
    }
   ],
   "source": [
    "print(tensor_4d[0, :, :, 1])\n",
    "\n",
    "print(tensor_4d[0, :, :, 1].numpy())"
   ]
  },
  {
   "cell_type": "markdown",
   "id": "92be4efd-3c09-4e20-8493-168bc591b413",
   "metadata": {},
   "source": [
    "***"
   ]
  },
  {
   "cell_type": "markdown",
   "id": "050f0dcd-066f-4f2e-9132-11e818ee315d",
   "metadata": {
    "jp-MarkdownHeadingCollapsed": true
   },
   "source": [
    "## **5. Math Operations in TensorFlow**"
   ]
  },
  {
   "cell_type": "markdown",
   "id": "a3b18c22-b4bc-469a-bc10-deb3fb8664b6",
   "metadata": {
    "jp-MarkdownHeadingCollapsed": true
   },
   "source": [
    "### **tf.math.abs**\n",
    "* **Computes the absolute value of a tensor.**\n",
    "* **For more : https://www.tensorflow.org/api_docs/python/tf/math/abs**"
   ]
  },
  {
   "cell_type": "code",
   "execution_count": 56,
   "id": "a9329ceb-7b60-4ba7-a700-6a75cdebe1e6",
   "metadata": {},
   "outputs": [
    {
     "data": {
      "text/plain": [
       "<tf.Tensor: shape=(), dtype=int32, numpy=2>"
      ]
     },
     "execution_count": 56,
     "metadata": {},
     "output_type": "execute_result"
    }
   ],
   "source": [
    "# Make negative num to positive\n",
    "tensor = tf.constant(-2)\n",
    "tf.math.abs(tensor)"
   ]
  },
  {
   "cell_type": "code",
   "execution_count": 57,
   "id": "bc64c31b-50ba-40c1-abc4-408523631236",
   "metadata": {},
   "outputs": [
    {
     "data": {
      "text/plain": [
       "2"
      ]
     },
     "execution_count": 57,
     "metadata": {},
     "output_type": "execute_result"
    }
   ],
   "source": [
    "tf.math.abs(tensor).numpy()"
   ]
  },
  {
   "cell_type": "markdown",
   "id": "64473d83-f83b-4dad-9514-a42f9983e37d",
   "metadata": {},
   "source": [
    "* **Given a tensor of integer or floating-point values, this operation returns a tensor of the same type, where each element contains the absolute value of the corresponding element in the input.**\n",
    "* **Given a tensor x of complex numbers, this operation returns a tensor of type float32 or float64 that is the absolute value of each element in x. For a complex number (a + bj), its absolute value is computed as \n",
    "sqrt(a^2 + b^2).**"
   ]
  },
  {
   "cell_type": "code",
   "execution_count": 58,
   "id": "f6b349c5-db50-4c36-9722-666875ad17d4",
   "metadata": {},
   "outputs": [
    {
     "data": {
      "text/plain": [
       "<tf.Tensor: shape=(), dtype=float64, numpy=3.605551275463989>"
      ]
     },
     "execution_count": 58,
     "metadata": {},
     "output_type": "execute_result"
    }
   ],
   "source": [
    "tensor = tf.constant(2+3j)\n",
    "tf.math.abs(tensor)"
   ]
  },
  {
   "cell_type": "code",
   "execution_count": 59,
   "id": "8293db89-f1cd-4662-9e8b-8de2e6ec3b94",
   "metadata": {},
   "outputs": [
    {
     "data": {
      "text/plain": [
       "3.605551275463989"
      ]
     },
     "execution_count": 59,
     "metadata": {},
     "output_type": "execute_result"
    }
   ],
   "source": [
    "tf.math.abs(tensor).numpy()"
   ]
  },
  {
   "cell_type": "markdown",
   "id": "59473456-03a8-48bc-ad97-977a1248f602",
   "metadata": {},
   "source": [
    "***"
   ]
  },
  {
   "cell_type": "markdown",
   "id": "ace07e78-e775-44ec-a312-a4ebf502d9fc",
   "metadata": {
    "jp-MarkdownHeadingCollapsed": true
   },
   "source": [
    "### **tf.math.add**\n",
    "* **Returns x + y element-wise.**\n",
    "* **For more : https://www.tensorflow.org/api_docs/python/tf/math/add**"
   ]
  },
  {
   "cell_type": "code",
   "execution_count": 60,
   "id": "f8be6735-ffb2-4926-87b6-c258785a13c9",
   "metadata": {},
   "outputs": [
    {
     "data": {
      "text/plain": [
       "<tf.Tensor: shape=(3,), dtype=int32, numpy=array([5, 7, 9])>"
      ]
     },
     "execution_count": 60,
     "metadata": {},
     "output_type": "execute_result"
    }
   ],
   "source": [
    "x = tf.constant([1,2,3])\n",
    "y = tf.constant([4,5,6])\n",
    "\n",
    "tf.math.add(x, y)"
   ]
  },
  {
   "cell_type": "code",
   "execution_count": 61,
   "id": "379742e7-1cff-4597-ae16-ac7b2fafecfb",
   "metadata": {},
   "outputs": [
    {
     "data": {
      "text/plain": [
       "<tf.Tensor: shape=(3,), dtype=int32, numpy=array([5, 7, 9])>"
      ]
     },
     "execution_count": 61,
     "metadata": {},
     "output_type": "execute_result"
    }
   ],
   "source": [
    "# Binary + operator can be used instead:\n",
    "x + y"
   ]
  },
  {
   "cell_type": "code",
   "execution_count": 62,
   "id": "4879f7d7-63e4-42cb-a367-7bb7507c411e",
   "metadata": {},
   "outputs": [
    {
     "data": {
      "text/plain": [
       "<tf.Tensor: shape=(3,), dtype=int32, numpy=array([2, 3, 4])>"
      ]
     },
     "execution_count": 62,
     "metadata": {},
     "output_type": "execute_result"
    }
   ],
   "source": [
    "# Adding a scalar and a list:\n",
    "scalar = tf.constant(1)\n",
    "tf.math.add(x, scalar)"
   ]
  },
  {
   "cell_type": "markdown",
   "id": "22d6bc88-da27-4a26-8e3a-ebeca6a4a8d0",
   "metadata": {},
   "source": [
    "***"
   ]
  },
  {
   "cell_type": "markdown",
   "id": "8e633cc3-00ed-4306-b320-daece80b183b",
   "metadata": {
    "jp-MarkdownHeadingCollapsed": true
   },
   "source": [
    "### **tf.math.subtract**\n",
    "* **Returns x - y element-wise.**\n",
    "* **For more : https://www.tensorflow.org/api_docs/python/tf/math/subtract**"
   ]
  },
  {
   "cell_type": "code",
   "execution_count": 63,
   "id": "357fad83-f6e2-431f-9a38-6e40f46599dc",
   "metadata": {},
   "outputs": [
    {
     "data": {
      "text/plain": [
       "<tf.Tensor: shape=(3,), dtype=int32, numpy=array([-3, -3, -3])>"
      ]
     },
     "execution_count": 63,
     "metadata": {},
     "output_type": "execute_result"
    }
   ],
   "source": [
    "tf.math.subtract(x, y)"
   ]
  },
  {
   "cell_type": "code",
   "execution_count": 64,
   "id": "af0fcdcf-c638-46f7-8c63-4ea7e5218a4f",
   "metadata": {},
   "outputs": [
    {
     "data": {
      "text/plain": [
       "<tf.Tensor: shape=(3,), dtype=int32, numpy=array([-3, -3, -3])>"
      ]
     },
     "execution_count": 64,
     "metadata": {},
     "output_type": "execute_result"
    }
   ],
   "source": [
    "x - y"
   ]
  },
  {
   "cell_type": "markdown",
   "id": "7ff8b76c-19ea-43eb-95e3-d5c196df9d91",
   "metadata": {},
   "source": [
    "**It have similar operations like add.**\n",
    "***"
   ]
  },
  {
   "cell_type": "markdown",
   "id": "50bec6d4-96a7-43d5-89e9-c82ac17063a7",
   "metadata": {
    "jp-MarkdownHeadingCollapsed": true
   },
   "source": [
    "### **tf.math.multiply**\n",
    "* **Returns an element-wise x * y.**\n",
    "* **For more : https://www.tensorflow.org/api_docs/python/tf/math/multiply**"
   ]
  },
  {
   "cell_type": "code",
   "execution_count": 65,
   "id": "0b326f23-05fc-48b8-8595-37f0f461b208",
   "metadata": {},
   "outputs": [
    {
     "data": {
      "text/plain": [
       "<tf.Tensor: shape=(3,), dtype=int32, numpy=array([ 4, 10, 18])>"
      ]
     },
     "execution_count": 65,
     "metadata": {},
     "output_type": "execute_result"
    }
   ],
   "source": [
    "tf.math.multiply(x, y)"
   ]
  },
  {
   "cell_type": "code",
   "execution_count": 66,
   "id": "a497864e-a43f-4f56-94ec-5f4a169ab5a3",
   "metadata": {},
   "outputs": [
    {
     "data": {
      "text/plain": [
       "<tf.Tensor: shape=(3,), dtype=int32, numpy=array([ 4, 10, 18])>"
      ]
     },
     "execution_count": 66,
     "metadata": {},
     "output_type": "execute_result"
    }
   ],
   "source": [
    "x * y"
   ]
  },
  {
   "cell_type": "markdown",
   "id": "0408df94-fd13-4c4c-8684-7fff9d5de419",
   "metadata": {},
   "source": [
    "***"
   ]
  },
  {
   "cell_type": "markdown",
   "id": "9870ed7b-ab72-4afe-8406-edabcf9a8016",
   "metadata": {
    "jp-MarkdownHeadingCollapsed": true
   },
   "source": [
    "### **tf.math.divide**\n",
    "* **Computes Python style division of x by y.**\n",
    "* **For more : https://www.tensorflow.org/api_docs/python/tf/math/divide**"
   ]
  },
  {
   "cell_type": "code",
   "execution_count": 67,
   "id": "1ef4e6dc-64e2-458c-929a-ffadc9eb1044",
   "metadata": {},
   "outputs": [
    {
     "data": {
      "text/plain": [
       "<tf.Tensor: shape=(3,), dtype=float64, numpy=array([0.25, 0.4 , 0.5 ])>"
      ]
     },
     "execution_count": 67,
     "metadata": {},
     "output_type": "execute_result"
    }
   ],
   "source": [
    "tf.math.divide(x,y)"
   ]
  },
  {
   "cell_type": "code",
   "execution_count": 68,
   "id": "8604a9ed-a9b5-44b9-843a-b805c44c8219",
   "metadata": {},
   "outputs": [
    {
     "data": {
      "text/plain": [
       "<tf.Tensor: shape=(3,), dtype=float64, numpy=array([0.25, 0.4 , 0.5 ])>"
      ]
     },
     "execution_count": 68,
     "metadata": {},
     "output_type": "execute_result"
    }
   ],
   "source": [
    "x / y"
   ]
  },
  {
   "cell_type": "markdown",
   "id": "3882b336-6207-49b2-8689-8921893289d5",
   "metadata": {},
   "source": [
    "**On dividing with zero return infinity.**"
   ]
  },
  {
   "cell_type": "code",
   "execution_count": 69,
   "id": "40d9096f-c433-45cf-bdcd-0646a92ce5fd",
   "metadata": {},
   "outputs": [
    {
     "name": "stdout",
     "output_type": "stream",
     "text": [
      "tf.Tensor([inf inf inf], shape=(3,), dtype=float64)\n",
      "[inf inf inf]\n"
     ]
    }
   ],
   "source": [
    "scalar = tf.constant(0)\n",
    "print(tf.math.divide(x, scalar))\n",
    "print(tf.math.divide(x, scalar).numpy())"
   ]
  },
  {
   "cell_type": "markdown",
   "id": "70e59efc-5f47-4f09-a8e6-1c40605acd55",
   "metadata": {},
   "source": [
    "***"
   ]
  },
  {
   "cell_type": "markdown",
   "id": "d835cfdd-7b7b-4a9c-a232-4285c8dcfb24",
   "metadata": {},
   "source": [
    "### **tf.math.divide_no_nan**\n",
    "* **Computes a safe divide which returns 0 if y (denominator) is zero.**\n",
    "* **For more : https://www.tensorflow.org/api_docs/python/tf/math/divide_no_nan**"
   ]
  },
  {
   "cell_type": "markdown",
   "id": "bc60beb5-c340-4c3a-b603-ed23a23c4c3a",
   "metadata": {
    "jp-MarkdownHeadingCollapsed": true
   },
   "source": [
    "### **tf.math.maximum**\n",
    "* **Returns the max of x and y (i.e. x > y ? x : y) element-wise.**\n",
    "* **For more : https://www.tensorflow.org/api_docs/python/tf/math/maximum**"
   ]
  },
  {
   "cell_type": "code",
   "execution_count": 70,
   "id": "61e56f42-c632-47b3-a8b8-122b19e0a2fc",
   "metadata": {},
   "outputs": [
    {
     "data": {
      "text/plain": [
       "<tf.Tensor: shape=(3,), dtype=int32, numpy=array([4, 5, 6])>"
      ]
     },
     "execution_count": 70,
     "metadata": {},
     "output_type": "execute_result"
    }
   ],
   "source": [
    "tf.math.maximum(x,y)"
   ]
  },
  {
   "cell_type": "markdown",
   "id": "406f6de0-3d37-4418-92fe-5abbf1d7d90b",
   "metadata": {},
   "source": [
    "***"
   ]
  },
  {
   "cell_type": "markdown",
   "id": "5419de09-783c-4434-bf06-6e1056609d8d",
   "metadata": {
    "jp-MarkdownHeadingCollapsed": true
   },
   "source": [
    "### **tf.math.minimum**\n",
    "* **Returns the min of x and y (i.e. x < y ? x : y) element-wise.**\n",
    "* **For more : https://www.tensorflow.org/api_docs/python/tf/math/minimum**"
   ]
  },
  {
   "cell_type": "code",
   "execution_count": 71,
   "id": "2b3098e9-4086-4e3a-bb24-34fe18747f22",
   "metadata": {},
   "outputs": [
    {
     "data": {
      "text/plain": [
       "<tf.Tensor: shape=(3,), dtype=int32, numpy=array([1, 2, 3])>"
      ]
     },
     "execution_count": 71,
     "metadata": {},
     "output_type": "execute_result"
    }
   ],
   "source": [
    "tf.math.minimum(x, y)"
   ]
  },
  {
   "cell_type": "markdown",
   "id": "57309929-16f8-49d7-bc0c-08b61d83966f",
   "metadata": {
    "jp-MarkdownHeadingCollapsed": true
   },
   "source": [
    "### **tf.math.argmax**\n",
    "* **Returns the index with the largest value across axes of a tensor.**\n",
    "* **For more : https://www.tensorflow.org/api_docs/python/tf/math/argmax**    "
   ]
  },
  {
   "cell_type": "code",
   "execution_count": 72,
   "id": "fdab8e35-5c85-4cc7-b4e3-841aa306efc5",
   "metadata": {},
   "outputs": [
    {
     "data": {
      "text/plain": [
       "<tf.Tensor: shape=(), dtype=int64, numpy=2>"
      ]
     },
     "execution_count": 72,
     "metadata": {},
     "output_type": "execute_result"
    }
   ],
   "source": [
    "tf.math.argmax(\n",
    "    x,\n",
    "    axis=None,\n",
    "    output_type=tf.dtypes.int64,\n",
    "    name=None\n",
    ")"
   ]
  },
  {
   "cell_type": "markdown",
   "id": "1aebda56-15c2-49c5-a2ba-4296280fd0a5",
   "metadata": {},
   "source": [
    "* **For 2D or more dimensional tensor, we can also set the axis as per requirement.**\n",
    "* **_Axis :_\tAn integer, the axis to reduce across. Default to 0.**"
   ]
  },
  {
   "cell_type": "code",
   "execution_count": 73,
   "id": "d2e23046-5ffb-4b63-ad6b-432a740de9cb",
   "metadata": {},
   "outputs": [
    {
     "data": {
      "text/plain": [
       "<tf.Tensor: shape=(2, 3), dtype=int64, numpy=\n",
       "array([[2, 3, 2],\n",
       "       [2, 1, 3]], dtype=int64)>"
      ]
     },
     "execution_count": 73,
     "metadata": {},
     "output_type": "execute_result"
    }
   ],
   "source": [
    "tf.math.argmax(\n",
    "    tensor_three_d,\n",
    "    axis=None,\n",
    "    output_type=tf.dtypes.int64,\n",
    "    name=None\n",
    ")"
   ]
  },
  {
   "cell_type": "code",
   "execution_count": 74,
   "id": "28079c04-53e3-4d50-bebf-e927a6257d14",
   "metadata": {},
   "outputs": [
    {
     "data": {
      "text/plain": [
       "<tf.Tensor: shape=(4, 3), dtype=int64, numpy=\n",
       "array([[1, 0, 1],\n",
       "       [1, 0, 0],\n",
       "       [1, 1, 0],\n",
       "       [1, 0, 1]], dtype=int64)>"
      ]
     },
     "execution_count": 74,
     "metadata": {},
     "output_type": "execute_result"
    }
   ],
   "source": [
    "tf.math.argmax(\n",
    "    tensor_three_d,\n",
    "    axis=1,\n",
    "    output_type=tf.dtypes.int64,\n",
    "    name=None\n",
    ")"
   ]
  },
  {
   "cell_type": "markdown",
   "id": "45c43726-f7fd-4a16-bc16-a88362f37d6e",
   "metadata": {},
   "source": [
    "***"
   ]
  },
  {
   "cell_type": "markdown",
   "id": "9e597c09-4e02-4b7d-9a26-0ebad9ad6221",
   "metadata": {
    "jp-MarkdownHeadingCollapsed": true
   },
   "source": [
    "### **tf.math.argmin**\n",
    "* **Returns the index with the smallest value across axes of a tensor.**\n",
    "* **For more : https://www.tensorflow.org/api_docs/python/tf/math/argmin**"
   ]
  },
  {
   "cell_type": "code",
   "execution_count": 75,
   "id": "8550f0e3-0c1a-495f-94ba-5b1bdce98aea",
   "metadata": {},
   "outputs": [
    {
     "data": {
      "text/plain": [
       "<tf.Tensor: shape=(), dtype=int64, numpy=0>"
      ]
     },
     "execution_count": 75,
     "metadata": {},
     "output_type": "execute_result"
    }
   ],
   "source": [
    "tf.math.argmin(\n",
    "    x,\n",
    "    axis=None,\n",
    "    output_type=tf.dtypes.int64,\n",
    "    name=None\n",
    ")"
   ]
  },
  {
   "cell_type": "markdown",
   "id": "5cf0f8e7-d563-45ad-9f73-d453ac5b3d12",
   "metadata": {},
   "source": [
    "***"
   ]
  },
  {
   "cell_type": "markdown",
   "id": "73a07146-96be-4193-af64-4c335001bd4e",
   "metadata": {
    "jp-MarkdownHeadingCollapsed": true
   },
   "source": [
    "### **tf.math.equal**\n",
    "* **Returns the truth value of (x == y) element-wise.**\n",
    "* **For more : https://www.tensorflow.org/api_docs/python/tf/math/equal**"
   ]
  },
  {
   "cell_type": "code",
   "execution_count": 76,
   "id": "dd3cbda9-e57e-4b4e-88d6-76513cce1042",
   "metadata": {},
   "outputs": [
    {
     "data": {
      "text/plain": [
       "<tf.Tensor: shape=(3,), dtype=bool, numpy=array([False, False, False])>"
      ]
     },
     "execution_count": 76,
     "metadata": {},
     "output_type": "execute_result"
    }
   ],
   "source": [
    "tf.math.equal(x, y)"
   ]
  },
  {
   "cell_type": "markdown",
   "id": "15279cac-7cc6-4b48-b065-682ca78ab872",
   "metadata": {},
   "source": [
    "***"
   ]
  },
  {
   "cell_type": "markdown",
   "id": "aa35f690-c92e-4bea-b69c-d165766316f3",
   "metadata": {
    "jp-MarkdownHeadingCollapsed": true
   },
   "source": [
    "### **tf.math.reduce_max**\n",
    "* **Computes tf.math.maximum of elements across dimensions of a tensor.**\n",
    "* **For more : https://www.tensorflow.org/api_docs/python/tf/math/reduce_max**"
   ]
  },
  {
   "cell_type": "code",
   "execution_count": 77,
   "id": "fd46f8d9-0708-4942-a9aa-5963bd1ebf34",
   "metadata": {},
   "outputs": [
    {
     "data": {
      "text/plain": [
       "<tf.Tensor: shape=(), dtype=int32, numpy=3>"
      ]
     },
     "execution_count": 77,
     "metadata": {},
     "output_type": "execute_result"
    }
   ],
   "source": [
    "tf.math.reduce_max(\n",
    "    x, axis=None, keepdims=False, name=None\n",
    ")"
   ]
  },
  {
   "cell_type": "markdown",
   "id": "88691359-7a57-45d6-9e77-d35d7a11e60e",
   "metadata": {},
   "source": [
    "* **_input_tensor :_ The tensor to reduce. Should have real numeric type.**\n",
    "* **_Axis :_ The dimensions to reduce. If None (the default), reduces all dimensions. Must be in the range [-rank(input_tensor),rank(input_tensor)).**\n",
    "* **_keepdims :_ If true, retains reduced dimensions with length 1.**\n",
    "* **_name :_ A name for the operation (optional).**\n",
    "***"
   ]
  },
  {
   "cell_type": "markdown",
   "id": "a9e68d5c-073b-418c-864f-22680dc6b9a1",
   "metadata": {
    "jp-MarkdownHeadingCollapsed": true
   },
   "source": [
    "### **tf.math.reduce_min**\n",
    "* **Computes the tf.math.minimum of elements across dimensions of a tensor.**\n",
    "* **For more : https://www.tensorflow.org/api_docs/python/tf/math/reduce_min**"
   ]
  },
  {
   "cell_type": "code",
   "execution_count": 78,
   "id": "27afd72f-20d9-4ace-9614-f2d8dfdec02d",
   "metadata": {},
   "outputs": [
    {
     "data": {
      "text/plain": [
       "<tf.Tensor: shape=(), dtype=int32, numpy=1>"
      ]
     },
     "execution_count": 78,
     "metadata": {},
     "output_type": "execute_result"
    }
   ],
   "source": [
    "x = tf.constant([\n",
    "  [[1, 2], [3, 4]],\n",
    "  [[1, 2], [3, 4]]\n",
    "])\n",
    "tf.reduce_min(x)"
   ]
  },
  {
   "cell_type": "markdown",
   "id": "820c73b4-c31e-43ea-97f7-c1bd9877bf66",
   "metadata": {},
   "source": [
    "***"
   ]
  },
  {
   "cell_type": "markdown",
   "id": "1345164e-7e47-4590-be29-c844a78408d6",
   "metadata": {
    "jp-MarkdownHeadingCollapsed": true
   },
   "source": [
    "### **tf.math.top_k**\n",
    "* **Finds values and indices of the k largest entries for the last dimension.**\n",
    "* **For more : https://www.tensorflow.org/api_docs/python/tf/math/top_k**"
   ]
  },
  {
   "cell_type": "code",
   "execution_count": 79,
   "id": "6d04d239-3997-4a2f-b5a5-61bd9a4dd5ea",
   "metadata": {},
   "outputs": [
    {
     "data": {
      "text/plain": [
       "TopKV2(values=<tf.Tensor: shape=(2, 2, 1), dtype=int32, numpy=\n",
       "array([[[2],\n",
       "        [4]],\n",
       "\n",
       "       [[2],\n",
       "        [4]]])>, indices=<tf.Tensor: shape=(2, 2, 1), dtype=int32, numpy=\n",
       "array([[[1],\n",
       "        [1]],\n",
       "\n",
       "       [[1],\n",
       "        [1]]])>)"
      ]
     },
     "execution_count": 79,
     "metadata": {},
     "output_type": "execute_result"
    }
   ],
   "source": [
    "tf.math.top_k(\n",
    "    x,\n",
    "    k=1,\n",
    "    sorted=True,\n",
    "    index_type=tf.dtypes.int32,\n",
    "    name=None\n",
    ")"
   ]
  },
  {
   "cell_type": "markdown",
   "id": "6860850f-4148-481a-bd70-28c6bba6f300",
   "metadata": {},
   "source": [
    "***"
   ]
  },
  {
   "attachments": {
    "db578411-d7d1-4c78-9c96-0f2ca0655942.png": {
     "image/png": "[encoded data removed]"
    }
   },
   "cell_type": "markdown",
   "id": "28cc1dc6-49b5-4e1a-b126-af015f2e6699",
   "metadata": {
    "jp-MarkdownHeadingCollapsed": true
   },
   "source": [
    "### **tf.math.sigmoid**\n",
    "* **Computes sigmoid of x element-wise.**\n",
    "* **For more : https://www.tensorflow.org/api_docs/python/tf/math/sigmoid**\n",
    "  ![image.png](attachment:db578411-d7d1-4c78-9c96-0f2ca0655942.png)"
   ]
  },
  {
   "cell_type": "code",
   "execution_count": 80,
   "id": "3662fe5a-28cb-4434-aecf-d536fb86b6ad",
   "metadata": {},
   "outputs": [
    {
     "data": {
      "text/plain": [
       "<tf.Tensor: shape=(4,), dtype=float32, numpy=array([0.5      , 0.7310586, 1.       , 1.       ], dtype=float32)>"
      ]
     },
     "execution_count": 80,
     "metadata": {},
     "output_type": "execute_result"
    }
   ],
   "source": [
    "x = tf.constant([0.0, 1.0, 50.0, 100.0])\n",
    "tf.math.sigmoid(x)"
   ]
  },
  {
   "cell_type": "markdown",
   "id": "41e873a9-5a93-4d72-83bc-2414973a9875",
   "metadata": {},
   "source": [
    "***"
   ]
  },
  {
   "cell_type": "markdown",
   "id": "56cfdd82-428e-445b-b3a4-610acd36b665",
   "metadata": {
    "jp-MarkdownHeadingCollapsed": true
   },
   "source": [
    "## **6. Linear Algebra Operations in TensorFlow**"
   ]
  },
  {
   "cell_type": "markdown",
   "id": "ece7879e-dda7-41e9-a9a5-e4a5509efe7d",
   "metadata": {
    "jp-MarkdownHeadingCollapsed": true
   },
   "source": [
    "### **tf.linalg.matmul**\n",
    "* **Multiplies matrix a by matrix b, producing a * b.**\n",
    "* **For Multiplication number of column of matrix A must be eqaul to number of rows of matrix B**\n",
    "* **For more : https://www.tensorflow.org/api_docs/python/tf/linalg/matmul**"
   ]
  },
  {
   "cell_type": "code",
   "execution_count": 82,
   "id": "3a74470b-2588-43bd-923f-819c75221775",
   "metadata": {},
   "outputs": [
    {
     "name": "stdout",
     "output_type": "stream",
     "text": [
      "tf.Tensor(\n",
      "[[ 46  31]\n",
      " [106  71]], shape=(2, 2), dtype=int32)\n"
     ]
    }
   ],
   "source": [
    "a = tf.constant([\n",
    "    [1, 2, 3],\n",
    "    [3, 4, 7]\n",
    "])\n",
    "b = tf.constant([\n",
    "    [5, 6], \n",
    "    [7, 8],\n",
    "    [9, 3]\n",
    "])\n",
    "result = tf.linalg.matmul(a, b)\n",
    "print(result)"
   ]
  },
  {
   "cell_type": "markdown",
   "id": "598e3a10-df65-4753-a99c-a6c3b851c645",
   "metadata": {},
   "source": [
    "***"
   ]
  },
  {
   "cell_type": "markdown",
   "id": "60177f7c-d8aa-4457-acc8-b658cb9deb4b",
   "metadata": {
    "jp-MarkdownHeadingCollapsed": true
   },
   "source": [
    "### **tf.linalg.matrix_transpose**\n",
    "* **Transposes last two dimensions of tensor a.**\n",
    "* **For more : https://www.tensorflow.org/api_docs/python/tf/linalg/matrix_transpose**"
   ]
  },
  {
   "cell_type": "code",
   "execution_count": 84,
   "id": "ac15d2fc-68b9-4e96-bf08-1824120573d5",
   "metadata": {},
   "outputs": [
    {
     "name": "stdout",
     "output_type": "stream",
     "text": [
      "Matrix A : \n",
      "tf.Tensor(\n",
      "[[1 2 3]\n",
      " [3 4 7]], shape=(2, 3), dtype=int32)\n"
     ]
    }
   ],
   "source": [
    "print(\"Matrix A : \")\n",
    "print(a)"
   ]
  },
  {
   "cell_type": "code",
   "execution_count": 85,
   "id": "2fa57988-2d09-401d-856d-ebe4b7d8b4bd",
   "metadata": {},
   "outputs": [
    {
     "name": "stdout",
     "output_type": "stream",
     "text": [
      "Transpose of Matrix A :\n",
      "tf.Tensor(\n",
      "[[1 3]\n",
      " [2 4]\n",
      " [3 7]], shape=(3, 2), dtype=int32)\n"
     ]
    }
   ],
   "source": [
    "print(\"Transpose of Matrix A :\")\n",
    "print(tf.linalg.matrix_transpose(a))"
   ]
  },
  {
   "cell_type": "markdown",
   "id": "722d8fa0-26d4-4204-8fd9-b1647bd6cffc",
   "metadata": {},
   "source": [
    "***"
   ]
  },
  {
   "cell_type": "markdown",
   "id": "f93c65c1-d3d0-4a59-bec4-68c2a0149a26",
   "metadata": {
    "jp-MarkdownHeadingCollapsed": true
   },
   "source": [
    "### **tf.linalg.band_part**\n",
    "* **Copy a tensor setting everything outside a central band in each innermost matrix to zero.**\n",
    "* **It extracts the upper or lower triangular part of a matrix.**\n",
    "* **For more : https://www.tensorflow.org/api_docs/python/tf/linalg/band_part**"
   ]
  },
  {
   "attachments": {
    "c5f69e8d-7a68-4685-b200-00aa7d8a27cd.png": {
     "image/png": "[encoded data removed]"
    },
    "ee578f20-9581-4002-8513-d23a48f814cd.png": {
     "image/png": "[encoded data removed]"
    }
   },
   "cell_type": "markdown",
   "id": "8c1b1761-fb73-4fb7-92e7-8ae5f667c07b",
   "metadata": {},
   "source": [
    "![image.png](attachment:ee578f20-9581-4002-8513-d23a48f814cd.png)\n",
    "\n",
    "![image.png](attachment:c5f69e8d-7a68-4685-b200-00aa7d8a27cd.png)"
   ]
  },
  {
   "cell_type": "code",
   "execution_count": 86,
   "id": "ef241584-1ffa-4f8f-b0e4-b9b6fabc93b9",
   "metadata": {},
   "outputs": [],
   "source": [
    "x = tf.constant([\n",
    "    [ 0,  1,  2, 3],\n",
    "    [-1,  0,  1, 2],\n",
    "    [-2, -1,  0, 1],\n",
    "    [-3, -2, -1, 0]\n",
    "])"
   ]
  },
  {
   "cell_type": "code",
   "execution_count": 87,
   "id": "da22f708-0218-4947-a7e4-7c22129acf69",
   "metadata": {},
   "outputs": [
    {
     "data": {
      "text/plain": [
       "<tf.Tensor: shape=(4, 4), dtype=int32, numpy=\n",
       "array([[ 0,  1,  2,  3],\n",
       "       [-1,  0,  1,  2],\n",
       "       [ 0, -1,  0,  1],\n",
       "       [ 0,  0, -1,  0]])>"
      ]
     },
     "execution_count": 87,
     "metadata": {},
     "output_type": "execute_result"
    }
   ],
   "source": [
    "tf.linalg.band_part(x, 1, -1)"
   ]
  },
  {
   "cell_type": "code",
   "execution_count": 88,
   "id": "cf1c8c51-dbf9-49ec-ba5a-601a8877d1e5",
   "metadata": {},
   "outputs": [
    {
     "data": {
      "text/plain": [
       "<tf.Tensor: shape=(4, 4), dtype=int32, numpy=\n",
       "array([[ 0,  1,  0,  0],\n",
       "       [-1,  0,  1,  0],\n",
       "       [-2, -1,  0,  1],\n",
       "       [ 0, -2, -1,  0]])>"
      ]
     },
     "execution_count": 88,
     "metadata": {},
     "output_type": "execute_result"
    }
   ],
   "source": [
    "tf.linalg.band_part(x, 2, 1)"
   ]
  },
  {
   "cell_type": "markdown",
   "id": "dbd3b453-1e4a-4a94-8223-bd9ac1f5e37a",
   "metadata": {},
   "source": [
    "> **Upper Triangular Part**"
   ]
  },
  {
   "cell_type": "code",
   "execution_count": 89,
   "id": "b97e501d-7625-4da9-885d-3211c1b0811b",
   "metadata": {},
   "outputs": [
    {
     "data": {
      "text/plain": [
       "<tf.Tensor: shape=(4, 4), dtype=int32, numpy=\n",
       "array([[0, 1, 2, 3],\n",
       "       [0, 0, 1, 2],\n",
       "       [0, 0, 0, 1],\n",
       "       [0, 0, 0, 0]])>"
      ]
     },
     "execution_count": 89,
     "metadata": {},
     "output_type": "execute_result"
    }
   ],
   "source": [
    "tf.linalg.band_part(x, 0, -1)"
   ]
  },
  {
   "cell_type": "markdown",
   "id": "67af2a14-e6c2-4777-b5af-cb9c6e011e8b",
   "metadata": {},
   "source": [
    "> **Lower Triangular Part**"
   ]
  },
  {
   "cell_type": "code",
   "execution_count": 91,
   "id": "f0f853ff-60a1-4545-aad3-7b257cfcfd2f",
   "metadata": {},
   "outputs": [
    {
     "data": {
      "text/plain": [
       "<tf.Tensor: shape=(4, 4), dtype=int32, numpy=\n",
       "array([[ 0,  0,  0,  0],\n",
       "       [-1,  0,  0,  0],\n",
       "       [-2, -1,  0,  0],\n",
       "       [-3, -2, -1,  0]])>"
      ]
     },
     "execution_count": 91,
     "metadata": {},
     "output_type": "execute_result"
    }
   ],
   "source": [
    "tf.linalg.band_part(x, -1, 0)"
   ]
  },
  {
   "cell_type": "markdown",
   "id": "f9f93ec4-671d-45ce-bef0-dbd6ccdbefd1",
   "metadata": {},
   "source": [
    "> **Diagonal of Tensor**"
   ]
  },
  {
   "cell_type": "code",
   "execution_count": 92,
   "id": "eb42d525-f382-47f5-8609-a3dc79acabef",
   "metadata": {},
   "outputs": [
    {
     "data": {
      "text/plain": [
       "<tf.Tensor: shape=(4, 4), dtype=int32, numpy=\n",
       "array([[0, 0, 0, 0],\n",
       "       [0, 0, 0, 0],\n",
       "       [0, 0, 0, 0],\n",
       "       [0, 0, 0, 0]])>"
      ]
     },
     "execution_count": 92,
     "metadata": {},
     "output_type": "execute_result"
    }
   ],
   "source": [
    "tf.linalg.band_part(x, 0, 0)"
   ]
  },
  {
   "cell_type": "markdown",
   "id": "25528357-d5f0-4585-9475-56e4f99aa969",
   "metadata": {},
   "source": [
    "***"
   ]
  },
  {
   "cell_type": "markdown",
   "id": "2697c0c9-7021-42f6-b55d-7f4423989f09",
   "metadata": {
    "jp-MarkdownHeadingCollapsed": true
   },
   "source": [
    "### **tf.linalg.det**\n",
    "* **Computes the determinant of one or more square matrices.**\n",
    "* **The input is a tensor of shape [..., M, M] whose inner-most 2 dimensions form square matrices. The output is a tensor containing the determinants for all input submatrices [..., :, :].**\n",
    "* **For more : https://www.tensorflow.org/api_docs/python/tf/linalg/det**"
   ]
  },
  {
   "cell_type": "markdown",
   "id": "1af9bbda-fcdc-4ac3-b43a-53303e37ee6c",
   "metadata": {},
   "source": [
    "**Note : For deteminant calculation of matrix the \"dtype\" of matrix should be of float type, so before using \"det\" set the dtype to float.**"
   ]
  },
  {
   "cell_type": "code",
   "execution_count": 108,
   "id": "4ffec4b7-3e6b-491e-998c-f9670d8f8b1f",
   "metadata": {},
   "outputs": [],
   "source": [
    "sq_matrix = tf.constant([\n",
    "    [7, 5, 5],\n",
    "    [9, 8, 0],\n",
    "    [3, 5, 6]\n",
    "], dtype=tf.float32)"
   ]
  },
  {
   "cell_type": "code",
   "execution_count": 109,
   "id": "b1d432a4-f6ea-4e9a-84f4-44acfe0f4dad",
   "metadata": {},
   "outputs": [
    {
     "name": "stdout",
     "output_type": "stream",
     "text": [
      "tf.Tensor(171.0, shape=(), dtype=float32)\n"
     ]
    }
   ],
   "source": [
    "det = tf.linalg.det(sq_matrix)\n",
    "print(det)"
   ]
  },
  {
   "cell_type": "markdown",
   "id": "d8955046-563b-4f50-bf9a-e0610e55db18",
   "metadata": {},
   "source": [
    "***"
   ]
  },
  {
   "cell_type": "markdown",
   "id": "8c02ee75-a9ab-48d7-9ce0-fbfc6d436f6c",
   "metadata": {
    "jp-MarkdownHeadingCollapsed": true
   },
   "source": [
    "### **tf.linalg.inv**\n",
    "* **Computes the inverse of one or more square invertible matrices or their adjoints (conjugate transposes).**\n",
    "* **For more : https://www.tensorflow.org/api_docs/python/tf/linalg/inv**"
   ]
  },
  {
   "cell_type": "markdown",
   "id": "cd756023-446d-4581-9079-3a7ea0cdf69c",
   "metadata": {},
   "source": [
    "* **The input is a tensor of shape [..., M, M] whose inner-most 2 dimensions form square matrices. The output is a tensor of the same shape as the input containing the inverse for all input submatrices [..., :, :].**\n",
    "\n",
    "* **The op uses LU decomposition with partial pivoting to compute the inverses.**\n",
    "\n",
    "* **If a matrix is not invertible there is no guarantee what the op does. It may detect the condition and raise an exception or it may simply return a garbage result.**"
   ]
  },
  {
   "cell_type": "code",
   "execution_count": 112,
   "id": "956219e6-3d00-4f2e-aac0-3ea1c160194d",
   "metadata": {},
   "outputs": [
    {
     "name": "stdout",
     "output_type": "stream",
     "text": [
      "tf.Tensor(\n",
      "[[ 0.28070176 -0.02923976 -0.23391812]\n",
      " [-0.31578946  0.15789473  0.26315787]\n",
      " [ 0.12280701 -0.11695907  0.06432749]], shape=(3, 3), dtype=float32)\n"
     ]
    }
   ],
   "source": [
    "inv = tf.linalg.inv(sq_matrix)\n",
    "print(inv)"
   ]
  },
  {
   "cell_type": "markdown",
   "id": "36124904-5b5e-4a7f-ac5c-2c01ff39c934",
   "metadata": {},
   "source": [
    "***"
   ]
  },
  {
   "cell_type": "markdown",
   "id": "05a88016-4606-4864-9742-e2a4e022ca69",
   "metadata": {
    "jp-MarkdownHeadingCollapsed": true
   },
   "source": [
    "## **7. Some Common Methods**"
   ]
  },
  {
   "cell_type": "markdown",
   "id": "744c068c-1db4-4009-8c82-7b50afa600f0",
   "metadata": {
    "jp-MarkdownHeadingCollapsed": true
   },
   "source": [
    "### **tf.einsum**\n",
    "* **Tensor contraction over specified indices and outer product.**\n",
    "* **For more : https://www.tensorflow.org/api_docs/python/tf/einsum**"
   ]
  },
  {
   "attachments": {
    "356566f6-b2b5-4cbd-b59f-5d12ad7f4fc2.png": {
     "image/png": "[encoded data removed]"
    }
   },
   "cell_type": "markdown",
   "id": "dc1548c4-b673-4380-826c-62abbf79b274",
   "metadata": {},
   "source": [
    "![image.png](attachment:356566f6-b2b5-4cbd-b59f-5d12ad7f4fc2.png)"
   ]
  },
  {
   "cell_type": "markdown",
   "id": "6a5402ac-8d38-4d4d-bb22-1a01a76be345",
   "metadata": {},
   "source": [
    "**In general, to convert the element-wise equation into the equation string, use the following procedure (intermediate strings for matrix multiplication example provided in parentheses):**\n",
    "* **remove variable names, brackets, and commas, (ik = sum_j ij * jk)**\n",
    "* **replace \"*\" with \",\", (ik = sum_j ij , jk)**\n",
    "* **drop summation signs, and (ik = ij, jk)**\n",
    "* **move the output to the right, while replacing \"=\" with \"->\". (ij,jk->ik)**\n",
    "\n",
    "**Note: If the output indices are not specified repeated indices are summed. So ij,jk->ik can be simplified to ij,jk.**"
   ]
  },
  {
   "cell_type": "markdown",
   "id": "2c9e5294-b737-4e38-9079-7994adfe023a",
   "metadata": {},
   "source": [
    "**Many common operations can be expressed in this way.**"
   ]
  },
  {
   "cell_type": "markdown",
   "id": "31a98ddb-b49c-4353-a09c-d9be60996053",
   "metadata": {
    "jp-MarkdownHeadingCollapsed": true
   },
   "source": [
    "#### **Matrix multiplication**"
   ]
  },
  {
   "cell_type": "code",
   "execution_count": 117,
   "id": "76731d1f-6e5d-4883-8ef1-02bc1cadc814",
   "metadata": {},
   "outputs": [
    {
     "name": "stdout",
     "output_type": "stream",
     "text": [
      "tf.Tensor(\n",
      "[[-1.6321852  -0.11133243  0.47752202  0.22711751 -0.13219762]\n",
      " [-1.8363737  -0.06300968 -0.5179792   0.858886    0.02075976]], shape=(2, 5), dtype=float32)\n"
     ]
    }
   ],
   "source": [
    "m0 = tf.random.normal(shape=[2, 3])\n",
    "m1 = tf.random.normal(shape=[3, 5])\n",
    "e = tf.einsum('ij,jk->ik', m0, m1)\n",
    "print(e)\n",
    "# output[i,k] = sum_j m0[i,j] * m1[j, k]"
   ]
  },
  {
   "cell_type": "code",
   "execution_count": 118,
   "id": "3713c48e-f2fa-434c-9b65-2af495bfb50e",
   "metadata": {},
   "outputs": [
    {
     "name": "stdout",
     "output_type": "stream",
     "text": [
      "(2, 5)\n"
     ]
    }
   ],
   "source": [
    "print(e.shape)"
   ]
  },
  {
   "cell_type": "markdown",
   "id": "b712df14-8b8d-4ab8-895d-066f3b1381da",
   "metadata": {},
   "source": [
    "***"
   ]
  },
  {
   "cell_type": "markdown",
   "id": "ef465801-c5ef-4101-af7e-3db2a8a0fe32",
   "metadata": {
    "jp-MarkdownHeadingCollapsed": true
   },
   "source": [
    "#### **Dot product**"
   ]
  },
  {
   "cell_type": "code",
   "execution_count": 119,
   "id": "e38ba5bb-ce5c-442a-87f3-f642d3323a2f",
   "metadata": {},
   "outputs": [
    {
     "name": "stdout",
     "output_type": "stream",
     "text": [
      "tf.Tensor(1.315781, shape=(), dtype=float32)\n"
     ]
    }
   ],
   "source": [
    "u = tf.random.normal(shape=[5])\n",
    "v = tf.random.normal(shape=[5])\n",
    "e = tf.einsum('i,i->', u, v)  # output = sum_i u[i]*v[i]\n",
    "print(e)"
   ]
  },
  {
   "cell_type": "code",
   "execution_count": 120,
   "id": "2be44eb8-1615-4c0e-8170-0391848168eb",
   "metadata": {},
   "outputs": [
    {
     "name": "stdout",
     "output_type": "stream",
     "text": [
      "()\n"
     ]
    }
   ],
   "source": [
    "print(e.shape)"
   ]
  },
  {
   "cell_type": "markdown",
   "id": "dbf71113-671a-4b4f-8223-edc5da7240de",
   "metadata": {},
   "source": [
    "***"
   ]
  },
  {
   "cell_type": "markdown",
   "id": "c7f3d44b-6bcc-4514-be6c-b67678133df8",
   "metadata": {
    "jp-MarkdownHeadingCollapsed": true
   },
   "source": [
    "#### **Outer product**"
   ]
  },
  {
   "cell_type": "code",
   "execution_count": 121,
   "id": "63c73a9c-7a44-46b7-bf16-f2d24ec4d995",
   "metadata": {},
   "outputs": [
    {
     "name": "stdout",
     "output_type": "stream",
     "text": [
      "tf.Tensor(\n",
      "[[ 0.66228914  0.24860643 -0.8345729  -0.26828367 -0.47877112]\n",
      " [ 1.8348064   0.6887395  -2.3121016  -0.74325335 -1.326388  ]\n",
      " [-1.5948147  -0.59865266  2.0096798   0.64603615  1.152897  ]], shape=(3, 5), dtype=float32)\n"
     ]
    }
   ],
   "source": [
    "u = tf.random.normal(shape=[3])\n",
    "v = tf.random.normal(shape=[5])\n",
    "e = tf.einsum('i,j->ij', u, v)  # output[i,j] = u[i]*v[j]\n",
    "print(e)"
   ]
  },
  {
   "cell_type": "code",
   "execution_count": 122,
   "id": "d0be1209-815e-4c6b-aa7b-e468e1d999ff",
   "metadata": {},
   "outputs": [
    {
     "name": "stdout",
     "output_type": "stream",
     "text": [
      "(3, 5)\n"
     ]
    }
   ],
   "source": [
    "print(e.shape)"
   ]
  },
  {
   "cell_type": "markdown",
   "id": "98738db2-c160-46a3-b98b-683fa29fb939",
   "metadata": {},
   "source": [
    "***"
   ]
  },
  {
   "cell_type": "markdown",
   "id": "98697e3e-bf8a-43d4-a8d1-722657ce18c4",
   "metadata": {
    "jp-MarkdownHeadingCollapsed": true
   },
   "source": [
    "#### **Transpose**"
   ]
  },
  {
   "cell_type": "code",
   "execution_count": 123,
   "id": "6543fbd0-8621-4337-8909-122248db92df",
   "metadata": {},
   "outputs": [
    {
     "name": "stdout",
     "output_type": "stream",
     "text": [
      "tf.Tensor(\n",
      "[[ 0.6051787   0.33419916]\n",
      " [ 0.20086013  0.8680362 ]\n",
      " [-0.1314046  -0.5600525 ]], shape=(3, 2), dtype=float32)\n"
     ]
    }
   ],
   "source": [
    "m = tf.ones(2,3)\n",
    "e = tf.einsum('ij->ji', m0)  # output[j,i] = m0[i,j]\n",
    "print(e)"
   ]
  },
  {
   "cell_type": "code",
   "execution_count": 124,
   "id": "2e07f135-336f-4c0c-a97b-780345c1857d",
   "metadata": {},
   "outputs": [
    {
     "name": "stdout",
     "output_type": "stream",
     "text": [
      "(3, 2)\n"
     ]
    }
   ],
   "source": [
    "print(e.shape)"
   ]
  },
  {
   "cell_type": "markdown",
   "id": "125e8a5c-1b88-4588-895c-99c507e322d3",
   "metadata": {},
   "source": [
    "***"
   ]
  },
  {
   "cell_type": "markdown",
   "id": "57423026-c13e-4548-912b-2ed572cf9451",
   "metadata": {
    "jp-MarkdownHeadingCollapsed": true
   },
   "source": [
    "#### **Diag**"
   ]
  },
  {
   "cell_type": "code",
   "execution_count": 125,
   "id": "74493b39-b93d-4bca-889a-a93247b4b1ea",
   "metadata": {},
   "outputs": [
    {
     "name": "stdout",
     "output_type": "stream",
     "text": [
      "tf.Tensor([0 4 8], shape=(3,), dtype=int32)\n"
     ]
    }
   ],
   "source": [
    "m = tf.reshape(tf.range(9), [3,3])\n",
    "diag = tf.einsum('ii->i', m)\n",
    "print(diag)"
   ]
  },
  {
   "cell_type": "code",
   "execution_count": 126,
   "id": "657a6a90-7196-46d6-ad66-5fd9de03d1ff",
   "metadata": {},
   "outputs": [
    {
     "name": "stdout",
     "output_type": "stream",
     "text": [
      "(3,)\n"
     ]
    }
   ],
   "source": [
    "print(diag.shape)"
   ]
  },
  {
   "cell_type": "markdown",
   "id": "8992561d-d746-4276-99c0-9f7d2e094ab4",
   "metadata": {},
   "source": [
    "***"
   ]
  },
  {
   "cell_type": "markdown",
   "id": "c7d36e36-ec8b-4213-9eda-6b30481b072c",
   "metadata": {
    "jp-MarkdownHeadingCollapsed": true
   },
   "source": [
    "#### **Trace**"
   ]
  },
  {
   "cell_type": "code",
   "execution_count": 128,
   "id": "5e94d737-fde1-40bf-a94f-28410b8d9948",
   "metadata": {},
   "outputs": [
    {
     "name": "stdout",
     "output_type": "stream",
     "text": [
      "tf.Tensor(12, shape=(), dtype=int32)\n"
     ]
    }
   ],
   "source": [
    "# Repeated indices are summed.\n",
    "trace = tf.einsum('ii', m)  # output[j,i] = trace(m) = sum_i m[i, i]\n",
    "assert trace == sum(diag)\n",
    "print(trace)"
   ]
  },
  {
   "cell_type": "code",
   "execution_count": 129,
   "id": "fb75edba-9137-4424-9f51-ad6319857923",
   "metadata": {},
   "outputs": [
    {
     "name": "stdout",
     "output_type": "stream",
     "text": [
      "()\n"
     ]
    }
   ],
   "source": [
    "print(trace.shape)"
   ]
  },
  {
   "cell_type": "markdown",
   "id": "1a334c3a-e22e-4ed9-8fab-9cc13f6e469b",
   "metadata": {},
   "source": [
    "***"
   ]
  },
  {
   "cell_type": "markdown",
   "id": "01212600-129e-49bc-93e6-c77684d69eba",
   "metadata": {
    "jp-MarkdownHeadingCollapsed": true
   },
   "source": [
    "#### **Batch matrix multiplication**"
   ]
  },
  {
   "cell_type": "code",
   "execution_count": 130,
   "id": "fbc9d7cb-7374-41ba-9a89-5a215d765be1",
   "metadata": {},
   "outputs": [
    {
     "name": "stdout",
     "output_type": "stream",
     "text": [
      "tf.Tensor(\n",
      "[[[ 0.547843   -0.4058293 ]\n",
      "  [ 0.6632597   0.23284407]\n",
      "  [-0.54233265  0.26617372]\n",
      "  [ 0.23491752  0.54740554]\n",
      "  [ 1.5565525  -0.37517428]]\n",
      "\n",
      " [[-3.3208807  -3.8533144 ]\n",
      "  [-0.06177356  0.86707765]\n",
      "  [ 0.42621875  1.1518552 ]\n",
      "  [ 3.5287316   4.3295183 ]\n",
      "  [-1.5883101  -0.8141335 ]]\n",
      "\n",
      " [[-0.25676134  1.0173331 ]\n",
      "  [ 0.05700155 -0.5208373 ]\n",
      "  [ 0.06249253 -0.08206813]\n",
      "  [ 0.21119453 -1.3579954 ]\n",
      "  [-0.10814482  0.20859185]]\n",
      "\n",
      " [[ 0.82917714 -3.8848941 ]\n",
      "  [-5.036237    3.3472462 ]\n",
      "  [ 2.0569189  -1.257961  ]\n",
      "  [-5.748918    3.822268  ]\n",
      "  [ 5.867804   -1.9445348 ]]\n",
      "\n",
      " [[-0.4035144  -0.8383947 ]\n",
      "  [-0.5291088   2.0634181 ]\n",
      "  [-1.7283248   1.0340621 ]\n",
      "  [-0.14500163 -2.3620818 ]\n",
      "  [ 0.9766558  -2.5864413 ]]\n",
      "\n",
      " [[ 0.18537131 -0.10852112]\n",
      "  [-1.6573899  -1.1983312 ]\n",
      "  [ 1.3583333   2.8146513 ]\n",
      "  [ 1.7109019   0.24095544]\n",
      "  [ 0.02823358 -1.7381768 ]]\n",
      "\n",
      " [[-1.7844913  -1.2548705 ]\n",
      "  [-0.02543548 -1.8362525 ]\n",
      "  [ 1.4193258  -1.1887412 ]\n",
      "  [ 3.4726498   0.965561  ]\n",
      "  [ 0.09975423 -0.0247795 ]]], shape=(7, 5, 2), dtype=float32)\n"
     ]
    }
   ],
   "source": [
    "s = tf.random.normal(shape=[7,5,3])\n",
    "t = tf.random.normal(shape=[7,3,2])\n",
    "e = tf.einsum('bij,bjk->bik', s, t)\n",
    "# output[a,i,k] = sum_j s[a,i,j] * t[a, j, k]\n",
    "print(e)"
   ]
  },
  {
   "cell_type": "code",
   "execution_count": 131,
   "id": "fc34146b-e716-489c-96a6-98a63e219863",
   "metadata": {},
   "outputs": [
    {
     "name": "stdout",
     "output_type": "stream",
     "text": [
      "(7, 5, 2)\n"
     ]
    }
   ],
   "source": [
    "print(e.shape)"
   ]
  },
  {
   "cell_type": "markdown",
   "id": "f863bc3f-8173-45fb-a013-97a93f94f862",
   "metadata": {},
   "source": [
    "***"
   ]
  },
  {
   "cell_type": "markdown",
   "id": "e9f02b56-0292-402c-bf42-4d2aa8902e99",
   "metadata": {
    "jp-MarkdownHeadingCollapsed": true
   },
   "source": [
    "### **tf.math.reduce_sum**\n",
    "* **Computes the sum of elements across dimensions of a tensor.**\n",
    "* **For more : https://www.tensorflow.org/api_docs/python/tf/math/reduce_sum**"
   ]
  },
  {
   "cell_type": "markdown",
   "id": "7181158c-af61-4cc6-b276-6bf47951d5e2",
   "metadata": {},
   "source": [
    "**This is the reduction operation for the elementwise tf.math.add op.**\n",
    "\n",
    "**Reduces input_tensor along the dimensions given in axis. Unless keepdims is true, the rank of the tensor is reduced by 1 for each of the entries in axis, which must be unique. If keepdims is true, the reduced dimensions are retained with length 1.**\n",
    "\n",
    "**If axis is None, all dimensions are reduced, and a tensor with a single element is returned.**"
   ]
  },
  {
   "cell_type": "code",
   "execution_count": 132,
   "id": "b863adc7-a91b-4ead-a82a-dcfedc053cc7",
   "metadata": {},
   "outputs": [
    {
     "data": {
      "text/plain": [
       "array([[1, 1, 1],\n",
       "       [1, 1, 1]])"
      ]
     },
     "execution_count": 132,
     "metadata": {},
     "output_type": "execute_result"
    }
   ],
   "source": [
    "# x has a shape of (2, 3) (two rows and three columns):\n",
    "x = tf.constant([[1, 1, 1], [1, 1, 1]])\n",
    "x.numpy()"
   ]
  },
  {
   "cell_type": "code",
   "execution_count": 133,
   "id": "a2eb33cb-e69b-4894-a002-0fdfcea29836",
   "metadata": {},
   "outputs": [
    {
     "data": {
      "text/plain": [
       "6"
      ]
     },
     "execution_count": 133,
     "metadata": {},
     "output_type": "execute_result"
    }
   ],
   "source": [
    "# sum all the elements\n",
    "# 1 + 1 + 1 + 1 + 1+ 1 = 6\n",
    "tf.reduce_sum(x).numpy()"
   ]
  },
  {
   "cell_type": "code",
   "execution_count": 134,
   "id": "534585b2-b4ea-4bc4-959f-ce05f69fd0b8",
   "metadata": {},
   "outputs": [
    {
     "data": {
      "text/plain": [
       "array([2, 2, 2])"
      ]
     },
     "execution_count": 134,
     "metadata": {},
     "output_type": "execute_result"
    }
   ],
   "source": [
    "# reduce along the first dimension\n",
    "# the result is [1, 1, 1] + [1, 1, 1] = [2, 2, 2]\n",
    "tf.reduce_sum(x, 0).numpy()"
   ]
  },
  {
   "cell_type": "code",
   "execution_count": 135,
   "id": "51917cf0-aa98-46a9-a402-9a0d8d51e147",
   "metadata": {},
   "outputs": [
    {
     "data": {
      "text/plain": [
       "array([3, 3])"
      ]
     },
     "execution_count": 135,
     "metadata": {},
     "output_type": "execute_result"
    }
   ],
   "source": [
    "# reduce along the second dimension\n",
    "# the result is [1, 1] + [1, 1] + [1, 1] = [3, 3]\n",
    "tf.reduce_sum(x, 1).numpy()"
   ]
  },
  {
   "cell_type": "code",
   "execution_count": 136,
   "id": "e7be55aa-13c4-4dff-9653-d7b06b6009bb",
   "metadata": {},
   "outputs": [
    {
     "data": {
      "text/plain": [
       "array([[3],\n",
       "       [3]])"
      ]
     },
     "execution_count": 136,
     "metadata": {},
     "output_type": "execute_result"
    }
   ],
   "source": [
    "# keep the original dimensions\n",
    "tf.reduce_sum(x, 1, keepdims=True).numpy()"
   ]
  },
  {
   "cell_type": "code",
   "execution_count": 137,
   "id": "3e476e4d-468a-42ef-ab30-cb5c9c3d50fc",
   "metadata": {},
   "outputs": [
    {
     "data": {
      "text/plain": [
       "6"
      ]
     },
     "execution_count": 137,
     "metadata": {},
     "output_type": "execute_result"
    }
   ],
   "source": [
    "# reduce along both dimensions\n",
    "# the result is 1 + 1 + 1 + 1 + 1 + 1 = 6\n",
    "# or, equivalently, reduce along rows, then reduce the resultant array\n",
    "# [1, 1, 1] + [1, 1, 1] = [2, 2, 2]\n",
    "# 2 + 2 + 2 = 6\n",
    "tf.reduce_sum(x, [0, 1]).numpy()"
   ]
  },
  {
   "cell_type": "markdown",
   "id": "845d8884-fee6-42b9-8647-460fcea33a59",
   "metadata": {},
   "source": [
    "***"
   ]
  },
  {
   "cell_type": "markdown",
   "id": "7480c7eb-4473-4f4b-a50b-0a584d202652",
   "metadata": {
    "jp-MarkdownHeadingCollapsed": true
   },
   "source": [
    "### **tf.expand_dims**\n",
    "* **Returns a tensor with a length 1 axis inserted at index axis.**\n",
    "* **For more : https://www.tensorflow.org/api_docs/python/tf/expand_dims**"
   ]
  },
  {
   "cell_type": "markdown",
   "id": "1f8ad70f-36cc-4aaa-868b-4edd590038dd",
   "metadata": {},
   "source": [
    "**Given a tensor input, this operation inserts a dimension of length 1 at the dimension index axis of input's shape. The dimension index follows Python indexing rules: It's zero-based, a negative index it is counted backward from the end.**\n",
    "\n",
    "**This operation is useful to:**\n",
    "* **Add an outer \"batch\" dimension to a single element.**\n",
    "* **Align axes for broadcasting.**\n",
    "* **To add an inner vector length axis to a tensor of scalars.**"
   ]
  },
  {
   "cell_type": "code",
   "execution_count": 143,
   "id": "b2cc855c-3baf-4dd8-bd3b-58fd3aa1bebe",
   "metadata": {},
   "outputs": [
    {
     "name": "stdout",
     "output_type": "stream",
     "text": [
      "tf.Tensor(\n",
      "[[[0. 0. 0.]\n",
      "  [0. 0. 0.]\n",
      "  [0. 0. 0.]\n",
      "  [0. 0. 0.]\n",
      "  [0. 0. 0.]\n",
      "  [0. 0. 0.]\n",
      "  [0. 0. 0.]\n",
      "  [0. 0. 0.]\n",
      "  [0. 0. 0.]\n",
      "  [0. 0. 0.]]\n",
      "\n",
      " [[0. 0. 0.]\n",
      "  [0. 0. 0.]\n",
      "  [0. 0. 0.]\n",
      "  [0. 0. 0.]\n",
      "  [0. 0. 0.]\n",
      "  [0. 0. 0.]\n",
      "  [0. 0. 0.]\n",
      "  [0. 0. 0.]\n",
      "  [0. 0. 0.]\n",
      "  [0. 0. 0.]]\n",
      "\n",
      " [[0. 0. 0.]\n",
      "  [0. 0. 0.]\n",
      "  [0. 0. 0.]\n",
      "  [0. 0. 0.]\n",
      "  [0. 0. 0.]\n",
      "  [0. 0. 0.]\n",
      "  [0. 0. 0.]\n",
      "  [0. 0. 0.]\n",
      "  [0. 0. 0.]\n",
      "  [0. 0. 0.]]\n",
      "\n",
      " [[0. 0. 0.]\n",
      "  [0. 0. 0.]\n",
      "  [0. 0. 0.]\n",
      "  [0. 0. 0.]\n",
      "  [0. 0. 0.]\n",
      "  [0. 0. 0.]\n",
      "  [0. 0. 0.]\n",
      "  [0. 0. 0.]\n",
      "  [0. 0. 0.]\n",
      "  [0. 0. 0.]]\n",
      "\n",
      " [[0. 0. 0.]\n",
      "  [0. 0. 0.]\n",
      "  [0. 0. 0.]\n",
      "  [0. 0. 0.]\n",
      "  [0. 0. 0.]\n",
      "  [0. 0. 0.]\n",
      "  [0. 0. 0.]\n",
      "  [0. 0. 0.]\n",
      "  [0. 0. 0.]\n",
      "  [0. 0. 0.]]\n",
      "\n",
      " [[0. 0. 0.]\n",
      "  [0. 0. 0.]\n",
      "  [0. 0. 0.]\n",
      "  [0. 0. 0.]\n",
      "  [0. 0. 0.]\n",
      "  [0. 0. 0.]\n",
      "  [0. 0. 0.]\n",
      "  [0. 0. 0.]\n",
      "  [0. 0. 0.]\n",
      "  [0. 0. 0.]]\n",
      "\n",
      " [[0. 0. 0.]\n",
      "  [0. 0. 0.]\n",
      "  [0. 0. 0.]\n",
      "  [0. 0. 0.]\n",
      "  [0. 0. 0.]\n",
      "  [0. 0. 0.]\n",
      "  [0. 0. 0.]\n",
      "  [0. 0. 0.]\n",
      "  [0. 0. 0.]\n",
      "  [0. 0. 0.]]\n",
      "\n",
      " [[0. 0. 0.]\n",
      "  [0. 0. 0.]\n",
      "  [0. 0. 0.]\n",
      "  [0. 0. 0.]\n",
      "  [0. 0. 0.]\n",
      "  [0. 0. 0.]\n",
      "  [0. 0. 0.]\n",
      "  [0. 0. 0.]\n",
      "  [0. 0. 0.]\n",
      "  [0. 0. 0.]]\n",
      "\n",
      " [[0. 0. 0.]\n",
      "  [0. 0. 0.]\n",
      "  [0. 0. 0.]\n",
      "  [0. 0. 0.]\n",
      "  [0. 0. 0.]\n",
      "  [0. 0. 0.]\n",
      "  [0. 0. 0.]\n",
      "  [0. 0. 0.]\n",
      "  [0. 0. 0.]\n",
      "  [0. 0. 0.]]\n",
      "\n",
      " [[0. 0. 0.]\n",
      "  [0. 0. 0.]\n",
      "  [0. 0. 0.]\n",
      "  [0. 0. 0.]\n",
      "  [0. 0. 0.]\n",
      "  [0. 0. 0.]\n",
      "  [0. 0. 0.]\n",
      "  [0. 0. 0.]\n",
      "  [0. 0. 0.]\n",
      "  [0. 0. 0.]]], shape=(10, 10, 3), dtype=float32)\n"
     ]
    }
   ],
   "source": [
    "# If you have a single image of shape [height, width, channels]:\n",
    "image = tf.zeros([10,10,3])\n",
    "print(image)"
   ]
  },
  {
   "cell_type": "code",
   "execution_count": 144,
   "id": "8d409a01-bf13-440f-b12e-5984900c30c9",
   "metadata": {},
   "outputs": [
    {
     "data": {
      "text/plain": [
       "[1, 10, 10, 3]"
      ]
     },
     "execution_count": 144,
     "metadata": {},
     "output_type": "execute_result"
    }
   ],
   "source": [
    "# You can add an outer batch axis by passing axis=0:\n",
    "tf.expand_dims(image, axis=0).shape.as_list()"
   ]
  },
  {
   "cell_type": "code",
   "execution_count": 145,
   "id": "0d1e5c35-11ea-44b0-bf79-8f4c7cc9964b",
   "metadata": {},
   "outputs": [
    {
     "data": {
      "text/plain": [
       "[10, 1, 10, 3]"
      ]
     },
     "execution_count": 145,
     "metadata": {},
     "output_type": "execute_result"
    }
   ],
   "source": [
    "# The new axis location matches Python list.insert(axis, 1):\n",
    "tf.expand_dims(image, axis=1).shape.as_list()"
   ]
  },
  {
   "cell_type": "code",
   "execution_count": 146,
   "id": "a33049d8-8f57-484a-bd8e-5e3cb311f9f5",
   "metadata": {},
   "outputs": [
    {
     "data": {
      "text/plain": [
       "[10, 10, 3, 1]"
      ]
     },
     "execution_count": 146,
     "metadata": {},
     "output_type": "execute_result"
    }
   ],
   "source": [
    "# Following standard Python indexing rules, a negative axis counts from the end so axis=-1 adds an inner most dimension:\n",
    "tf.expand_dims(image, -1).shape.as_list()"
   ]
  },
  {
   "cell_type": "markdown",
   "id": "b25b0a40-95cd-445e-b9b6-6145ef9299d2",
   "metadata": {},
   "source": [
    "***"
   ]
  },
  {
   "cell_type": "markdown",
   "id": "a3f2ab27-5f31-40aa-b816-76371d29d86e",
   "metadata": {
    "jp-MarkdownHeadingCollapsed": true
   },
   "source": [
    "### **tf.squeeze**\n",
    "* **Removes dimensions of size 1 from the shape of a tensor.**\n",
    "* **For more : https://www.tensorflow.org/api_docs/python/tf/squeeze**"
   ]
  },
  {
   "cell_type": "code",
   "execution_count": 151,
   "id": "52171622-bec9-487b-a87a-f21061f5c040",
   "metadata": {},
   "outputs": [
    {
     "data": {
      "text/plain": [
       "<tf.Tensor: shape=(1,), dtype=int32, numpy=array([6])>"
      ]
     },
     "execution_count": 151,
     "metadata": {},
     "output_type": "execute_result"
    }
   ],
   "source": [
    "# Given a tensor input, this operation returns a tensor of the same type with all dimensions of size 1 removed. \n",
    "# If you don't want to remove all size 1 dimensions, you can remove specific size 1 dimensions by specifying axis.\n",
    "\n",
    "t = tf.constant([1, 2, 1, 3, 1, 1])\n",
    "tf.shape(tf.squeeze(t))"
   ]
  },
  {
   "cell_type": "code",
   "execution_count": 153,
   "id": "73ea15cf-e8f7-4679-aa9c-9e41453b5961",
   "metadata": {},
   "outputs": [
    {
     "name": "stdout",
     "output_type": "stream",
     "text": [
      "tf.Tensor([2 3], shape=(2,), dtype=int32)\n"
     ]
    }
   ],
   "source": [
    "# Or, to remove specific size 1 dimensions:\n",
    "\n",
    "t = tf.constant([\n",
    "    [[1], [2], [1]],\n",
    "    [[3], [1], [1]]\n",
    "], dtype=tf.float32)\n",
    "\n",
    "# Squeeze the tensor along dimensions 2\n",
    "squeezed_t = tf.squeeze(t, [2])\n",
    "print(tf.shape(squeezed_t))"
   ]
  },
  {
   "cell_type": "markdown",
   "id": "6e08c32b-69e2-4bf4-bbf7-7632120d02eb",
   "metadata": {},
   "source": [
    "***"
   ]
  },
  {
   "cell_type": "markdown",
   "id": "975b73d2-bb28-4f14-8b78-ab8b49f08688",
   "metadata": {
    "jp-MarkdownHeadingCollapsed": true
   },
   "source": [
    "### **tf.reshape**\n",
    "* **Reshapes a tensor.**\n",
    "* **For more : https://www.tensorflow.org/api_docs/python/tf/reshape**"
   ]
  },
  {
   "cell_type": "markdown",
   "id": "bb51b6e6-88f0-4479-9752-290ca5a27e48",
   "metadata": {},
   "source": [
    "**Given tensor, this operation returns a new tf.Tensor that has the same values as tensor in the same order, except with a new shape given by shape.**"
   ]
  },
  {
   "cell_type": "code",
   "execution_count": 154,
   "id": "b8e2dff5-c200-4551-8e29-eb730cb8b035",
   "metadata": {},
   "outputs": [
    {
     "name": "stdout",
     "output_type": "stream",
     "text": [
      "[2 3]\n"
     ]
    }
   ],
   "source": [
    "t1 = [[1, 2, 3],\n",
    "      [4, 5, 6]]\n",
    "print(tf.shape(t1).numpy())"
   ]
  },
  {
   "cell_type": "code",
   "execution_count": 155,
   "id": "14a43eb8-9ca0-43be-8936-4e8935512270",
   "metadata": {},
   "outputs": [
    {
     "data": {
      "text/plain": [
       "<tf.Tensor: shape=(6,), dtype=int32, numpy=array([1, 2, 3, 4, 5, 6])>"
      ]
     },
     "execution_count": 155,
     "metadata": {},
     "output_type": "execute_result"
    }
   ],
   "source": [
    "t2 = tf.reshape(t1, [6])\n",
    "t2"
   ]
  },
  {
   "cell_type": "markdown",
   "id": "cc50ee17-e7c2-4dec-b197-fb3284582cde",
   "metadata": {},
   "source": [
    "***"
   ]
  },
  {
   "cell_type": "markdown",
   "id": "dd09a1c9-d8ca-451b-8d35-5fb0c4229c97",
   "metadata": {
    "jp-MarkdownHeadingCollapsed": true
   },
   "source": [
    "### **tf.concat**\n",
    "* **Concatenates tensors along one dimension.**\n",
    "* **For more : https://www.tensorflow.org/api_docs/python/tf/concat**"
   ]
  },
  {
   "cell_type": "code",
   "execution_count": 157,
   "id": "4ec31d3e-dc21-4612-90a7-ef8275d98edd",
   "metadata": {},
   "outputs": [
    {
     "data": {
      "text/plain": [
       "<tf.Tensor: shape=(4, 3), dtype=int32, numpy=\n",
       "array([[ 1,  2,  3],\n",
       "       [ 4,  5,  6],\n",
       "       [ 7,  8,  9],\n",
       "       [10, 11, 12]])>"
      ]
     },
     "execution_count": 157,
     "metadata": {},
     "output_type": "execute_result"
    }
   ],
   "source": [
    "t1 = [[1, 2, 3], [4, 5, 6]]\n",
    "t2 = [[7, 8, 9], [10, 11, 12]]\n",
    "tf.concat([t1, t2], 0)"
   ]
  },
  {
   "cell_type": "markdown",
   "id": "ba57d40a-5ade-4d96-8544-c24f6a93c861",
   "metadata": {},
   "source": [
    "***"
   ]
  },
  {
   "cell_type": "markdown",
   "id": "dc7d5dc3-8cc6-49c9-bbf2-6c5e74046469",
   "metadata": {
    "jp-MarkdownHeadingCollapsed": true
   },
   "source": [
    "### **tf.stack**\n",
    "* **Stacks a list of rank-R tensors into one rank-(R+1) tensor.**\n",
    "* **For more : https://www.tensorflow.org/api_docs/python/tf/stack**"
   ]
  },
  {
   "cell_type": "markdown",
   "id": "c73a13f7-4fe9-4c82-8d3e-aeb9a0981065",
   "metadata": {},
   "source": [
    "**Packs the list of tensors in values into a tensor with rank one higher than each tensor in values, by packing them along the axis dimension. Given a list of length N of tensors of shape (A, B, C);**\n",
    "\n",
    "**if axis == 0 then the output tensor will have the shape (N, A, B, C). if axis == 1 then the output tensor will have the shape (A, N, B, C). Etc.**"
   ]
  },
  {
   "cell_type": "code",
   "execution_count": 158,
   "id": "7a02d0f0-d6db-492b-a24e-99685f4cb625",
   "metadata": {},
   "outputs": [
    {
     "data": {
      "text/plain": [
       "<tf.Tensor: shape=(3, 2), dtype=int32, numpy=\n",
       "array([[1, 4],\n",
       "       [2, 5],\n",
       "       [3, 6]])>"
      ]
     },
     "execution_count": 158,
     "metadata": {},
     "output_type": "execute_result"
    }
   ],
   "source": [
    "x = tf.constant([1, 4])\n",
    "y = tf.constant([2, 5])\n",
    "z = tf.constant([3, 6])\n",
    "tf.stack([x, y, z])"
   ]
  },
  {
   "cell_type": "code",
   "execution_count": 160,
   "id": "1f24b994-5e42-4fe1-aa2a-d59dee8f7e41",
   "metadata": {},
   "outputs": [
    {
     "data": {
      "text/plain": [
       "<tf.Tensor: shape=(2, 3), dtype=int32, numpy=\n",
       "array([[1, 2, 3],\n",
       "       [4, 5, 6]])>"
      ]
     },
     "execution_count": 160,
     "metadata": {},
     "output_type": "execute_result"
    }
   ],
   "source": [
    "tf.stack([x, y, z], axis=1)"
   ]
  },
  {
   "cell_type": "markdown",
   "id": "c2de5e0f-586f-461b-91d1-5c39de5e7850",
   "metadata": {},
   "source": [
    "***"
   ]
  },
  {
   "cell_type": "markdown",
   "id": "465ca46e-6ad0-45b4-ac0e-109208744805",
   "metadata": {
    "jp-MarkdownHeadingCollapsed": true
   },
   "source": [
    "### **tf.pad**\n",
    "* **Pads a tensor.**\n",
    "* **For more : https://www.tensorflow.org/api_docs/python/tf/pad**"
   ]
  },
  {
   "cell_type": "markdown",
   "id": "05d1aab5-6686-4801-98a4-d075cd55ac4e",
   "metadata": {},
   "source": [
    "**This operation pads a tensor according to the paddings you specify. paddings is an integer tensor with shape [n, 2], where n is the rank of tensor. For each dimension D of input, paddings[D, 0] indicates how many values to add before the contents of tensor in that dimension, and paddings[D, 1] indicates how many values to add after the contents of tensor in that dimension. If mode is \"REFLECT\" then both paddings[D, 0] and paddings[D, 1] must be no greater than tensor.dim_size(D) - 1. If mode is \"SYMMETRIC\" then both paddings[D, 0] and paddings[D, 1] must be no greater than tensor.dim_size(D).**\n",
    "\n",
    "**The padded size of each dimension D of the output is:**\n",
    "\n",
    "**paddings[D, 0] + tensor.dim_size(D) + paddings[D, 1]**"
   ]
  },
  {
   "cell_type": "code",
   "execution_count": 166,
   "id": "d57d00c4-e3c9-4ee2-a577-96732c900a1d",
   "metadata": {},
   "outputs": [
    {
     "data": {
      "text/plain": [
       "<tf.Tensor: shape=(4, 6), dtype=int32, numpy=\n",
       "array([[0, 0, 0, 0, 0, 0],\n",
       "       [0, 0, 1, 2, 0, 0],\n",
       "       [0, 0, 3, 4, 0, 0],\n",
       "       [0, 0, 0, 0, 0, 0]])>"
      ]
     },
     "execution_count": 166,
     "metadata": {},
     "output_type": "execute_result"
    }
   ],
   "source": [
    "a = tf.constant([[1, 2], [3, 4]])\n",
    "tf.pad(a, [[1, 1], [2, 2]])"
   ]
  },
  {
   "cell_type": "code",
   "execution_count": 161,
   "id": "b851df0e-fe1a-4f83-90b8-7da1d22072b9",
   "metadata": {},
   "outputs": [],
   "source": [
    "t = tf.constant([[1, 2, 3], [4, 5, 6]])\n",
    "paddings = tf.constant([[1, 1,], [2, 2]])"
   ]
  },
  {
   "cell_type": "code",
   "execution_count": 162,
   "id": "e2aeaa61-4c07-433a-a598-435477d50d4e",
   "metadata": {},
   "outputs": [
    {
     "data": {
      "text/plain": [
       "<tf.Tensor: shape=(4, 7), dtype=int32, numpy=\n",
       "array([[0, 0, 0, 0, 0, 0, 0],\n",
       "       [0, 0, 1, 2, 3, 0, 0],\n",
       "       [0, 0, 4, 5, 6, 0, 0],\n",
       "       [0, 0, 0, 0, 0, 0, 0]])>"
      ]
     },
     "execution_count": 162,
     "metadata": {},
     "output_type": "execute_result"
    }
   ],
   "source": [
    "tf.pad(t, paddings, \"CONSTANT\")"
   ]
  },
  {
   "cell_type": "code",
   "execution_count": 163,
   "id": "e4246bf2-9ff5-41ce-b703-036eea5c6d7f",
   "metadata": {},
   "outputs": [
    {
     "data": {
      "text/plain": [
       "<tf.Tensor: shape=(4, 7), dtype=int32, numpy=\n",
       "array([[6, 5, 4, 5, 6, 5, 4],\n",
       "       [3, 2, 1, 2, 3, 2, 1],\n",
       "       [6, 5, 4, 5, 6, 5, 4],\n",
       "       [3, 2, 1, 2, 3, 2, 1]])>"
      ]
     },
     "execution_count": 163,
     "metadata": {},
     "output_type": "execute_result"
    }
   ],
   "source": [
    "tf.pad(t, paddings, \"REFLECT\")"
   ]
  },
  {
   "cell_type": "code",
   "execution_count": 164,
   "id": "7e521eb8-a770-463b-a1eb-c198fef151e5",
   "metadata": {},
   "outputs": [
    {
     "data": {
      "text/plain": [
       "<tf.Tensor: shape=(4, 7), dtype=int32, numpy=\n",
       "array([[2, 1, 1, 2, 3, 3, 2],\n",
       "       [2, 1, 1, 2, 3, 3, 2],\n",
       "       [5, 4, 4, 5, 6, 6, 5],\n",
       "       [5, 4, 4, 5, 6, 6, 5]])>"
      ]
     },
     "execution_count": 164,
     "metadata": {},
     "output_type": "execute_result"
    }
   ],
   "source": [
    "tf.pad(t, paddings, \"SYMMETRIC\")"
   ]
  },
  {
   "cell_type": "markdown",
   "id": "9db0b0c9-5595-459a-a235-d1b41739b043",
   "metadata": {},
   "source": [
    "***"
   ]
  },
  {
   "cell_type": "markdown",
   "id": "24c2f47e-b93b-4bf7-a684-165c871d446e",
   "metadata": {
    "jp-MarkdownHeadingCollapsed": true
   },
   "source": [
    "### **tf.gather**\n",
    "* **Gather slices from params axis axis according to indices. (deprecated arguments)**\n",
    "* **For more : https://www.tensorflow.org/api_docs/python/tf/gather**"
   ]
  },
  {
   "cell_type": "markdown",
   "id": "0aa99d1d-5afa-4794-967f-a9e386db994d",
   "metadata": {},
   "source": [
    "**Gather slices from params axis axis according to indices. indices must be an integer tensor of any dimension (often 1-D).**\n",
    "\n",
    "**Tensor.getitem works for scalars, tf.newaxis, and python slices**\n",
    "\n",
    "**tf.gather extends indexing to handle tensors of indices.**\n",
    "\n",
    "**In the simplest case it's identical to scalar indexing:**"
   ]
  },
  {
   "cell_type": "code",
   "execution_count": 167,
   "id": "8f484343-a00f-4b50-8cf0-2928e1dd5b6b",
   "metadata": {},
   "outputs": [
    {
     "data": {
      "text/plain": [
       "b'p3'"
      ]
     },
     "execution_count": 167,
     "metadata": {},
     "output_type": "execute_result"
    }
   ],
   "source": [
    "params = tf.constant(['p0', 'p1', 'p2', 'p3', 'p4', 'p5'])\n",
    "params[3].numpy()"
   ]
  },
  {
   "cell_type": "code",
   "execution_count": 168,
   "id": "052d86b6-cffa-4933-8eb7-5cd4d9b64aa0",
   "metadata": {},
   "outputs": [
    {
     "data": {
      "text/plain": [
       "b'p3'"
      ]
     },
     "execution_count": 168,
     "metadata": {},
     "output_type": "execute_result"
    }
   ],
   "source": [
    "tf.gather(params, 3).numpy()"
   ]
  },
  {
   "cell_type": "markdown",
   "id": "fb738172-fbfc-4659-bd4a-8850f4e564a6",
   "metadata": {},
   "source": [
    "**The most common case is to pass a single axis tensor of indices (this can't be expressed as a python slice because the indices are not sequential):**"
   ]
  },
  {
   "cell_type": "code",
   "execution_count": 169,
   "id": "d64577ba-2fb2-4a63-8d86-7648f3e4b91b",
   "metadata": {},
   "outputs": [
    {
     "data": {
      "text/plain": [
       "array([b'p2', b'p0', b'p2', b'p5'], dtype=object)"
      ]
     },
     "execution_count": 169,
     "metadata": {},
     "output_type": "execute_result"
    }
   ],
   "source": [
    "indices = [2, 0, 2, 5]\n",
    "tf.gather(params, indices).numpy()"
   ]
  },
  {
   "attachments": {
    "6da5064e-f398-417c-a77c-28a20d9d3ace.png": {
     "image/png": "[encoded data removed]"
    }
   },
   "cell_type": "markdown",
   "id": "962fe4a1-573f-40de-831b-5baa58599237",
   "metadata": {},
   "source": [
    "![image.png](attachment:6da5064e-f398-417c-a77c-28a20d9d3ace.png)"
   ]
  },
  {
   "cell_type": "markdown",
   "id": "dcc6ab86-7201-4f08-94c6-b7e35f4b013d",
   "metadata": {},
   "source": [
    "**The indices can have any shape. When the params has 1 axis, the output shape is equal to the input shape:**"
   ]
  },
  {
   "cell_type": "code",
   "execution_count": 170,
   "id": "8ce10626-44b8-4ec9-a6ea-5bf58c8d4a86",
   "metadata": {},
   "outputs": [
    {
     "data": {
      "text/plain": [
       "array([[b'p2', b'p0'],\n",
       "       [b'p2', b'p5']], dtype=object)"
      ]
     },
     "execution_count": 170,
     "metadata": {},
     "output_type": "execute_result"
    }
   ],
   "source": [
    "tf.gather(params, [[2, 0], [2, 5]]).numpy()"
   ]
  },
  {
   "cell_type": "markdown",
   "id": "aa5bdb04-1917-4bbf-ba27-4ac4791f2f18",
   "metadata": {},
   "source": [
    "**The params may also have any shape. gather can select slices across any axis depending on the axis argument (which defaults to 0). Below it is used to gather first rows, then columns from a matrix:**"
   ]
  },
  {
   "cell_type": "code",
   "execution_count": 171,
   "id": "9b22eb3e-7829-471e-b2da-9b69e57c1011",
   "metadata": {},
   "outputs": [
    {
     "data": {
      "text/plain": [
       "array([[30., 31., 32.],\n",
       "       [10., 11., 12.]], dtype=float32)"
      ]
     },
     "execution_count": 171,
     "metadata": {},
     "output_type": "execute_result"
    }
   ],
   "source": [
    "params = tf.constant([[0, 1.0, 2.0],\n",
    "                      [10.0, 11.0, 12.0],\n",
    "                      [20.0, 21.0, 22.0],\n",
    "                      [30.0, 31.0, 32.0]])\n",
    "tf.gather(params, indices=[3,1]).numpy()"
   ]
  },
  {
   "cell_type": "code",
   "execution_count": 172,
   "id": "e73e43e1-8a2e-43b7-b6dd-c2da754bf41e",
   "metadata": {},
   "outputs": [
    {
     "data": {
      "text/plain": [
       "array([[ 2.,  1.],\n",
       "       [12., 11.],\n",
       "       [22., 21.],\n",
       "       [32., 31.]], dtype=float32)"
      ]
     },
     "execution_count": 172,
     "metadata": {},
     "output_type": "execute_result"
    }
   ],
   "source": [
    "tf.gather(params, indices=[2,1], axis=1).numpy()"
   ]
  },
  {
   "cell_type": "markdown",
   "id": "05ce2c31-5938-49e1-bb70-83c2171fc534",
   "metadata": {},
   "source": [
    "***"
   ]
  },
  {
   "cell_type": "markdown",
   "id": "37dd951e-973a-4471-a5ba-05528ba76bef",
   "metadata": {
    "jp-MarkdownHeadingCollapsed": true
   },
   "source": [
    "### **tf.gather_nd**\n",
    "* **Gather slices from params into a Tensor with shape specified by indices.**\n",
    "* **For more : https://www.tensorflow.org/api_docs/python/tf/gather_nd**"
   ]
  },
  {
   "cell_type": "markdown",
   "id": "67e79bdc-9df6-4f03-a472-8b424d5f80bc",
   "metadata": {},
   "source": [
    "**indices is a Tensor of indices into params. The index vectors are arranged along the last axis of indices.**\n",
    "\n",
    "**This is similar to tf.gather, in which indices defines slices into the first dimension of params. In tf.gather_nd, indices defines slices into the first N dimensions of params, where N = indices.shape[-1].**"
   ]
  },
  {
   "cell_type": "code",
   "execution_count": 173,
   "id": "8b793ee8-57a9-452a-b241-4b78be91d7e5",
   "metadata": {},
   "outputs": [
    {
     "data": {
      "text/plain": [
       "array([b'a', b'd'], dtype=object)"
      ]
     },
     "execution_count": 173,
     "metadata": {},
     "output_type": "execute_result"
    }
   ],
   "source": [
    "tf.gather_nd(\n",
    "    indices=[[0, 0],\n",
    "             [1, 1]],\n",
    "    params = [['a', 'b'],\n",
    "              ['c', 'd']]).numpy()\n"
   ]
  },
  {
   "cell_type": "markdown",
   "id": "b85e08a0-0d46-4cf0-bf94-4adbbd1f85d2",
   "metadata": {},
   "source": [
    "***"
   ]
  },
  {
   "cell_type": "markdown",
   "id": "00efedcb-8d64-4007-bbcb-1aa8563db208",
   "metadata": {
    "jp-MarkdownHeadingCollapsed": true
   },
   "source": [
    "## **8. Ragged Tensors**"
   ]
  },
  {
   "cell_type": "markdown",
   "id": "8721450d-dc7f-411b-8316-d1af06ab8329",
   "metadata": {},
   "source": [
    "**Ragged tensors are used in TensorFlow to handle data with non-uniform shapes. Unlike regular tensors, where each dimension must have a consistent length, ragged tensors can have dimensions of varying lengths. This is useful for many real-world datasets, such as sequences of varying lengths (e.g., sentences of different lengths in natural language processing, lists of different lengths in recommender systems).**\n",
    "\n",
    "**For more : https://www.tensorflow.org/api_docs/python/tf/ragged**"
   ]
  },
  {
   "cell_type": "code",
   "execution_count": 174,
   "id": "ce00038a-256a-4013-9592-08f1b4816ad3",
   "metadata": {},
   "outputs": [
    {
     "name": "stdout",
     "output_type": "stream",
     "text": [
      "<tf.RaggedTensor [[1, 2, 3], [4, 5], [], [6]]>\n"
     ]
    }
   ],
   "source": [
    "ragged_tensor = tf.ragged.constant([[1, 2, 3], [4, 5], [], [6]])\n",
    "print(ragged_tensor)"
   ]
  },
  {
   "cell_type": "markdown",
   "id": "7de1f0a7-bd5e-432b-ad9a-93c3af8d9686",
   "metadata": {},
   "source": [
    "***"
   ]
  },
  {
   "cell_type": "markdown",
   "id": "0d30418d-e96b-453a-9af1-d32e54bf2cf1",
   "metadata": {
    "jp-MarkdownHeadingCollapsed": true
   },
   "source": [
    "### **tf.ragged.boolean_mask**\n",
    "* **Applies a boolean mask to data without flattening the mask dimensions.**\n",
    "* **For more : https://www.tensorflow.org/api_docs/python/tf/ragged/boolean_mask**"
   ]
  },
  {
   "cell_type": "markdown",
   "id": "565dad82-34b2-424a-93dd-995ea9feecbf",
   "metadata": {},
   "source": [
    "**Boolean Mask is a tensor operation that uses a boolean tensor to select specific elements from another tensor. It's essentially a way to filter out elements based on some condition.**"
   ]
  },
  {
   "cell_type": "code",
   "execution_count": 175,
   "id": "4797a6f7-9e40-40ef-ab43-d72f6dddfcd8",
   "metadata": {},
   "outputs": [
    {
     "name": "stdout",
     "output_type": "stream",
     "text": [
      "tf.Tensor([1 3 5], shape=(3,), dtype=int32)\n"
     ]
    }
   ],
   "source": [
    "tensor = tf.constant([1, 2, 3, 4, 5])\n",
    "mask = tf.constant([True, False, True, False, True])\n",
    "\n",
    "# Applying the boolean mask\n",
    "masked_tensor = tf.boolean_mask(tensor, mask)\n",
    "print(masked_tensor)"
   ]
  },
  {
   "cell_type": "markdown",
   "id": "6c4d38bb-c1c5-4266-bff9-f67670301775",
   "metadata": {},
   "source": [
    "***"
   ]
  },
  {
   "cell_type": "markdown",
   "id": "4d11e039-9426-4e34-b0dc-90c45abdd076",
   "metadata": {},
   "source": [
    "### **RaggedTensor** "
   ]
  },
  {
   "cell_type": "markdown",
   "id": "e86fb011-54e4-4507-8073-c8a79fdd2f03",
   "metadata": {},
   "source": [
    "**A RaggedTensor is a tensor with one or more ragged dimensions, which are dimensions whose slices may have different lengths. For example, the inner (column) dimension of rt=[[3, 1, 4, 1], [], [5, 9, 2], [6], []] is ragged, since the column slices (rt[0, :], ..., rt[4, :]) have different lengths. Dimensions whose slices all have the same length are called uniform dimensions. The outermost dimension of a RaggedTensor is always uniform, since it consists of a single slice (and so there is no possibility for differing slice lengths).**\n",
    "\n",
    "**The total number of dimensions in a RaggedTensor is called its rank, and the number of ragged dimensions in a RaggedTensor is called its ragged-rank. A RaggedTensor's ragged-rank is fixed at graph creation time: it can't depend on the runtime values of Tensors, and can't vary dynamically for different session runs.**\n",
    "\n",
    "**Note that the __init__ constructor is private. Please use one of the following methods to construct a RaggedTensor:**\n",
    "\n",
    "* **tf.RaggedTensor.from_row_lengths**\n",
    "* **tf.RaggedTensor.from_value_rowids**\n",
    "* **tf.RaggedTensor.from_row_splits**\n",
    "* **tf.RaggedTensor.from_row_starts**\n",
    "* **tf.RaggedTensor.from_row_limits**\n",
    "* **tf.RaggedTensor.from_nested_row_splits**\n",
    "* **tf.RaggedTensor.from_nested_row_lengths**\n",
    "* **tf.RaggedTensor.from_nested_value_rowids**"
   ]
  },
  {
   "cell_type": "code",
   "execution_count": 177,
   "id": "37a4b4c5-ee8c-469d-aaf9-0941ef2b6293",
   "metadata": {},
   "outputs": [
    {
     "data": {
      "text/plain": [
       "<tf.RaggedTensor [[3, 1, 4, 1], [], [5, 9, 2], [6], []]>"
      ]
     },
     "execution_count": 177,
     "metadata": {},
     "output_type": "execute_result"
    }
   ],
   "source": [
    "values = [3, 1, 4, 1, 5, 9, 2, 6]\n",
    "tf.RaggedTensor.from_row_splits(values, row_splits=[0, 4, 4, 7, 8, 8])"
   ]
  },
  {
   "cell_type": "code",
   "execution_count": 178,
   "id": "85829b70-3c84-423c-af12-2c75af47097b",
   "metadata": {},
   "outputs": [
    {
     "data": {
      "text/plain": [
       "<tf.RaggedTensor [[3, 1, 4, 1], [], [5, 9, 2], [6], []]>"
      ]
     },
     "execution_count": 178,
     "metadata": {},
     "output_type": "execute_result"
    }
   ],
   "source": [
    "tf.RaggedTensor.from_row_lengths(values, row_lengths=[4, 0, 3, 1, 0])"
   ]
  },
  {
   "cell_type": "code",
   "execution_count": 179,
   "id": "ae129054-526c-4bf7-a147-0a47bf973e0e",
   "metadata": {},
   "outputs": [
    {
     "data": {
      "text/plain": [
       "<tf.RaggedTensor [[3, 1, 4, 1], [], [5, 9, 2], [6], []]>"
      ]
     },
     "execution_count": 179,
     "metadata": {},
     "output_type": "execute_result"
    }
   ],
   "source": [
    "tf.RaggedTensor.from_value_rowids(\n",
    "    values, value_rowids=[0, 0, 0, 0, 2, 2, 2, 3], nrows=5)"
   ]
  },
  {
   "cell_type": "code",
   "execution_count": 180,
   "id": "63f6f6c4-a58f-4d8f-ab09-dad5b224d5c8",
   "metadata": {},
   "outputs": [
    {
     "data": {
      "text/plain": [
       "<tf.RaggedTensor [[3, 1, 4, 1], [], [5, 9, 2], [6], []]>"
      ]
     },
     "execution_count": 180,
     "metadata": {},
     "output_type": "execute_result"
    }
   ],
   "source": [
    "tf.RaggedTensor.from_row_starts(values, row_starts=[0, 4, 4, 7, 8])"
   ]
  },
  {
   "cell_type": "code",
   "execution_count": 181,
   "id": "1752976d-fe8e-4eae-aab8-9aefe0024fa7",
   "metadata": {},
   "outputs": [
    {
     "data": {
      "text/plain": [
       "<tf.RaggedTensor [[3, 1, 4, 1], [], [5, 9, 2], [6], []]>"
      ]
     },
     "execution_count": 181,
     "metadata": {},
     "output_type": "execute_result"
    }
   ],
   "source": [
    "tf.RaggedTensor.from_row_limits(values, row_limits=[4, 4, 7, 8, 8])"
   ]
  },
  {
   "cell_type": "code",
   "execution_count": 182,
   "id": "f073cff3-7f9d-4bd1-94e3-3ef05eec99b6",
   "metadata": {},
   "outputs": [
    {
     "data": {
      "text/plain": [
       "<tf.RaggedTensor [[3, 1],\n",
       " [4, 1],\n",
       " [5, 9],\n",
       " [2, 6]]>"
      ]
     },
     "execution_count": 182,
     "metadata": {},
     "output_type": "execute_result"
    }
   ],
   "source": [
    "tf.RaggedTensor.from_uniform_row_length(values, uniform_row_length=2)"
   ]
  },
  {
   "cell_type": "markdown",
   "id": "b50b7c28-789d-4ea5-94d8-4b5546817df7",
   "metadata": {},
   "source": [
    "***"
   ]
  },
  {
   "cell_type": "markdown",
   "id": "76cccb93-bd09-4f4b-979f-232df486ad52",
   "metadata": {
    "jp-MarkdownHeadingCollapsed": true
   },
   "source": [
    "## **9. Sparse & String Tensors**"
   ]
  },
  {
   "cell_type": "markdown",
   "id": "5797a52e-d4ee-4d0c-be22-2e44d8632f4c",
   "metadata": {
    "jp-MarkdownHeadingCollapsed": true
   },
   "source": [
    "### **Sparse Tensors**\n",
    "* **Sparse Tensors are used to efficiently represent tensors that contain a lot of zero elements. Instead of storing all the values (including zeros), they only store the non-zero values and their indices. This saves memory and computational resources.**\n",
    "* **For more : https://www.tensorflow.org/api_docs/python/tf/sparse**"
   ]
  },
  {
   "cell_type": "code",
   "execution_count": 183,
   "id": "4f40a83b-061e-4654-a8b8-a906c1fc98da",
   "metadata": {},
   "outputs": [
    {
     "name": "stdout",
     "output_type": "stream",
     "text": [
      "SparseTensor(indices=tf.Tensor(\n",
      "[[0 0]\n",
      " [1 2]], shape=(2, 2), dtype=int64), values=tf.Tensor([1 2], shape=(2,), dtype=int32), dense_shape=tf.Tensor([3 4], shape=(2,), dtype=int64))\n"
     ]
    }
   ],
   "source": [
    "sparse_tensor = tf.SparseTensor(indices=[[0, 0], [1, 2]], values=[1, 2], dense_shape=[3, 4])\n",
    "print(sparse_tensor)"
   ]
  },
  {
   "cell_type": "code",
   "execution_count": 184,
   "id": "3140dd65-29ab-4a2b-9c5f-59a3bae4e0d9",
   "metadata": {},
   "outputs": [
    {
     "name": "stdout",
     "output_type": "stream",
     "text": [
      "tf.Tensor(\n",
      "[[1 0 0 0]\n",
      " [0 0 2 0]\n",
      " [0 0 0 0]], shape=(3, 4), dtype=int32)\n"
     ]
    }
   ],
   "source": [
    "# Convert sparse tensor to dense\n",
    "dense_tensor = tf.sparse.to_dense(sparse_tensor)\n",
    "print(dense_tensor)"
   ]
  },
  {
   "cell_type": "markdown",
   "id": "65ac9234-ba50-4b99-88cf-9ceb62679b72",
   "metadata": {},
   "source": [
    "***"
   ]
  },
  {
   "cell_type": "markdown",
   "id": "06e32ec2-700d-43f4-b9b8-42e7a226540e",
   "metadata": {
    "jp-MarkdownHeadingCollapsed": true
   },
   "source": [
    "### **String Tensors**\n",
    "* **String Tensors are tensors that contain string data. TensorFlow provides various operations to work with string tensors.**"
   ]
  },
  {
   "cell_type": "code",
   "execution_count": 187,
   "id": "feb4df35-9a94-4e81-9ed0-feff2ec0b332",
   "metadata": {},
   "outputs": [
    {
     "name": "stdout",
     "output_type": "stream",
     "text": [
      "tf.Tensor([b\"I'm\" b'Naveen' b'Sharma'], shape=(3,), dtype=string)\n"
     ]
    }
   ],
   "source": [
    "str_tensor = tf.constant([\"I'm\", \"Naveen\", \"Sharma\"])\n",
    "print(str_tensor)"
   ]
  },
  {
   "cell_type": "code",
   "execution_count": 188,
   "id": "ce9ccdb6-2e00-4949-afab-9ed5992f28a1",
   "metadata": {},
   "outputs": [
    {
     "name": "stdout",
     "output_type": "stream",
     "text": [
      "tf.Tensor(b\"I'm Naveen Sharma\", shape=(), dtype=string)\n"
     ]
    }
   ],
   "source": [
    "# Joining strings with a space\n",
    "joined_string = tf.strings.join(str_tensor, separator=' ')\n",
    "print(joined_string)"
   ]
  },
  {
   "cell_type": "code",
   "execution_count": 189,
   "id": "cc0ef752-c445-410c-8af9-a02206cd1189",
   "metadata": {},
   "outputs": [
    {
     "name": "stdout",
     "output_type": "stream",
     "text": [
      "tf.Tensor([b'1' b'2' b'3'], shape=(3,), dtype=string)\n"
     ]
    }
   ],
   "source": [
    "# Creating a numeric tensor\n",
    "numeric_tensor = tf.constant([1, 2, 3])\n",
    "\n",
    "# Converting to string tensor\n",
    "string_tensor = tf.strings.as_string(numeric_tensor)\n",
    "print(string_tensor)"
   ]
  },
  {
   "cell_type": "markdown",
   "id": "530181de-e974-4ff9-a4c3-12fe126f864e",
   "metadata": {},
   "source": [
    "***"
   ]
  },
  {
   "cell_type": "markdown",
   "id": "6ad57034-1767-41c6-9d86-92d2055cb426",
   "metadata": {},
   "source": [
    "## **10. Tensor variables**"
   ]
  },
  {
   "cell_type": "markdown",
   "id": "b2109ef1-aea9-4943-9da0-fe2ef3461039",
   "metadata": {},
   "source": [
    "**Tensor Variables are mutable tensors that can be updated in place. They are useful for maintaining state, such as weights in a neural network.**"
   ]
  },
  {
   "cell_type": "code",
   "execution_count": 190,
   "id": "53a8d26b-2db6-4269-b766-34ab6e27954d",
   "metadata": {},
   "outputs": [
    {
     "name": "stdout",
     "output_type": "stream",
     "text": [
      "<tf.Variable 'Variable:0' shape=(3,) dtype=int32, numpy=array([1, 2, 3])>\n"
     ]
    }
   ],
   "source": [
    "# Creating a variable\n",
    "var_tensor = tf.Variable([1, 2, 3])\n",
    "print(var_tensor)"
   ]
  },
  {
   "cell_type": "code",
   "execution_count": 192,
   "id": "2965b8d6-4898-4aa6-9f58-9f04465c757b",
   "metadata": {},
   "outputs": [
    {
     "name": "stdout",
     "output_type": "stream",
     "text": [
      "<tf.Variable 'Variable:0' shape=(3,) dtype=int32, numpy=array([2, 3, 4])>\n"
     ]
    }
   ],
   "source": [
    "# Using assign_add to increment\n",
    "var_tensor.assign_add([1, 1, 1])\n",
    "print(var_tensor)"
   ]
  },
  {
   "cell_type": "code",
   "execution_count": 193,
   "id": "a6756e95-94da-4396-b176-fc49b723e396",
   "metadata": {},
   "outputs": [
    {
     "name": "stdout",
     "output_type": "stream",
     "text": [
      "<tf.Variable 'Variable:0' shape=(3,) dtype=int32, numpy=array([1, 2, 3])>\n"
     ]
    }
   ],
   "source": [
    "# Using assign_sub to decrement\n",
    "var_tensor.assign_sub([1, 1, 1])\n",
    "print(var_tensor)"
   ]
  },
  {
   "cell_type": "code",
   "execution_count": 194,
   "id": "82024c53-4246-4eb6-9f37-70c48ec11865",
   "metadata": {},
   "outputs": [
    {
     "name": "stdout",
     "output_type": "stream",
     "text": [
      "<tf.Variable 'Variable:0' shape=(3,) dtype=int32, numpy=array([10, 20, 30])>\n"
     ]
    }
   ],
   "source": [
    "# Using assign to set new values\n",
    "var_tensor.assign([10, 20, 30])\n",
    "print(var_tensor)"
   ]
  }
 ],
 "metadata": {
  "kernelspec": {
   "display_name": "Python 3 (ipykernel)",
   "language": "python",
   "name": "python3"
  },
  "language_info": {
   "codemirror_mode": {
    "name": "ipython",
    "version": 3
   },
   "file_extension": ".py",
   "mimetype": "text/x-python",
   "name": "python",
   "nbconvert_exporter": "python",
   "pygments_lexer": "ipython3",
   "version": "3.11.9"
  }
 },
 "nbformat": 4,
 "nbformat_minor": 5
}
