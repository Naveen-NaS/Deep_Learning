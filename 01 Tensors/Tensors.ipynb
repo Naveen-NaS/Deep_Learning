{
 "cells": [
  {
   "cell_type": "markdown",
   "id": "8c8afbf8-24fb-411b-b43f-a9d65c615481",
   "metadata": {},
   "source": [
    "# **Tensors**"
   ]
  },
  {
   "cell_type": "markdown",
   "id": "398c8b4b-cca6-4b44-a129-d0f35e79fe53",
   "metadata": {
    "jp-MarkdownHeadingCollapsed": true
   },
   "source": [
    "## **1. Introduction**"
   ]
  },
  {
   "cell_type": "markdown",
   "id": "7079efc4-6625-415d-8665-908025edf9d8",
   "metadata": {},
   "source": [
    "**A tensor is a multi-dimensional array that is a fundamental data structure used to represent data. Tensors generalize matrices to higher dimensions and are essential for managing and manipulating the complex data structures used in neural networks. Here’s a brief overview of tensors:**\n",
    "\n",
    "* **_Scalars (0-D tensors):_ These are single numbers, such as 5 or 3.14.**\n",
    "\n",
    "* **_Vectors (1-D tensors):_ These are one-dimensional arrays of numbers. For example, [1,2,3] is a 1-D tensor.**\n",
    "\n",
    "* **_Matrices (2-D tensors):_ These are two-dimensional arrays of numbers. For example: [[1,2,3], [4,5,6], [7,8,9]] is a 2-D tensor.**\n",
    "\n",
    "* **_Higher-Dimensional Tensors:_ These are arrays with more than two dimensions. For instance, a 3-D tensor could be a collection of matrices (e.g., a batch of images), and a 4-D tensor might represent a batch of images with multiple channels (such as RGB color channels).**"
   ]
  },
  {
   "cell_type": "markdown",
   "id": "5237bd9b-d8eb-467d-bea7-9e4c58b9ec92",
   "metadata": {
    "jp-MarkdownHeadingCollapsed": true
   },
   "source": [
    "### **Basic Declaration and Defining**"
   ]
  },
  {
   "cell_type": "code",
   "execution_count": 122,
   "id": "59a42225-cc96-4ad9-842a-e36b01a3d8ef",
   "metadata": {},
   "outputs": [],
   "source": [
    "# Importing tensor\n",
    "import tensorflow as tf\n",
    "import numpy as np"
   ]
  },
  {
   "cell_type": "markdown",
   "id": "d4c068e5-b035-41eb-ac68-82124840c016",
   "metadata": {},
   "source": [
    "> **0-D Tensor**"
   ]
  },
  {
   "cell_type": "code",
   "execution_count": 123,
   "id": "da96d1a9-1f27-4189-aedf-bf3f418bb7dc",
   "metadata": {},
   "outputs": [
    {
     "name": "stdout",
     "output_type": "stream",
     "text": [
      "tf.Tensor(5, shape=(), dtype=int32)\n"
     ]
    }
   ],
   "source": [
    "tensor_zero_d = tf.constant(5)\n",
    "print(tensor_zero_d)"
   ]
  },
  {
   "cell_type": "markdown",
   "id": "6e2947fa-4fa3-4983-abdf-2b23570b50ef",
   "metadata": {},
   "source": [
    "> **1-D Tensor**"
   ]
  },
  {
   "cell_type": "code",
   "execution_count": 124,
   "id": "0e8f1284-3997-4cbf-9961-e4eb56a04fc0",
   "metadata": {},
   "outputs": [
    {
     "name": "stdout",
     "output_type": "stream",
     "text": [
      "tf.Tensor([1 2 3 4 5], shape=(5,), dtype=int32)\n"
     ]
    }
   ],
   "source": [
    "tensor_one_d = tf.constant([1,2,3,4,5])\n",
    "print(tensor_one_d)"
   ]
  },
  {
   "cell_type": "markdown",
   "id": "054e75c8-c6ad-42ee-bc44-1acf5be3e1a6",
   "metadata": {},
   "source": [
    "> **2-D Tensor**"
   ]
  },
  {
   "cell_type": "code",
   "execution_count": 125,
   "id": "4df4f43b-e3c4-4c61-b941-0d156e473728",
   "metadata": {},
   "outputs": [
    {
     "name": "stdout",
     "output_type": "stream",
     "text": [
      "tf.Tensor(\n",
      "[[1 2 3]\n",
      " [4 5 6]\n",
      " [7 8 9]], shape=(3, 3), dtype=int32)\n"
     ]
    }
   ],
   "source": [
    "tensor_two_d = tf.constant([\n",
    "    [1,2,3],\n",
    "    [4,5,6],\n",
    "    [7,8,9]\n",
    "])\n",
    "print(tensor_two_d)"
   ]
  },
  {
   "cell_type": "markdown",
   "id": "db4139e2-b465-4de5-86e9-514b1147aabc",
   "metadata": {},
   "source": [
    "> **3-D Tensor**"
   ]
  },
  {
   "cell_type": "code",
   "execution_count": 126,
   "id": "3cfd9b86-e158-4357-a692-d642c7eedcf5",
   "metadata": {},
   "outputs": [
    {
     "name": "stdout",
     "output_type": "stream",
     "text": [
      "tf.Tensor(\n",
      "[[[ 1  0  1]\n",
      "  [ 2 -1  3]]\n",
      "\n",
      " [[ 3  4  1]\n",
      "  [ 7  2  0]]\n",
      "\n",
      " [[ 6 -5  2]\n",
      "  [ 9 -2  0]]\n",
      "\n",
      " [[-1  5  0]\n",
      "  [ 3  0  9]]], shape=(4, 2, 3), dtype=int32)\n"
     ]
    }
   ],
   "source": [
    "tensor_three_d = tf.constant([\n",
    "    [\n",
    "        [1,0,1],\n",
    "        [2,-1,3]\n",
    "    ],\n",
    "    [\n",
    "        [3,4,1],\n",
    "        [7,2,0]\n",
    "    ],\n",
    "    [\n",
    "        [6,-5,2],\n",
    "        [9,-2,0]\n",
    "    ],\n",
    "    [\n",
    "        [-1,5,0],\n",
    "        [3,0,9]\n",
    "    ]\n",
    "])\n",
    "print(tensor_three_d)"
   ]
  },
  {
   "cell_type": "code",
   "execution_count": 127,
   "id": "dea495cc-1180-44df-98b1-4d3586f9725f",
   "metadata": {},
   "outputs": [
    {
     "data": {
      "text/plain": [
       "TensorShape([3, 3])"
      ]
     },
     "execution_count": 127,
     "metadata": {},
     "output_type": "execute_result"
    }
   ],
   "source": [
    "# To check shape\n",
    "tensor_two_d.shape"
   ]
  },
  {
   "cell_type": "code",
   "execution_count": 128,
   "id": "8588fd28-d11d-47e3-b3ca-cf1974bbae62",
   "metadata": {},
   "outputs": [
    {
     "data": {
      "text/plain": [
       "3"
      ]
     },
     "execution_count": 128,
     "metadata": {},
     "output_type": "execute_result"
    }
   ],
   "source": [
    "# To check dimension\n",
    "tensor_three_d.ndim"
   ]
  },
  {
   "cell_type": "markdown",
   "id": "cda22b02-916c-4530-bc6b-1a276fb2fe54",
   "metadata": {},
   "source": [
    "> **4-D Tensor**"
   ]
  },
  {
   "cell_type": "markdown",
   "id": "40a67bde-15cc-4820-b209-977d47426bfc",
   "metadata": {},
   "source": [
    "**Like 3-D tensor we need multiple 3-D tensors to enclose in a tensor to make 4-D tensor, and so on...**"
   ]
  },
  {
   "cell_type": "code",
   "execution_count": 129,
   "id": "9b63e23e-1b01-44b7-8575-7cd4623d1c41",
   "metadata": {},
   "outputs": [
    {
     "name": "stdout",
     "output_type": "stream",
     "text": [
      "tf.Tensor(\n",
      "[[[[   1    2    0]\n",
      "   [   3    5   -1]]\n",
      "\n",
      "  [[  10    2    0]\n",
      "   [   1    0    2]]\n",
      "\n",
      "  [[   5    8    0]\n",
      "   [   2    7    0]]\n",
      "\n",
      "  [[   2    1    9]\n",
      "   [   4   -3   32]]]\n",
      "\n",
      "\n",
      " [[[  13   26    0]\n",
      "   [   3    5  -12]]\n",
      "\n",
      "  [[  10    2    0]\n",
      "   [   1    0   23]]\n",
      "\n",
      "  [[   5    8    0]\n",
      "   [   2   73    0]]\n",
      "\n",
      "  [[   2    1    9]\n",
      "   [   4  -30   32]]]\n",
      "\n",
      "\n",
      " [[[ 103   26    0]\n",
      "   [   3   50  -12]]\n",
      "\n",
      "  [[ 100    2    0]\n",
      "   [   1    0   23]]\n",
      "\n",
      "  [[   5   28    0]\n",
      "   [   2    3    0]]\n",
      "\n",
      "  [[  22    1    9]\n",
      "   [  44 -320   32]]]], shape=(3, 4, 2, 3), dtype=int32)\n"
     ]
    }
   ],
   "source": [
    "tensor_four_d = tf.constant([\n",
    "\n",
    "[\n",
    "    [[1,2,0],\n",
    "    [3,5,-1]],\n",
    "\n",
    "    [[10,2,0],\n",
    "    [1,0,2]],\n",
    "\n",
    "    [[5,8,0],\n",
    "    [2,7,0]],\n",
    "\n",
    "    [[2,1,9],\n",
    "    [4,-3,32]],\n",
    "\n",
    "],\n",
    "\n",
    "[\n",
    "    [[13,26,0],\n",
    "    [3,5,-12]],\n",
    "\n",
    "    [[10,2,0],\n",
    "    [1,0,23]],\n",
    "\n",
    "    [[5,8,0],\n",
    "    [2,73,0]],\n",
    "\n",
    "    [[2,1,9],\n",
    "    [4,-30,32]],\n",
    "\n",
    "],\n",
    "\n",
    "[\n",
    "    [[103,26,0],\n",
    "    [3,50,-12]],\n",
    "\n",
    "    [[100,2,0],\n",
    "    [1,0,23]],\n",
    "\n",
    "    [[5,28,0],\n",
    "    [2,3,0]],\n",
    "\n",
    "    [[22,1,9],\n",
    "    [44,-320,32]],\n",
    "\n",
    "],\n",
    "\n",
    "])\n",
    "print(tensor_four_d)"
   ]
  },
  {
   "cell_type": "markdown",
   "id": "66d43c12-8ef4-4111-8188-8b8619810b4d",
   "metadata": {
    "jp-MarkdownHeadingCollapsed": true
   },
   "source": [
    "### **Setting data type of tensors**"
   ]
  },
  {
   "cell_type": "markdown",
   "id": "d52c3283-b0cd-4dc0-a2d5-bdb8670bc921",
   "metadata": {},
   "source": [
    "**We can see various datatypes from here : https://www.tensorflow.org/api_docs/python/tf/dtypes/DType**"
   ]
  },
  {
   "cell_type": "code",
   "execution_count": 130,
   "id": "7b6f1038-5ea8-4c80-9086-42b9b7482beb",
   "metadata": {},
   "outputs": [
    {
     "name": "stdout",
     "output_type": "stream",
     "text": [
      "tf.Tensor([1. 2. 3.], shape=(3,), dtype=float32)\n"
     ]
    }
   ],
   "source": [
    "# To set data type we use \"DType\"\n",
    "tensor_one_d = tf.constant([1,2,3.])\n",
    "print(tensor_one_d)"
   ]
  },
  {
   "cell_type": "code",
   "execution_count": 131,
   "id": "4c8a8ebe-7f10-4e53-baeb-79e697496369",
   "metadata": {},
   "outputs": [
    {
     "name": "stdout",
     "output_type": "stream",
     "text": [
      "tf.Tensor([1. 2. 3.], shape=(3,), dtype=float16)\n"
     ]
    }
   ],
   "source": [
    "# Now by-default it's setting float32 but using \"DType\" we can set it to float16 or double, etc.\n",
    "tensor_one_d = tf.constant([1,2,3.], dtype=tf.float16)\n",
    "print(tensor_one_d)"
   ]
  },
  {
   "cell_type": "markdown",
   "id": "40aa7d17-be4f-4ac5-a028-79071d1142e4",
   "metadata": {
    "jp-MarkdownHeadingCollapsed": true
   },
   "source": [
    "### **Tensor Casting**\n",
    "* **\"Casting\" refers to the process of converting a tensor from one data type to another. This is also known as type casting or data type conversion. Casting is important because different operations in deep learning may require tensors to be in specific data types for compatibility and computational efficiency.**"
   ]
  },
  {
   "cell_type": "code",
   "execution_count": 132,
   "id": "33e9050d-c47e-40f8-b2d9-1bf77df7d6ba",
   "metadata": {},
   "outputs": [
    {
     "name": "stdout",
     "output_type": "stream",
     "text": [
      "tf.Tensor([ 1.  0.  2.  3.  4.  0. -5.  6.], shape=(8,), dtype=float32)\n"
     ]
    }
   ],
   "source": [
    "tensor1 = tf.constant([1, 0, 2, 3, 4, 0.0, -5, 6])\n",
    "print(tensor1)"
   ]
  },
  {
   "cell_type": "code",
   "execution_count": 133,
   "id": "8b5bcc6b-16b9-480f-9c27-91ac039d2718",
   "metadata": {},
   "outputs": [
    {
     "name": "stdout",
     "output_type": "stream",
     "text": [
      "tf.Tensor([ 1  0  2  3  4  0 -5  6], shape=(8,), dtype=int32)\n"
     ]
    }
   ],
   "source": [
    "# Casting float32 to int32\n",
    "tensor1_int = tf.cast(tensor1, dtype=\"int32\")\n",
    "print(tensor1_int)"
   ]
  },
  {
   "cell_type": "code",
   "execution_count": 134,
   "id": "f901ca72-5e39-4c97-9d9a-648003cd058a",
   "metadata": {},
   "outputs": [
    {
     "name": "stdout",
     "output_type": "stream",
     "text": [
      "tf.Tensor([ True False  True  True  True False  True  True], shape=(8,), dtype=bool)\n"
     ]
    }
   ],
   "source": [
    "# Casting float32 to boolean\n",
    "tensor1_bool = tf.cast(tensor1, dtype=bool)\n",
    "print(tensor1_bool)"
   ]
  },
  {
   "cell_type": "markdown",
   "id": "4e5f9de4-6266-4603-b513-1a387cf76ff2",
   "metadata": {
    "jp-MarkdownHeadingCollapsed": true
   },
   "source": [
    "### **Numpy array to Tensor**\n",
    "* **We can convert a NumPy array to a TensorFlow tensor using the tf.convert_to_tensor function**"
   ]
  },
  {
   "cell_type": "code",
   "execution_count": 135,
   "id": "3a966ff2-43fe-4441-889e-ed0dbe4dd7ae",
   "metadata": {},
   "outputs": [
    {
     "name": "stdout",
     "output_type": "stream",
     "text": [
      "[1 2 3 4 5]\n"
     ]
    }
   ],
   "source": [
    "numpy_array = np.array([1, 2, 3, 4, 5])\n",
    "print(numpy_array)"
   ]
  },
  {
   "cell_type": "code",
   "execution_count": 136,
   "id": "904a06bc-2586-4275-ad6b-bc00b2c3c18c",
   "metadata": {},
   "outputs": [
    {
     "name": "stdout",
     "output_type": "stream",
     "text": [
      "tf.Tensor([1 2 3 4 5], shape=(5,), dtype=int32)\n"
     ]
    }
   ],
   "source": [
    "tensor_from_numpy_arr = tf.convert_to_tensor(numpy_array)\n",
    "print(tensor_from_numpy_arr)"
   ]
  },
  {
   "cell_type": "markdown",
   "id": "1b869d99-504e-465d-b3f1-84f2b7b6f274",
   "metadata": {
    "jp-MarkdownHeadingCollapsed": true
   },
   "source": [
    "### **Indentity Tensor**\n",
    "* **An identity tensor is a generalization of the identity matrix to higher dimensions. In the context of tensors, the identity tensor often refers to a tensor that acts like an identity matrix in specific operations, meaning it has ones on the diagonal and zeros elsewhere.**\n",
    "\n",
    "* **In deep learning libraries like TensorFlow and PyTorch, the identity tensor is often created in the context of square matrices (2-D tensors).**\n",
    "\n",
    "* **For more : https://www.tensorflow.org/api_docs/python/tf/eye**"
   ]
  },
  {
   "cell_type": "code",
   "execution_count": 137,
   "id": "addb119e-8b70-485e-9310-1e2f2e8f01d7",
   "metadata": {},
   "outputs": [
    {
     "name": "stdout",
     "output_type": "stream",
     "text": [
      "tf.Tensor(\n",
      "[[1. 0. 0.]\n",
      " [0. 1. 0.]\n",
      " [0. 0. 1.]], shape=(3, 3), dtype=float32)\n"
     ]
    }
   ],
   "source": [
    "eye_tensor = tf.eye(\n",
    "    num_rows=3,\n",
    "    num_columns=None,\n",
    "    batch_shape=None,\n",
    "    dtype=tf.dtypes.float32,\n",
    "    name=None\n",
    ")\n",
    "print(eye_tensor)"
   ]
  },
  {
   "cell_type": "code",
   "execution_count": 138,
   "id": "7b598275-322d-4e87-94a2-dc24058d6041",
   "metadata": {},
   "outputs": [
    {
     "name": "stdout",
     "output_type": "stream",
     "text": [
      "tf.Tensor(\n",
      "[[3. 0. 0.]\n",
      " [0. 3. 0.]\n",
      " [0. 0. 3.]], shape=(3, 3), dtype=float32)\n"
     ]
    }
   ],
   "source": [
    "print(3*eye_tensor)"
   ]
  },
  {
   "cell_type": "code",
   "execution_count": 139,
   "id": "1df273db-8dc7-4731-8760-c6fecc3dd59c",
   "metadata": {},
   "outputs": [
    {
     "name": "stdout",
     "output_type": "stream",
     "text": [
      "tf.Tensor(\n",
      "[[ True False False]\n",
      " [False  True False]\n",
      " [False False  True]], shape=(3, 3), dtype=bool)\n"
     ]
    }
   ],
   "source": [
    "eye_tensor_bool = tf.eye(\n",
    "    num_rows=3,\n",
    "    num_columns=None,\n",
    "    batch_shape=None,\n",
    "    dtype=tf.dtypes.bool,\n",
    "    name=None\n",
    ")\n",
    "print(eye_tensor_bool)"
   ]
  },
  {
   "cell_type": "code",
   "execution_count": 140,
   "id": "07ad8a1f-4fe0-414d-998e-35435c9df47b",
   "metadata": {},
   "outputs": [
    {
     "name": "stdout",
     "output_type": "stream",
     "text": [
      "tf.Tensor(\n",
      "[[[1. 0. 0.]\n",
      "  [0. 1. 0.]\n",
      "  [0. 0. 1.]]\n",
      "\n",
      " [[1. 0. 0.]\n",
      "  [0. 1. 0.]\n",
      "  [0. 0. 1.]]\n",
      "\n",
      " [[1. 0. 0.]\n",
      "  [0. 1. 0.]\n",
      "  [0. 0. 1.]]], shape=(3, 3, 3), dtype=float32)\n"
     ]
    }
   ],
   "source": [
    "# We can also the set the batch shape to make 2d or 3d or higher dimensional eye tensor\n",
    "eye_tensor = tf.eye(\n",
    "    num_rows=3,\n",
    "    num_columns=None,\n",
    "    batch_shape=[3,],\n",
    "    dtype=tf.dtypes.float32,\n",
    "    name=None\n",
    ")\n",
    "print(eye_tensor)"
   ]
  },
  {
   "cell_type": "markdown",
   "id": "260528da-4809-4d89-af10-173c02c4fb04",
   "metadata": {
    "jp-MarkdownHeadingCollapsed": true
   },
   "source": [
    "## **2. Some Important Functions**"
   ]
  },
  {
   "cell_type": "markdown",
   "id": "e5b09c5d-41bc-45a4-8a48-a480e35b8589",
   "metadata": {
    "jp-MarkdownHeadingCollapsed": true
   },
   "source": [
    "### **tf.fill**\n",
    "* **\"fill\" refers to the operation of populating a tensor with a specific value. This operation is useful when you need to initialize tensors with a constant value, such as zeros, ones, or any other specific value.**\n",
    "* **For more : https://www.tensorflow.org/api_docs/python/tf/fill**"
   ]
  },
  {
   "cell_type": "code",
   "execution_count": 141,
   "id": "9ddfe1b1-5a05-42bb-8d2d-316c1a07034d",
   "metadata": {},
   "outputs": [
    {
     "name": "stdout",
     "output_type": "stream",
     "text": [
      "tf.Tensor(\n",
      "[[5 5 5 5]\n",
      " [5 5 5 5]\n",
      " [5 5 5 5]], shape=(3, 4), dtype=int32)\n"
     ]
    }
   ],
   "source": [
    "fill_tensor = tf.fill(\n",
    "    dims=[3,4], value=5, name=None, layout=None\n",
    ")\n",
    "print(fill_tensor)"
   ]
  },
  {
   "cell_type": "markdown",
   "id": "39b05cec-d6fb-411d-b052-ddd42acaee47",
   "metadata": {},
   "source": [
    "***"
   ]
  },
  {
   "cell_type": "markdown",
   "id": "45cd7c32-3522-4010-a5a4-2f28adf386e2",
   "metadata": {
    "jp-MarkdownHeadingCollapsed": true
   },
   "source": [
    "### **tf.ones**\n",
    "* **It's similiar to \"fill\" but we not pass here any value as by default it fills with value=1**\n",
    "* **For more : https://www.tensorflow.org/api_docs/python/tf/ones**"
   ]
  },
  {
   "cell_type": "code",
   "execution_count": 142,
   "id": "b85875ad-8c6e-4819-8692-827bf2d2e4d9",
   "metadata": {},
   "outputs": [
    {
     "name": "stdout",
     "output_type": "stream",
     "text": [
      "tf.Tensor(\n",
      "[[1. 1. 1. 1.]\n",
      " [1. 1. 1. 1.]\n",
      " [1. 1. 1. 1.]], shape=(3, 4), dtype=float32)\n"
     ]
    }
   ],
   "source": [
    "onse_tensor = tf.ones(\n",
    "    shape=[3,4],\n",
    "    dtype=tf.dtypes.float32,\n",
    "    name=None,\n",
    "    layout=None\n",
    ")\n",
    "print(onse_tensor)"
   ]
  },
  {
   "cell_type": "markdown",
   "id": "615ec4b6-1cc3-4549-9edf-47986794e0c8",
   "metadata": {},
   "source": [
    "***"
   ]
  },
  {
   "cell_type": "markdown",
   "id": "d2645c79-98a4-4532-837c-d4c099b5d378",
   "metadata": {
    "jp-MarkdownHeadingCollapsed": true
   },
   "source": [
    "### **tf.ones_like**\n",
    "* **\"tf.ones_like\" is a function that returns a tensor filled with ones, with the same shape and type as a given input tensor.**\n",
    "* **In input we also pass a tensor to it.**\n",
    "* **For more : https://www.tensorflow.org/api_docs/python/tf/ones_like**"
   ]
  },
  {
   "cell_type": "code",
   "execution_count": 143,
   "id": "b444f2be-f0fe-490e-9993-ea3d109fff12",
   "metadata": {},
   "outputs": [
    {
     "name": "stdout",
     "output_type": "stream",
     "text": [
      "This is fill tensor :  tf.Tensor(\n",
      "[[5 5 5 5]\n",
      " [5 5 5 5]\n",
      " [5 5 5 5]], shape=(3, 4), dtype=int32) \n",
      "\n",
      "This is ones like tensor made from fill tensor :  tf.Tensor(\n",
      "[[1 1 1 1]\n",
      " [1 1 1 1]\n",
      " [1 1 1 1]], shape=(3, 4), dtype=int32)\n"
     ]
    }
   ],
   "source": [
    "ones_like_tensor = tf.ones_like(fill_tensor)\n",
    "print(\"This is fill tensor : \", fill_tensor, \"\\n\") \n",
    "print(\"This is ones like tensor made from fill tensor : \", ones_like_tensor)"
   ]
  },
  {
   "cell_type": "markdown",
   "id": "077059a0-477a-42d9-997f-1e0b0716478f",
   "metadata": {},
   "source": [
    "***"
   ]
  },
  {
   "cell_type": "markdown",
   "id": "3c95bd4b-31d1-47ef-bfea-7fb3975196ff",
   "metadata": {
    "jp-MarkdownHeadingCollapsed": true
   },
   "source": [
    "### **tf.zeros**\n",
    "* **This is similar to \"tf.ones\", it'll just set the value equal to zero.**\n",
    "* **For more : https://www.tensorflow.org/api_docs/python/tf/zeros**"
   ]
  },
  {
   "cell_type": "code",
   "execution_count": 144,
   "id": "2ae6185a-d9dc-4790-9abf-9f54a61d03d6",
   "metadata": {},
   "outputs": [
    {
     "name": "stdout",
     "output_type": "stream",
     "text": [
      "tf.Tensor(\n",
      "[[0. 0. 0.]\n",
      " [0. 0. 0.]\n",
      " [0. 0. 0.]\n",
      " [0. 0. 0.]], shape=(4, 3), dtype=float32)\n"
     ]
    }
   ],
   "source": [
    "zeros_tensor = tf.zeros(\n",
    "    shape=[4,3],\n",
    "    dtype=tf.dtypes.float32,\n",
    "    name=None,\n",
    "    layout=None\n",
    ")\n",
    "print(zeros_tensor)"
   ]
  },
  {
   "cell_type": "code",
   "execution_count": 145,
   "id": "7bd2149e-3f1f-4f25-965f-c4ab96a4a038",
   "metadata": {},
   "outputs": [
    {
     "name": "stdout",
     "output_type": "stream",
     "text": [
      "tf.Tensor(\n",
      "[[0 0 0]\n",
      " [0 0 0]\n",
      " [0 0 0]\n",
      " [0 0 0]], shape=(4, 3), dtype=int32)\n"
     ]
    }
   ],
   "source": [
    "zeros_tensor = tf.zeros(\n",
    "    shape=[4,3],\n",
    "    dtype=tf.dtypes.int32,\n",
    "    name=None,\n",
    "    layout=None\n",
    ")\n",
    "print(zeros_tensor)"
   ]
  },
  {
   "cell_type": "markdown",
   "id": "d3a69bee-a26b-47b8-9885-dc0d52ae3788",
   "metadata": {},
   "source": [
    "***"
   ]
  },
  {
   "cell_type": "markdown",
   "id": "b5d9e089-b22c-461c-a3b6-df0ed4c9eaeb",
   "metadata": {
    "jp-MarkdownHeadingCollapsed": true
   },
   "source": [
    "### **tf.shape**\n",
    "* **Returns a tensor containing the shape of the input tensor.**\n",
    "* **\"tf.shape\" returns a 1-D integer tensor representing the shape of input. For a scalar input, the tensor returned has a shape of (0,) and its value is the empty vector (i.e. []).**\n",
    "* **For more : https://www.tensorflow.org/api_docs/python/tf/shape**"
   ]
  },
  {
   "cell_type": "code",
   "execution_count": 146,
   "id": "35b32f49-fba6-4b8b-a82d-a92c40a882ae",
   "metadata": {},
   "outputs": [
    {
     "data": {
      "text/plain": [
       "<tf.Tensor: shape=(1,), dtype=int32, numpy=array([3])>"
      ]
     },
     "execution_count": 146,
     "metadata": {},
     "output_type": "execute_result"
    }
   ],
   "source": [
    "tf.shape(tensor_one_d)"
   ]
  },
  {
   "cell_type": "code",
   "execution_count": 147,
   "id": "d4deb407-8b51-4e7f-9365-fb718a8d96e7",
   "metadata": {},
   "outputs": [
    {
     "data": {
      "text/plain": [
       "<tf.Tensor: shape=(2,), dtype=int32, numpy=array([3, 3])>"
      ]
     },
     "execution_count": 147,
     "metadata": {},
     "output_type": "execute_result"
    }
   ],
   "source": [
    "tf.shape(tensor_two_d)"
   ]
  },
  {
   "cell_type": "code",
   "execution_count": 148,
   "id": "66da3444-0930-48fa-93cf-d60a889b9844",
   "metadata": {},
   "outputs": [
    {
     "data": {
      "text/plain": [
       "<tf.Tensor: shape=(3,), dtype=int32, numpy=array([4, 2, 3])>"
      ]
     },
     "execution_count": 148,
     "metadata": {},
     "output_type": "execute_result"
    }
   ],
   "source": [
    "tf.shape(tensor_three_d)"
   ]
  },
  {
   "cell_type": "code",
   "execution_count": 149,
   "id": "ef8003ca-111a-4635-8fbb-a9c26e44ebd0",
   "metadata": {},
   "outputs": [
    {
     "data": {
      "text/plain": [
       "<tf.Tensor: shape=(4,), dtype=int32, numpy=array([3, 4, 2, 3])>"
      ]
     },
     "execution_count": 149,
     "metadata": {},
     "output_type": "execute_result"
    }
   ],
   "source": [
    "tf.shape(tensor_four_d)"
   ]
  },
  {
   "cell_type": "markdown",
   "id": "7a8e1b78-89ce-453f-a19a-b222dc64c8d7",
   "metadata": {},
   "source": [
    "***"
   ]
  },
  {
   "cell_type": "markdown",
   "id": "fd055240-405f-469e-9075-0f4f85dc90c7",
   "metadata": {
    "jp-MarkdownHeadingCollapsed": true
   },
   "source": [
    "### **tf.size**\n",
    "* **Returns the size of a tensor.**\n",
    "* **Returns a 0-D Tensor representing the number of elements in input of type out_type. Defaults to tf.int32.**\n",
    "* **For more : https://www.tensorflow.org/api_docs/python/tf/size**"
   ]
  },
  {
   "cell_type": "code",
   "execution_count": 150,
   "id": "8839e711-7444-4631-962a-c7577d356539",
   "metadata": {},
   "outputs": [
    {
     "data": {
      "text/plain": [
       "<tf.Tensor: shape=(), dtype=int32, numpy=3>"
      ]
     },
     "execution_count": 150,
     "metadata": {},
     "output_type": "execute_result"
    }
   ],
   "source": [
    "tf.size(tensor_one_d)"
   ]
  },
  {
   "cell_type": "code",
   "execution_count": 151,
   "id": "a5b955e3-8778-4deb-9975-e18b5beb5f3a",
   "metadata": {},
   "outputs": [
    {
     "data": {
      "text/plain": [
       "<tf.Tensor: shape=(), dtype=int32, numpy=9>"
      ]
     },
     "execution_count": 151,
     "metadata": {},
     "output_type": "execute_result"
    }
   ],
   "source": [
    "tf.size(tensor_two_d)"
   ]
  },
  {
   "cell_type": "code",
   "execution_count": 152,
   "id": "e4026947-2484-43ef-9ead-d5884a08f947",
   "metadata": {},
   "outputs": [
    {
     "data": {
      "text/plain": [
       "<tf.Tensor: shape=(), dtype=int32, numpy=24>"
      ]
     },
     "execution_count": 152,
     "metadata": {},
     "output_type": "execute_result"
    }
   ],
   "source": [
    "tf.size(tensor_three_d)"
   ]
  },
  {
   "cell_type": "code",
   "execution_count": 153,
   "id": "a9efa177-533a-4e03-b35f-fe2eb6e2d6b3",
   "metadata": {},
   "outputs": [
    {
     "data": {
      "text/plain": [
       "<tf.Tensor: shape=(), dtype=int32, numpy=72>"
      ]
     },
     "execution_count": 153,
     "metadata": {},
     "output_type": "execute_result"
    }
   ],
   "source": [
    "tf.size(tensor_four_d)"
   ]
  },
  {
   "cell_type": "markdown",
   "id": "a1d27d42-aae1-4b62-bfea-fefb100b784c",
   "metadata": {},
   "source": [
    "***"
   ]
  },
  {
   "cell_type": "markdown",
   "id": "f1efd3f3-18cf-4318-9e37-fbbd30aadf64",
   "metadata": {
    "jp-MarkdownHeadingCollapsed": true
   },
   "source": [
    "### **tf.rank**\n",
    "* **Returns the rank of a tensor.**\n",
    "* **Returns a 0-D int32 Tensor representing the rank of input.**\n",
    "* **For more : https://www.tensorflow.org/api_docs/python/tf/rank**"
   ]
  },
  {
   "cell_type": "code",
   "execution_count": 154,
   "id": "f71698bd-4bb0-40c9-b2c1-11730585bb9c",
   "metadata": {},
   "outputs": [
    {
     "data": {
      "text/plain": [
       "<tf.Tensor: shape=(), dtype=int32, numpy=1>"
      ]
     },
     "execution_count": 154,
     "metadata": {},
     "output_type": "execute_result"
    }
   ],
   "source": [
    "tf.rank(tensor_one_d)"
   ]
  },
  {
   "cell_type": "code",
   "execution_count": 155,
   "id": "4c9dfb72-442d-4d2a-b05f-70bfc390acac",
   "metadata": {},
   "outputs": [
    {
     "data": {
      "text/plain": [
       "<tf.Tensor: shape=(), dtype=int32, numpy=2>"
      ]
     },
     "execution_count": 155,
     "metadata": {},
     "output_type": "execute_result"
    }
   ],
   "source": [
    "tf.rank(tensor_two_d)"
   ]
  },
  {
   "cell_type": "code",
   "execution_count": 156,
   "id": "d61b325b-7c0f-42ed-8c63-1134e88fd796",
   "metadata": {},
   "outputs": [
    {
     "data": {
      "text/plain": [
       "<tf.Tensor: shape=(), dtype=int32, numpy=3>"
      ]
     },
     "execution_count": 156,
     "metadata": {},
     "output_type": "execute_result"
    }
   ],
   "source": [
    "tf.rank(tensor_three_d)"
   ]
  },
  {
   "cell_type": "code",
   "execution_count": 157,
   "id": "e5222fbb-d27a-457f-ac67-a771a6de5d78",
   "metadata": {},
   "outputs": [
    {
     "data": {
      "text/plain": [
       "<tf.Tensor: shape=(), dtype=int32, numpy=4>"
      ]
     },
     "execution_count": 157,
     "metadata": {},
     "output_type": "execute_result"
    }
   ],
   "source": [
    "tf.rank(tensor_four_d)"
   ]
  },
  {
   "cell_type": "markdown",
   "id": "9686dd99-9fdf-4d67-987f-082955d96119",
   "metadata": {},
   "source": [
    "***"
   ]
  },
  {
   "cell_type": "markdown",
   "id": "f137852c-0da7-4860-8d0a-9ba1ca7108bb",
   "metadata": {
    "jp-MarkdownHeadingCollapsed": true
   },
   "source": [
    "## **3. Creating Random Valued Tensors**"
   ]
  },
  {
   "cell_type": "markdown",
   "id": "0c4b493f-b735-4308-8de0-ec921e3e65ab",
   "metadata": {
    "jp-MarkdownHeadingCollapsed": true
   },
   "source": [
    "### **tf.random.normal**"
   ]
  },
  {
   "cell_type": "markdown",
   "id": "2e35c0b8-656f-44af-af29-71d2b2559195",
   "metadata": {},
   "source": [
    "* **Returns a tensor of the specified shape filled with random normal values.**\n",
    "* **Outputs random values from a normal distribution.**\n",
    "* **_mean :_ A Tensor or Python value of type dtype, broadcastable with stddev. The mean of the normal distribution.**\n",
    "* **_stddev (Standard Deviation) :_ A Tensor or Python value of type dtype, broadcastable with mean. The standard deviation of the normal distribution.**\n",
    "* **Fro more : |https://www.tensorflow.org/api_docs/python/tf/random/normal**"
   ]
  },
  {
   "cell_type": "code",
   "execution_count": 158,
   "id": "fc97a5e2-85c5-4b4f-be59-4c5ddbd8daa4",
   "metadata": {},
   "outputs": [
    {
     "name": "stdout",
     "output_type": "stream",
     "text": [
      "tf.Tensor(\n",
      "[[-0.74723005 -0.16757095]\n",
      " [-0.50065     0.8923024 ]\n",
      " [-1.9395994  -1.0355854 ]], shape=(3, 2), dtype=float32)\n"
     ]
    }
   ],
   "source": [
    "random_tensor = tf.random.normal(\n",
    "    [3,2],\n",
    "    mean=0.0,\n",
    "    stddev=1.0,\n",
    "    dtype=tf.dtypes.float32,\n",
    "    seed=None,\n",
    "    name=None\n",
    ")\n",
    "print(random_tensor)"
   ]
  },
  {
   "cell_type": "markdown",
   "id": "55d63375-19d7-46bd-9ab9-29fa52f1049c",
   "metadata": {},
   "source": [
    "**The above values are very close to 0 because the mean is set to zero, if we inc./dec. the mean the values also gets inc./dec.**"
   ]
  },
  {
   "cell_type": "code",
   "execution_count": 159,
   "id": "c8d360e9-8b8e-4245-844f-82fd0c8d1785",
   "metadata": {},
   "outputs": [
    {
     "name": "stdout",
     "output_type": "stream",
     "text": [
      "tf.Tensor(\n",
      "[[100.22898  100.543655]\n",
      " [ 99.260124  99.50215 ]\n",
      " [ 99.023125  99.393906]], shape=(3, 2), dtype=float32)\n"
     ]
    }
   ],
   "source": [
    "random_tensor = tf.random.normal(\n",
    "    [3,2],\n",
    "    mean=100.0,\n",
    "    stddev=1.0,\n",
    "    dtype=tf.dtypes.float32,\n",
    "    seed=None,\n",
    "    name=None\n",
    ")\n",
    "print(random_tensor)"
   ]
  },
  {
   "attachments": {
    "d2f15446-21d3-47bc-8b3e-627e06de6dd8.png": {
     "image/png": "[encoded data removed]"
    }
   },
   "cell_type": "markdown",
   "id": "28eb1186-88a1-47a8-9254-8f25fd568996",
   "metadata": {},
   "source": [
    "![image.png](attachment:d2f15446-21d3-47bc-8b3e-627e06de6dd8.png)\n",
    "\n",
    "**Visit this website to analyze the normal distribution curve to understand the probability of choosing a random value and mean & Standard deviation relationship : https://www.acsu.buffalo.edu/~adamcunn/probability/normal.html**"
   ]
  },
  {
   "cell_type": "markdown",
   "id": "29a6ae88-5da9-41ac-b6d2-1a28a4bb50da",
   "metadata": {},
   "source": [
    "***"
   ]
  },
  {
   "cell_type": "markdown",
   "id": "da66c33a-7146-4f6d-8950-cf686d4f8abb",
   "metadata": {
    "jp-MarkdownHeadingCollapsed": true
   },
   "source": [
    "### **tf.random.uniform**"
   ]
  },
  {
   "cell_type": "markdown",
   "id": "ecef2101-1a67-4f5e-ad03-461c320106f5",
   "metadata": {},
   "source": [
    "* **Outputs random values from a uniform distribution.**\n",
    "* **The generated values follow a uniform distribution in the range [minval, maxval). The lower bound minval is included in the range, while the upper bound maxval is excluded.**\n",
    "* **For floats, the default range is [0, 1). For ints, at least maxval must be specified explicitly.**\n",
    "* **In the integer case, the random integers are slightly biased unless maxval - minval is an exact power of two. The bias is small for values of maxval - minval significantly smaller than the range of the output (either 2**32 or 2**64).**\n",
    "* **For more : https://www.tensorflow.org/api_docs/python/tf/random/uniform**"
   ]
  },
  {
   "cell_type": "code",
   "execution_count": 160,
   "id": "0092e271-8486-45f4-ad03-7b32f5dac2e9",
   "metadata": {},
   "outputs": [
    {
     "name": "stdout",
     "output_type": "stream",
     "text": [
      "tf.Tensor(\n",
      "[[0.42100918 0.6515975 ]\n",
      " [0.6228106  0.7709248 ]\n",
      " [0.74244404 0.81755483]], shape=(3, 2), dtype=float32)\n"
     ]
    }
   ],
   "source": [
    "random_tensor_uni = tf.random.uniform(\n",
    "    [3,2],\n",
    "    minval=0,\n",
    "    maxval=None,\n",
    "    dtype=tf.dtypes.float32,\n",
    "    seed=None,\n",
    "    name=None\n",
    ")\n",
    "print(random_tensor_uni)"
   ]
  },
  {
   "cell_type": "markdown",
   "id": "5d39858b-511c-4de0-82f0-9481dbf175d0",
   "metadata": {},
   "source": [
    "**_minval :_ A Tensor or Python value of type dtype, broadcastable with shape (for integer types, broadcasting is not supported, so it needs to be a scalar). The lower bound on the range of random values to generate (inclusive). Defaults to 0.**\n",
    "\n",
    "**_maxval :_ A Tensor or Python value of type dtype, broadcastable with shape (for integer types, broadcasting is not supported, so it needs to be a scalar). The upper bound on the range of random values to generate (exclusive). Defaults to 1 if dtype is floating point.**"
   ]
  },
  {
   "cell_type": "code",
   "execution_count": 161,
   "id": "43bb2ea6-3e5c-42bb-937b-96bf9224e6f3",
   "metadata": {},
   "outputs": [
    {
     "name": "stdout",
     "output_type": "stream",
     "text": [
      "tf.Tensor(\n",
      "[[18.230438  3.786385]\n",
      " [45.298553 67.51436 ]\n",
      " [36.02046   6.649351]], shape=(3, 2), dtype=float32)\n"
     ]
    }
   ],
   "source": [
    "# Let's change max value\n",
    "random_tensor_uni = tf.random.uniform(\n",
    "    [3,2],\n",
    "    minval=0,\n",
    "    maxval=100,\n",
    "    dtype=tf.dtypes.float32,\n",
    "    seed=None,\n",
    "    name=None\n",
    ")\n",
    "print(random_tensor_uni)"
   ]
  },
  {
   "attachments": {
    "9ce0c432-2223-4ed5-99e6-36a3c27d5b11.png": {
     "image/png": "[encoded data removed]"
    }
   },
   "cell_type": "markdown",
   "id": "1fd7e348-b005-433c-a411-0f90960a6edd",
   "metadata": {},
   "source": [
    "![image.png](attachment:9ce0c432-2223-4ed5-99e6-36a3c27d5b11.png)\n",
    "\n",
    "**Visit this website to analyze the Uniform distribution plot to understand the probability of choosing a random value and Min value & Max value relationship : https://www.acsu.buffalo.edu/~adamcunn/probability/uniform.html**"
   ]
  },
  {
   "cell_type": "markdown",
   "id": "58f33108-c312-491e-9f1a-79a959e00a4e",
   "metadata": {
    "jp-MarkdownHeadingCollapsed": true
   },
   "source": [
    "## **4. Indexing**\n",
    "* **Indexing in tensors allows to access and manipulate elements within the tensor.**"
   ]
  },
  {
   "cell_type": "markdown",
   "id": "9c143625-23a2-44f9-ad61-260f99963952",
   "metadata": {
    "jp-MarkdownHeadingCollapsed": true
   },
   "source": [
    "### **0-Dimensional Tensors**\n",
    "* **A 0-dimensional tensor is a scalar. So we can directly access it.**"
   ]
  },
  {
   "cell_type": "code",
   "execution_count": 73,
   "id": "f0ba1356-19c3-4661-a1dc-d45f970383a2",
   "metadata": {},
   "outputs": [
    {
     "name": "stdout",
     "output_type": "stream",
     "text": [
      "tf.Tensor([1 2 3 4 5], shape=(5,), dtype=int32)\n",
      "tf.Tensor(1, shape=(), dtype=int32)\n",
      "1\n",
      "tf.Tensor([2 3 4], shape=(3,), dtype=int32)\n",
      "[2 3 4]\n"
     ]
    }
   ],
   "source": [
    "tensor = tf.constant([1, 2, 3, 4, 5])\n",
    "print(tensor)\n",
    "\n",
    "print(tensor[0]) \n",
    "print(tensor[0].numpy())\n",
    "\n",
    "# Here outer value in range is exclusive\n",
    "print(tensor[1:4])\n",
    "# Return the actual value\n",
    "print(tensor[1:4].numpy())"
   ]
  },
  {
   "cell_type": "markdown",
   "id": "34ef8e68-a3a8-42fd-992c-e03072b63f2f",
   "metadata": {},
   "source": [
    "***"
   ]
  },
  {
   "cell_type": "markdown",
   "id": "c7cd1b0e-4ead-41c7-b559-a1af33373f58",
   "metadata": {
    "jp-MarkdownHeadingCollapsed": true
   },
   "source": [
    "### **2-Dimensional Tensors**"
   ]
  },
  {
   "cell_type": "code",
   "execution_count": 66,
   "id": "990a59cd-7364-45c9-9093-737e704a0253",
   "metadata": {},
   "outputs": [
    {
     "name": "stdout",
     "output_type": "stream",
     "text": [
      "tf.Tensor(1, shape=(), dtype=int32)\n",
      "1\n"
     ]
    }
   ],
   "source": [
    "matrix = tf.constant([[1, 2, 3], [4, 5, 6], [7, 8, 9]])\n",
    "\n",
    "# Accessing elements\n",
    "print(matrix[0, 0])\n",
    "print(matrix[0, 0].numpy())"
   ]
  },
  {
   "cell_type": "code",
   "execution_count": 65,
   "id": "66831322-6880-4bef-92e7-4ea1dea5eb2e",
   "metadata": {},
   "outputs": [
    {
     "name": "stdout",
     "output_type": "stream",
     "text": [
      "tf.Tensor(6, shape=(), dtype=int32)\n",
      "6\n"
     ]
    }
   ],
   "source": [
    "print(matrix[1, 2])\n",
    "\n",
    "print(matrix[1, 2].numpy())"
   ]
  },
  {
   "cell_type": "code",
   "execution_count": 64,
   "id": "0c0e2b3e-1c51-4788-bcbf-037737760742",
   "metadata": {},
   "outputs": [
    {
     "name": "stdout",
     "output_type": "stream",
     "text": [
      "tf.Tensor([2 5 8], shape=(3,), dtype=int32)\n",
      "[2 5 8]\n"
     ]
    }
   ],
   "source": [
    "# Slicing\n",
    "print(matrix[:, 1])\n",
    "\n",
    "print(matrix[:, 1].numpy())"
   ]
  },
  {
   "cell_type": "code",
   "execution_count": 63,
   "id": "689082a1-b2c9-4698-939d-74e08cf8f7f8",
   "metadata": {},
   "outputs": [
    {
     "name": "stdout",
     "output_type": "stream",
     "text": [
      "tf.Tensor([4 5 6], shape=(3,), dtype=int32)\n",
      "[4 5 6]\n"
     ]
    }
   ],
   "source": [
    "print(matrix[1, :])\n",
    "\n",
    "print(matrix[1, :].numpy())"
   ]
  },
  {
   "cell_type": "markdown",
   "id": "8798aebb-2426-4a72-93d8-251d5dc29b92",
   "metadata": {},
   "source": [
    "***"
   ]
  },
  {
   "cell_type": "markdown",
   "id": "6647995d-e3fd-4d70-9adb-fe37ecee03b4",
   "metadata": {
    "jp-MarkdownHeadingCollapsed": true
   },
   "source": [
    "### **3-Dimensional Tensors**"
   ]
  },
  {
   "cell_type": "code",
   "execution_count": 67,
   "id": "d58693cf-11dd-4b82-b403-f4c84a1479d0",
   "metadata": {},
   "outputs": [
    {
     "name": "stdout",
     "output_type": "stream",
     "text": [
      "tf.Tensor(\n",
      "[[[ 1  2  3]\n",
      "  [ 4  5  6]]\n",
      "\n",
      " [[ 7  8  9]\n",
      "  [10 11 12]]], shape=(2, 2, 3), dtype=int32)\n"
     ]
    }
   ],
   "source": [
    "tensor_3d = tf.constant([\n",
    "    [\n",
    "        [1, 2, 3],\n",
    "        [4, 5, 6]\n",
    "    ], \n",
    "    [\n",
    "        [7, 8, 9],\n",
    "        [10, 11, 12]\n",
    "    ]\n",
    "])\n",
    "print(tensor_3d)"
   ]
  },
  {
   "cell_type": "code",
   "execution_count": 68,
   "id": "44bb7661-0985-4a85-90ff-2aa9545707d7",
   "metadata": {},
   "outputs": [
    {
     "name": "stdout",
     "output_type": "stream",
     "text": [
      "tf.Tensor(6, shape=(), dtype=int32)\n",
      "6\n"
     ]
    }
   ],
   "source": [
    "# Accessing elements\n",
    "print(tensor_3d[0, 1, 2])\n",
    "\n",
    "print(tensor_3d[0, 1, 2].numpy())"
   ]
  },
  {
   "cell_type": "code",
   "execution_count": 69,
   "id": "b5f6bd7f-e5ba-4845-bbd7-9bc3fad7914e",
   "metadata": {},
   "outputs": [
    {
     "name": "stdout",
     "output_type": "stream",
     "text": [
      "tf.Tensor(8, shape=(), dtype=int32)\n",
      "8\n"
     ]
    }
   ],
   "source": [
    "print(tensor_3d[1, 0, 1])\n",
    "\n",
    "print(tensor_3d[1, 0, 1].numpy())"
   ]
  },
  {
   "cell_type": "code",
   "execution_count": 70,
   "id": "78f1761e-f8cd-4d8b-92b3-fe5c5d093529",
   "metadata": {},
   "outputs": [
    {
     "name": "stdout",
     "output_type": "stream",
     "text": [
      "tf.Tensor(\n",
      "[[1 2 3]\n",
      " [7 8 9]], shape=(2, 3), dtype=int32)\n",
      "[[1 2 3]\n",
      " [7 8 9]]\n"
     ]
    }
   ],
   "source": [
    "# Slicing\n",
    "print(tensor_3d[:, 0, :])\n",
    "\n",
    "print(tensor_3d[:, 0, :].numpy())"
   ]
  },
  {
   "cell_type": "code",
   "execution_count": 72,
   "id": "62559a83-85ae-41d2-83ea-57bd56367288",
   "metadata": {},
   "outputs": [
    {
     "name": "stdout",
     "output_type": "stream",
     "text": [
      "tf.Tensor(\n",
      "[[ 2  5]\n",
      " [ 8 11]], shape=(2, 2), dtype=int32)\n",
      "[[ 2  5]\n",
      " [ 8 11]]\n"
     ]
    }
   ],
   "source": [
    "print(tensor_3d[:, :, 1])\n",
    "\n",
    "print(tensor_3d[:, :, 1].numpy())"
   ]
  },
  {
   "cell_type": "markdown",
   "id": "e5e835f8-3a11-4c50-bdde-7636cda8a4b7",
   "metadata": {},
   "source": [
    "***"
   ]
  },
  {
   "cell_type": "markdown",
   "id": "3cd620fa-1e09-40eb-bc27-9e2ff7a52a76",
   "metadata": {
    "jp-MarkdownHeadingCollapsed": true
   },
   "source": [
    "### **4-Dimensional Tensors**"
   ]
  },
  {
   "cell_type": "code",
   "execution_count": 75,
   "id": "fa7d71bd-6359-4921-9f60-443559ccf842",
   "metadata": {},
   "outputs": [
    {
     "name": "stdout",
     "output_type": "stream",
     "text": [
      "tf.Tensor(\n",
      "[[[[9 1]\n",
      "   [7 1]]\n",
      "\n",
      "  [[9 6]\n",
      "   [9 7]]]\n",
      "\n",
      "\n",
      " [[[9 9]\n",
      "   [6 5]]\n",
      "\n",
      "  [[8 3]\n",
      "   [7 8]]]], shape=(2, 2, 2, 2), dtype=int32)\n"
     ]
    }
   ],
   "source": [
    "tensor_4d = tf.random.uniform(\n",
    "    [2,2,2,2],\n",
    "    minval=0,\n",
    "    maxval=10,\n",
    "    dtype=tf.dtypes.int32,\n",
    "    seed=None,\n",
    "    name=None\n",
    ")\n",
    "print(tensor_4d)"
   ]
  },
  {
   "cell_type": "code",
   "execution_count": 76,
   "id": "b9c0208c-5648-4a1a-b97d-b97f6d0e9a26",
   "metadata": {},
   "outputs": [
    {
     "name": "stdout",
     "output_type": "stream",
     "text": [
      "tf.Tensor(9, shape=(), dtype=int32)\n",
      "9\n"
     ]
    }
   ],
   "source": [
    "# Accessing elements\n",
    "print(tensor_4d[0, 0, 0, 0])\n",
    "\n",
    "print(tensor_4d[0, 0, 0, 0].numpy())"
   ]
  },
  {
   "cell_type": "code",
   "execution_count": 78,
   "id": "605d2b5c-6fd8-4b2a-a95b-e9f4bcf58b71",
   "metadata": {},
   "outputs": [
    {
     "name": "stdout",
     "output_type": "stream",
     "text": [
      "tf.Tensor(8, shape=(), dtype=int32)\n",
      "8\n"
     ]
    }
   ],
   "source": [
    "print(tensor_4d[1, 1, 1, 1])\n",
    "\n",
    "print(tensor_4d[1, 1, 1, 1].numpy())"
   ]
  },
  {
   "cell_type": "code",
   "execution_count": 79,
   "id": "2385c7b3-093c-4e78-9aa5-fd0daa7c394a",
   "metadata": {},
   "outputs": [
    {
     "name": "stdout",
     "output_type": "stream",
     "text": [
      "tf.Tensor(\n",
      "[[9 1]\n",
      " [9 9]], shape=(2, 2), dtype=int32)\n",
      "[[9 1]\n",
      " [9 9]]\n"
     ]
    }
   ],
   "source": [
    "# Slicing\n",
    "print(tensor_4d[:, 0, 0, :])\n",
    "\n",
    "print(tensor_4d[:, 0, 0, :].numpy())"
   ]
  },
  {
   "cell_type": "code",
   "execution_count": 80,
   "id": "7b4bcd48-fa6d-41a2-bafe-f0baf0375e7c",
   "metadata": {},
   "outputs": [
    {
     "name": "stdout",
     "output_type": "stream",
     "text": [
      "tf.Tensor(\n",
      "[[1 1]\n",
      " [6 7]], shape=(2, 2), dtype=int32)\n",
      "[[1 1]\n",
      " [6 7]]\n"
     ]
    }
   ],
   "source": [
    "print(tensor_4d[0, :, :, 1])\n",
    "\n",
    "print(tensor_4d[0, :, :, 1].numpy())"
   ]
  },
  {
   "cell_type": "markdown",
   "id": "92be4efd-3c09-4e20-8493-168bc591b413",
   "metadata": {},
   "source": [
    "***"
   ]
  },
  {
   "cell_type": "markdown",
   "id": "050f0dcd-066f-4f2e-9132-11e818ee315d",
   "metadata": {
    "jp-MarkdownHeadingCollapsed": true
   },
   "source": [
    "## **5. Math Operations in TensorFlow**"
   ]
  },
  {
   "cell_type": "markdown",
   "id": "a3b18c22-b4bc-469a-bc10-deb3fb8664b6",
   "metadata": {
    "jp-MarkdownHeadingCollapsed": true
   },
   "source": [
    "### **tf.math.abs**\n",
    "* **Computes the absolute value of a tensor.**\n",
    "* **For more : https://www.tensorflow.org/api_docs/python/tf/math/abs**"
   ]
  },
  {
   "cell_type": "code",
   "execution_count": 83,
   "id": "a9329ceb-7b60-4ba7-a700-6a75cdebe1e6",
   "metadata": {},
   "outputs": [
    {
     "data": {
      "text/plain": [
       "<tf.Tensor: shape=(), dtype=int32, numpy=2>"
      ]
     },
     "execution_count": 83,
     "metadata": {},
     "output_type": "execute_result"
    }
   ],
   "source": [
    "# Make negative num to positive\n",
    "tensor = tf.constant(-2)\n",
    "tf.math.abs(tensor)"
   ]
  },
  {
   "cell_type": "code",
   "execution_count": 84,
   "id": "bc64c31b-50ba-40c1-abc4-408523631236",
   "metadata": {},
   "outputs": [
    {
     "data": {
      "text/plain": [
       "2"
      ]
     },
     "execution_count": 84,
     "metadata": {},
     "output_type": "execute_result"
    }
   ],
   "source": [
    "tf.math.abs(tensor).numpy()"
   ]
  },
  {
   "cell_type": "markdown",
   "id": "64473d83-f83b-4dad-9514-a42f9983e37d",
   "metadata": {},
   "source": [
    "* **Given a tensor of integer or floating-point values, this operation returns a tensor of the same type, where each element contains the absolute value of the corresponding element in the input.**\n",
    "* **Given a tensor x of complex numbers, this operation returns a tensor of type float32 or float64 that is the absolute value of each element in x. For a complex number (a + bj), its absolute value is computed as \n",
    "sqrt(a^2 + b^2).**"
   ]
  },
  {
   "cell_type": "code",
   "execution_count": 85,
   "id": "f6b349c5-db50-4c36-9722-666875ad17d4",
   "metadata": {},
   "outputs": [
    {
     "data": {
      "text/plain": [
       "<tf.Tensor: shape=(), dtype=float64, numpy=3.605551275463989>"
      ]
     },
     "execution_count": 85,
     "metadata": {},
     "output_type": "execute_result"
    }
   ],
   "source": [
    "tensor = tf.constant(2+3j)\n",
    "tf.math.abs(tensor)"
   ]
  },
  {
   "cell_type": "code",
   "execution_count": 86,
   "id": "8293db89-f1cd-4662-9e8b-8de2e6ec3b94",
   "metadata": {},
   "outputs": [
    {
     "data": {
      "text/plain": [
       "3.605551275463989"
      ]
     },
     "execution_count": 86,
     "metadata": {},
     "output_type": "execute_result"
    }
   ],
   "source": [
    "tf.math.abs(tensor).numpy()"
   ]
  },
  {
   "cell_type": "markdown",
   "id": "59473456-03a8-48bc-ad97-977a1248f602",
   "metadata": {},
   "source": [
    "***"
   ]
  },
  {
   "cell_type": "markdown",
   "id": "ace07e78-e775-44ec-a312-a4ebf502d9fc",
   "metadata": {
    "jp-MarkdownHeadingCollapsed": true
   },
   "source": [
    "### **tf.math.add**\n",
    "* **Returns x + y element-wise.**\n",
    "* **For more : https://www.tensorflow.org/api_docs/python/tf/math/add**"
   ]
  },
  {
   "cell_type": "code",
   "execution_count": 87,
   "id": "f8be6735-ffb2-4926-87b6-c258785a13c9",
   "metadata": {},
   "outputs": [
    {
     "data": {
      "text/plain": [
       "<tf.Tensor: shape=(3,), dtype=int32, numpy=array([5, 7, 9])>"
      ]
     },
     "execution_count": 87,
     "metadata": {},
     "output_type": "execute_result"
    }
   ],
   "source": [
    "x = tf.constant([1,2,3])\n",
    "y = tf.constant([4,5,6])\n",
    "\n",
    "tf.math.add(x, y)"
   ]
  },
  {
   "cell_type": "code",
   "execution_count": 88,
   "id": "379742e7-1cff-4597-ae16-ac7b2fafecfb",
   "metadata": {},
   "outputs": [
    {
     "data": {
      "text/plain": [
       "<tf.Tensor: shape=(3,), dtype=int32, numpy=array([5, 7, 9])>"
      ]
     },
     "execution_count": 88,
     "metadata": {},
     "output_type": "execute_result"
    }
   ],
   "source": [
    "# Binary + operator can be used instead:\n",
    "x + y"
   ]
  },
  {
   "cell_type": "code",
   "execution_count": 90,
   "id": "4879f7d7-63e4-42cb-a367-7bb7507c411e",
   "metadata": {},
   "outputs": [
    {
     "data": {
      "text/plain": [
       "<tf.Tensor: shape=(3,), dtype=int32, numpy=array([2, 3, 4])>"
      ]
     },
     "execution_count": 90,
     "metadata": {},
     "output_type": "execute_result"
    }
   ],
   "source": [
    "# Adding a scalar and a list:\n",
    "scalar = tf.constant(1)\n",
    "tf.math.add(x, scalar)"
   ]
  },
  {
   "cell_type": "markdown",
   "id": "22d6bc88-da27-4a26-8e3a-ebeca6a4a8d0",
   "metadata": {},
   "source": [
    "***"
   ]
  },
  {
   "cell_type": "markdown",
   "id": "8e633cc3-00ed-4306-b320-daece80b183b",
   "metadata": {
    "jp-MarkdownHeadingCollapsed": true
   },
   "source": [
    "### **tf.math.subtract**\n",
    "* **Returns x - y element-wise.**\n",
    "* **For more : https://www.tensorflow.org/api_docs/python/tf/math/subtract**"
   ]
  },
  {
   "cell_type": "code",
   "execution_count": 92,
   "id": "357fad83-f6e2-431f-9a38-6e40f46599dc",
   "metadata": {},
   "outputs": [
    {
     "data": {
      "text/plain": [
       "<tf.Tensor: shape=(3,), dtype=int32, numpy=array([-3, -3, -3])>"
      ]
     },
     "execution_count": 92,
     "metadata": {},
     "output_type": "execute_result"
    }
   ],
   "source": [
    "tf.math.subtract(x, y)"
   ]
  },
  {
   "cell_type": "code",
   "execution_count": 93,
   "id": "af0fcdcf-c638-46f7-8c63-4ea7e5218a4f",
   "metadata": {},
   "outputs": [
    {
     "data": {
      "text/plain": [
       "<tf.Tensor: shape=(3,), dtype=int32, numpy=array([-3, -3, -3])>"
      ]
     },
     "execution_count": 93,
     "metadata": {},
     "output_type": "execute_result"
    }
   ],
   "source": [
    "x - y"
   ]
  },
  {
   "cell_type": "markdown",
   "id": "7ff8b76c-19ea-43eb-95e3-d5c196df9d91",
   "metadata": {},
   "source": [
    "**It have similar operations like add.**\n",
    "***"
   ]
  },
  {
   "cell_type": "markdown",
   "id": "50bec6d4-96a7-43d5-89e9-c82ac17063a7",
   "metadata": {
    "jp-MarkdownHeadingCollapsed": true
   },
   "source": [
    "### **tf.math.multiply**\n",
    "* **Returns an element-wise x * y.**\n",
    "* **For more : https://www.tensorflow.org/api_docs/python/tf/math/multiply**"
   ]
  },
  {
   "cell_type": "code",
   "execution_count": 94,
   "id": "0b326f23-05fc-48b8-8595-37f0f461b208",
   "metadata": {},
   "outputs": [
    {
     "data": {
      "text/plain": [
       "<tf.Tensor: shape=(3,), dtype=int32, numpy=array([ 4, 10, 18])>"
      ]
     },
     "execution_count": 94,
     "metadata": {},
     "output_type": "execute_result"
    }
   ],
   "source": [
    "tf.math.multiply(x, y)"
   ]
  },
  {
   "cell_type": "code",
   "execution_count": 95,
   "id": "a497864e-a43f-4f56-94ec-5f4a169ab5a3",
   "metadata": {},
   "outputs": [
    {
     "data": {
      "text/plain": [
       "<tf.Tensor: shape=(3,), dtype=int32, numpy=array([ 4, 10, 18])>"
      ]
     },
     "execution_count": 95,
     "metadata": {},
     "output_type": "execute_result"
    }
   ],
   "source": [
    "x * y"
   ]
  },
  {
   "cell_type": "markdown",
   "id": "0408df94-fd13-4c4c-8684-7fff9d5de419",
   "metadata": {},
   "source": [
    "***"
   ]
  },
  {
   "cell_type": "markdown",
   "id": "9870ed7b-ab72-4afe-8406-edabcf9a8016",
   "metadata": {
    "jp-MarkdownHeadingCollapsed": true
   },
   "source": [
    "### **tf.math.divide**\n",
    "* **Computes Python style division of x by y.**\n",
    "* **For more : https://www.tensorflow.org/api_docs/python/tf/math/divide**"
   ]
  },
  {
   "cell_type": "code",
   "execution_count": 96,
   "id": "1ef4e6dc-64e2-458c-929a-ffadc9eb1044",
   "metadata": {},
   "outputs": [
    {
     "data": {
      "text/plain": [
       "<tf.Tensor: shape=(3,), dtype=float64, numpy=array([0.25, 0.4 , 0.5 ])>"
      ]
     },
     "execution_count": 96,
     "metadata": {},
     "output_type": "execute_result"
    }
   ],
   "source": [
    "tf.math.divide(x,y)"
   ]
  },
  {
   "cell_type": "code",
   "execution_count": 98,
   "id": "8604a9ed-a9b5-44b9-843a-b805c44c8219",
   "metadata": {},
   "outputs": [
    {
     "data": {
      "text/plain": [
       "<tf.Tensor: shape=(3,), dtype=float64, numpy=array([0.25, 0.4 , 0.5 ])>"
      ]
     },
     "execution_count": 98,
     "metadata": {},
     "output_type": "execute_result"
    }
   ],
   "source": [
    "x / y"
   ]
  },
  {
   "cell_type": "markdown",
   "id": "3882b336-6207-49b2-8689-8921893289d5",
   "metadata": {},
   "source": [
    "**On dividing with zero return infinity.**"
   ]
  },
  {
   "cell_type": "code",
   "execution_count": 103,
   "id": "40d9096f-c433-45cf-bdcd-0646a92ce5fd",
   "metadata": {},
   "outputs": [
    {
     "name": "stdout",
     "output_type": "stream",
     "text": [
      "tf.Tensor([inf inf inf], shape=(3,), dtype=float64)\n",
      "[inf inf inf]\n"
     ]
    }
   ],
   "source": [
    "scalar = tf.constant(0)\n",
    "print(tf.math.divide(x, scalar))\n",
    "print(tf.math.divide(x, scalar).numpy())"
   ]
  },
  {
   "cell_type": "markdown",
   "id": "70e59efc-5f47-4f09-a8e6-1c40605acd55",
   "metadata": {},
   "source": [
    "***"
   ]
  },
  {
   "cell_type": "markdown",
   "id": "d835cfdd-7b7b-4a9c-a232-4285c8dcfb24",
   "metadata": {},
   "source": [
    "### **tf.math.divide_no_nan**\n",
    "* **Computes a safe divide which returns 0 if y (denominator) is zero.**\n",
    "* **For more : https://www.tensorflow.org/api_docs/python/tf/math/divide_no_nan**"
   ]
  },
  {
   "cell_type": "markdown",
   "id": "bc60beb5-c340-4c3a-b603-ed23a23c4c3a",
   "metadata": {
    "jp-MarkdownHeadingCollapsed": true
   },
   "source": [
    "### **tf.math.maximum**\n",
    "* **Returns the max of x and y (i.e. x > y ? x : y) element-wise.**\n",
    "* **For more : https://www.tensorflow.org/api_docs/python/tf/math/maximum**"
   ]
  },
  {
   "cell_type": "code",
   "execution_count": 106,
   "id": "61e56f42-c632-47b3-a8b8-122b19e0a2fc",
   "metadata": {},
   "outputs": [
    {
     "data": {
      "text/plain": [
       "<tf.Tensor: shape=(3,), dtype=int32, numpy=array([4, 5, 6])>"
      ]
     },
     "execution_count": 106,
     "metadata": {},
     "output_type": "execute_result"
    }
   ],
   "source": [
    "tf.math.maximum(x,y)"
   ]
  },
  {
   "cell_type": "markdown",
   "id": "406f6de0-3d37-4418-92fe-5abbf1d7d90b",
   "metadata": {},
   "source": [
    "***"
   ]
  },
  {
   "cell_type": "markdown",
   "id": "5419de09-783c-4434-bf06-6e1056609d8d",
   "metadata": {
    "jp-MarkdownHeadingCollapsed": true
   },
   "source": [
    "### **tf.math.minimum**\n",
    "* **Returns the min of x and y (i.e. x < y ? x : y) element-wise.**\n",
    "* **For more : https://www.tensorflow.org/api_docs/python/tf/math/minimum**"
   ]
  },
  {
   "cell_type": "code",
   "execution_count": 107,
   "id": "2b3098e9-4086-4e3a-bb24-34fe18747f22",
   "metadata": {},
   "outputs": [
    {
     "data": {
      "text/plain": [
       "<tf.Tensor: shape=(3,), dtype=int32, numpy=array([1, 2, 3])>"
      ]
     },
     "execution_count": 107,
     "metadata": {},
     "output_type": "execute_result"
    }
   ],
   "source": [
    "tf.math.minimum(x, y)"
   ]
  },
  {
   "cell_type": "markdown",
   "id": "57309929-16f8-49d7-bc0c-08b61d83966f",
   "metadata": {
    "jp-MarkdownHeadingCollapsed": true
   },
   "source": [
    "### **tf.math.argmax**\n",
    "* **Returns the index with the largest value across axes of a tensor.**\n",
    "* **For more : https://www.tensorflow.org/api_docs/python/tf/math/argmax**    "
   ]
  },
  {
   "cell_type": "code",
   "execution_count": 108,
   "id": "fdab8e35-5c85-4cc7-b4e3-841aa306efc5",
   "metadata": {},
   "outputs": [
    {
     "data": {
      "text/plain": [
       "<tf.Tensor: shape=(), dtype=int64, numpy=2>"
      ]
     },
     "execution_count": 108,
     "metadata": {},
     "output_type": "execute_result"
    }
   ],
   "source": [
    "tf.math.argmax(\n",
    "    x,\n",
    "    axis=None,\n",
    "    output_type=tf.dtypes.int64,\n",
    "    name=None\n",
    ")"
   ]
  },
  {
   "cell_type": "markdown",
   "id": "1aebda56-15c2-49c5-a2ba-4296280fd0a5",
   "metadata": {},
   "source": [
    "* **For 2D or more dimensional tensor, we can also set the axis as per requirement.**\n",
    "* **_Axis :_\tAn integer, the axis to reduce across. Default to 0.**"
   ]
  },
  {
   "cell_type": "code",
   "execution_count": 112,
   "id": "d2e23046-5ffb-4b63-ad6b-432a740de9cb",
   "metadata": {},
   "outputs": [
    {
     "data": {
      "text/plain": [
       "<tf.Tensor: shape=(2, 3), dtype=int64, numpy=\n",
       "array([[2, 3, 2],\n",
       "       [2, 1, 3]], dtype=int64)>"
      ]
     },
     "execution_count": 112,
     "metadata": {},
     "output_type": "execute_result"
    }
   ],
   "source": [
    "tf.math.argmax(\n",
    "    tensor_three_d,\n",
    "    axis=None,\n",
    "    output_type=tf.dtypes.int64,\n",
    "    name=None\n",
    ")"
   ]
  },
  {
   "cell_type": "code",
   "execution_count": 113,
   "id": "28079c04-53e3-4d50-bebf-e927a6257d14",
   "metadata": {},
   "outputs": [
    {
     "data": {
      "text/plain": [
       "<tf.Tensor: shape=(4, 3), dtype=int64, numpy=\n",
       "array([[1, 0, 1],\n",
       "       [1, 0, 0],\n",
       "       [1, 1, 0],\n",
       "       [1, 0, 1]], dtype=int64)>"
      ]
     },
     "execution_count": 113,
     "metadata": {},
     "output_type": "execute_result"
    }
   ],
   "source": [
    "tf.math.argmax(\n",
    "    tensor_three_d,\n",
    "    axis=1,\n",
    "    output_type=tf.dtypes.int64,\n",
    "    name=None\n",
    ")"
   ]
  },
  {
   "cell_type": "markdown",
   "id": "45c43726-f7fd-4a16-bc16-a88362f37d6e",
   "metadata": {},
   "source": [
    "***"
   ]
  },
  {
   "cell_type": "markdown",
   "id": "9e597c09-4e02-4b7d-9a26-0ebad9ad6221",
   "metadata": {
    "jp-MarkdownHeadingCollapsed": true
   },
   "source": [
    "### **tf.math.argmin**\n",
    "* **Returns the index with the smallest value across axes of a tensor.**\n",
    "* **For more : https://www.tensorflow.org/api_docs/python/tf/math/argmin**"
   ]
  },
  {
   "cell_type": "code",
   "execution_count": 114,
   "id": "8550f0e3-0c1a-495f-94ba-5b1bdce98aea",
   "metadata": {},
   "outputs": [
    {
     "data": {
      "text/plain": [
       "<tf.Tensor: shape=(), dtype=int64, numpy=0>"
      ]
     },
     "execution_count": 114,
     "metadata": {},
     "output_type": "execute_result"
    }
   ],
   "source": [
    "tf.math.argmin(\n",
    "    x,\n",
    "    axis=None,\n",
    "    output_type=tf.dtypes.int64,\n",
    "    name=None\n",
    ")"
   ]
  },
  {
   "cell_type": "markdown",
   "id": "5cf0f8e7-d563-45ad-9f73-d453ac5b3d12",
   "metadata": {},
   "source": [
    "***"
   ]
  },
  {
   "cell_type": "markdown",
   "id": "73a07146-96be-4193-af64-4c335001bd4e",
   "metadata": {
    "jp-MarkdownHeadingCollapsed": true
   },
   "source": [
    "### **tf.math.equal**\n",
    "* **Returns the truth value of (x == y) element-wise.**\n",
    "* **For more : https://www.tensorflow.org/api_docs/python/tf/math/equal**"
   ]
  },
  {
   "cell_type": "code",
   "execution_count": 115,
   "id": "dd3cbda9-e57e-4b4e-88d6-76513cce1042",
   "metadata": {},
   "outputs": [
    {
     "data": {
      "text/plain": [
       "<tf.Tensor: shape=(3,), dtype=bool, numpy=array([False, False, False])>"
      ]
     },
     "execution_count": 115,
     "metadata": {},
     "output_type": "execute_result"
    }
   ],
   "source": [
    "tf.math.equal(x, y)"
   ]
  },
  {
   "cell_type": "markdown",
   "id": "15279cac-7cc6-4b48-b065-682ca78ab872",
   "metadata": {},
   "source": [
    "***"
   ]
  },
  {
   "cell_type": "markdown",
   "id": "aa35f690-c92e-4bea-b69c-d165766316f3",
   "metadata": {
    "jp-MarkdownHeadingCollapsed": true
   },
   "source": [
    "### **tf.math.reduce_max**\n",
    "* **Computes tf.math.maximum of elements across dimensions of a tensor.**\n",
    "* **For more : https://www.tensorflow.org/api_docs/python/tf/math/reduce_max**"
   ]
  },
  {
   "cell_type": "code",
   "execution_count": 116,
   "id": "fd46f8d9-0708-4942-a9aa-5963bd1ebf34",
   "metadata": {},
   "outputs": [
    {
     "data": {
      "text/plain": [
       "<tf.Tensor: shape=(), dtype=int32, numpy=3>"
      ]
     },
     "execution_count": 116,
     "metadata": {},
     "output_type": "execute_result"
    }
   ],
   "source": [
    "tf.math.reduce_max(\n",
    "    x, axis=None, keepdims=False, name=None\n",
    ")"
   ]
  },
  {
   "cell_type": "markdown",
   "id": "88691359-7a57-45d6-9e77-d35d7a11e60e",
   "metadata": {},
   "source": [
    "* **_input_tensor :_ The tensor to reduce. Should have real numeric type.**\n",
    "* **_Axis :_ The dimensions to reduce. If None (the default), reduces all dimensions. Must be in the range [-rank(input_tensor),rank(input_tensor)).**\n",
    "* **_keepdims :_ If true, retains reduced dimensions with length 1.**\n",
    "* **_name :_ A name for the operation (optional).**\n",
    "***"
   ]
  },
  {
   "cell_type": "markdown",
   "id": "a9e68d5c-073b-418c-864f-22680dc6b9a1",
   "metadata": {
    "jp-MarkdownHeadingCollapsed": true
   },
   "source": [
    "### **tf.math.reduce_min**\n",
    "* **Computes the tf.math.minimum of elements across dimensions of a tensor.**\n",
    "* **For more : https://www.tensorflow.org/api_docs/python/tf/math/reduce_min**"
   ]
  },
  {
   "cell_type": "code",
   "execution_count": 119,
   "id": "27afd72f-20d9-4ace-9614-f2d8dfdec02d",
   "metadata": {},
   "outputs": [
    {
     "data": {
      "text/plain": [
       "<tf.Tensor: shape=(), dtype=int32, numpy=1>"
      ]
     },
     "execution_count": 119,
     "metadata": {},
     "output_type": "execute_result"
    }
   ],
   "source": [
    "x = tf.constant([\n",
    "  [[1, 2], [3, 4]],\n",
    "  [[1, 2], [3, 4]]\n",
    "])\n",
    "tf.reduce_min(x)"
   ]
  },
  {
   "cell_type": "markdown",
   "id": "820c73b4-c31e-43ea-97f7-c1bd9877bf66",
   "metadata": {},
   "source": [
    "***"
   ]
  },
  {
   "cell_type": "markdown",
   "id": "1345164e-7e47-4590-be29-c844a78408d6",
   "metadata": {
    "jp-MarkdownHeadingCollapsed": true
   },
   "source": [
    "### **tf.math.top_k**\n",
    "* **Finds values and indices of the k largest entries for the last dimension.**\n",
    "* **For more : https://www.tensorflow.org/api_docs/python/tf/math/top_k**"
   ]
  },
  {
   "cell_type": "code",
   "execution_count": 120,
   "id": "6d04d239-3997-4a2f-b5a5-61bd9a4dd5ea",
   "metadata": {},
   "outputs": [
    {
     "data": {
      "text/plain": [
       "TopKV2(values=<tf.Tensor: shape=(2, 2, 1), dtype=int32, numpy=\n",
       "array([[[2],\n",
       "        [4]],\n",
       "\n",
       "       [[2],\n",
       "        [4]]])>, indices=<tf.Tensor: shape=(2, 2, 1), dtype=int32, numpy=\n",
       "array([[[1],\n",
       "        [1]],\n",
       "\n",
       "       [[1],\n",
       "        [1]]])>)"
      ]
     },
     "execution_count": 120,
     "metadata": {},
     "output_type": "execute_result"
    }
   ],
   "source": [
    "tf.math.top_k(\n",
    "    x,\n",
    "    k=1,\n",
    "    sorted=True,\n",
    "    index_type=tf.dtypes.int32,\n",
    "    name=None\n",
    ")"
   ]
  },
  {
   "cell_type": "markdown",
   "id": "6860850f-4148-481a-bd70-28c6bba6f300",
   "metadata": {},
   "source": [
    "***"
   ]
  },
  {
   "attachments": {
    "db578411-d7d1-4c78-9c96-0f2ca0655942.png": {
     "image/png": "[encoded data removed]"
    }
   },
   "cell_type": "markdown",
   "id": "28cc1dc6-49b5-4e1a-b126-af015f2e6699",
   "metadata": {
    "jp-MarkdownHeadingCollapsed": true
   },
   "source": [
    "### **tf.math.sigmoid**\n",
    "* **Computes sigmoid of x element-wise.**\n",
    "* **For more : https://www.tensorflow.org/api_docs/python/tf/math/sigmoid**\n",
    "  ![image.png](attachment:db578411-d7d1-4c78-9c96-0f2ca0655942.png)"
   ]
  },
  {
   "cell_type": "code",
   "execution_count": 121,
   "id": "3662fe5a-28cb-4434-aecf-d536fb86b6ad",
   "metadata": {},
   "outputs": [
    {
     "data": {
      "text/plain": [
       "<tf.Tensor: shape=(4,), dtype=float32, numpy=array([0.5      , 0.7310586, 1.       , 1.       ], dtype=float32)>"
      ]
     },
     "execution_count": 121,
     "metadata": {},
     "output_type": "execute_result"
    }
   ],
   "source": [
    "x = tf.constant([0.0, 1.0, 50.0, 100.0])\n",
    "tf.math.sigmoid(x)"
   ]
  },
  {
   "cell_type": "markdown",
   "id": "41e873a9-5a93-4d72-83bc-2414973a9875",
   "metadata": {},
   "source": [
    "***"
   ]
  },
  {
   "cell_type": "markdown",
   "id": "56cfdd82-428e-445b-b3a4-610acd36b665",
   "metadata": {},
   "source": [
    "## 6. Linear Algebra Operations in TensorFlow"
   ]
  },
  {
   "cell_type": "code",
   "execution_count": null,
   "id": "80cb8e81-5184-44d1-8eaa-25223e65d0c4",
   "metadata": {},
   "outputs": [],
   "source": []
  }
 ],
 "metadata": {
  "kernelspec": {
   "display_name": "Python 3 (ipykernel)",
   "language": "python",
   "name": "python3"
  },
  "language_info": {
   "codemirror_mode": {
    "name": "ipython",
    "version": 3
   },
   "file_extension": ".py",
   "mimetype": "text/x-python",
   "name": "python",
   "nbconvert_exporter": "python",
   "pygments_lexer": "ipython3",
   "version": "3.11.9"
  }
 },
 "nbformat": 4,
 "nbformat_minor": 5
}
